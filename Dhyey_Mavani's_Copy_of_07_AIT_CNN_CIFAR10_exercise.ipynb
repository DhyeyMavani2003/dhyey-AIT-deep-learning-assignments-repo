{
  "nbformat": 4,
  "nbformat_minor": 0,
  "metadata": {
    "anaconda-cloud": {},
    "kernelspec": {
      "display_name": "Python 3",
      "language": "python",
      "name": "python3"
    },
    "language_info": {
      "codemirror_mode": {
        "name": "ipython",
        "version": 3
      },
      "file_extension": ".py",
      "mimetype": "text/x-python",
      "name": "python",
      "nbconvert_exporter": "python",
      "pygments_lexer": "ipython3",
      "version": "3.6.6"
    },
    "colab": {
      "provenance": [],
      "include_colab_link": true
    },
    "accelerator": "GPU"
  },
  "cells": [
    {
      "cell_type": "markdown",
      "metadata": {
        "id": "view-in-github",
        "colab_type": "text"
      },
      "source": [
        "<a href=\"https://colab.research.google.com/github/DhyeyMavani2003/dhyey-AIT-deep-learning-assignments-repo/blob/main/Dhyey_Mavani's_Copy_of_07_AIT_CNN_CIFAR10_exercise.ipynb\" target=\"_parent\"><img src=\"https://colab.research.google.com/assets/colab-badge.svg\" alt=\"Open In Colab\"/></a>"
      ]
    },
    {
      "cell_type": "markdown",
      "metadata": {
        "id": "cW-EyI5Lxpqi"
      },
      "source": [
        "# Copyright\n",
        "\n",
        "<PRE>\n",
        "Copyright (c) 2024 Bálint Gyires-Tóth - All Rights Reserved\n",
        "You may use and modify this code for research and development purpuses.\n",
        "Using this code for educational purposes (self-paced or instructor led) without the permission of the author is prohibited.\n",
        "</PRE>"
      ]
    },
    {
      "cell_type": "markdown",
      "source": [
        "# Convolutional Neural Network exercise\n",
        "\n",
        "In this notebook, you will build a convolutional neural network, which offers superior results over the previous MLP solution. Additionally, you will perform a more detailed evaluation."
      ],
      "metadata": {
        "id": "3EX4cCa4WKJu"
      }
    },
    {
      "cell_type": "code",
      "source": [
        "# imports\n",
        "from tensorflow.keras.datasets import cifar10\n",
        "from tensorflow.keras.utils import to_categorical\n",
        "import numpy as np\n",
        "import matplotlib.pyplot as plt\n",
        "from tensorflow.keras.models import Sequential\n",
        "from tensorflow.keras.layers import Dense, Conv2D, MaxPool2D, Flatten, Dropout, BatchNormalization\n",
        "from tensorflow.keras.initializers import HeNormal\n",
        "from tensorflow.keras.callbacks import EarlyStopping"
      ],
      "metadata": {
        "id": "GdCMhy4HA2qd"
      },
      "execution_count": 1,
      "outputs": []
    },
    {
      "cell_type": "markdown",
      "source": [
        "# 1. Data\n",
        "The dataset we will use is the well-known CIFAR10 (Canadian Institute For Advanced Research). Explore the details on the Keras website first: https://keras.io/api/datasets/cifar10/\n",
        "\n",
        "There isn't much difference between the data preprocessing part and the one we did before. The only difference is that we don't have to reshape images into vectors, but we are working with a 4 dimensional data structure, where the dimensions are: batch, X, Y, and color channels.\n",
        "\n",
        "In the event that anything is not clear regarding the data preparation part, please check the previous CIFAR10 notebook."
      ],
      "metadata": {
        "id": "yY9fztIeWIKt"
      }
    },
    {
      "cell_type": "code",
      "source": [
        "(X_train, Y_train), (X_test, Y_test) = cifar10.load_data()"
      ],
      "metadata": {
        "id": "bez7q0eiWQCK",
        "colab": {
          "base_uri": "https://localhost:8080/"
        },
        "outputId": "900c03f7-5d9e-4578-80d5-196a7cbfb79b"
      },
      "execution_count": 2,
      "outputs": [
        {
          "output_type": "stream",
          "name": "stdout",
          "text": [
            "Downloading data from https://www.cs.toronto.edu/~kriz/cifar-10-python.tar.gz\n",
            "170498071/170498071 [==============================] - 5s 0us/step\n"
          ]
        }
      ]
    },
    {
      "cell_type": "code",
      "source": [
        "# it is in int8 format, the neural network requires float32\n",
        "X_train = X_train.astype(\"float32\")\n",
        "X_test = X_test.astype(\"float32\")"
      ],
      "metadata": {
        "id": "vukOcBM0XzSj"
      },
      "execution_count": 3,
      "outputs": []
    },
    {
      "cell_type": "code",
      "source": [
        "train_ratio  = 0.8\n",
        "train_length = X_train.shape[0]\n",
        "train_split  = int(train_ratio*train_length)\n",
        "X_valid, Y_valid = X_train[train_split:], Y_train[train_split:]\n",
        "X_train, Y_train = X_train[:train_split], Y_train[:train_split]"
      ],
      "metadata": {
        "id": "mRwuWxxIxLgN"
      },
      "execution_count": 4,
      "outputs": []
    },
    {
      "cell_type": "code",
      "source": [
        "mean = X_train.mean(axis=0)\n",
        "std  = X_train.std(axis=0)\n",
        "\n",
        "X_train = (X_train-mean)/std\n",
        "X_valid = (X_valid-mean)/std\n",
        "X_test  = (X_test-mean)/std"
      ],
      "metadata": {
        "id": "2ESLP1EIyB2J"
      },
      "execution_count": 5,
      "outputs": []
    },
    {
      "cell_type": "code",
      "source": [
        "nb_classes = len(np.unique(Y_train))\n",
        "Y_train = to_categorical(Y_train, nb_classes)\n",
        "Y_valid = to_categorical(Y_valid, nb_classes)\n",
        "Y_test  = to_categorical(Y_test, nb_classes)"
      ],
      "metadata": {
        "id": "xwZ4OJ6I8lba"
      },
      "execution_count": 6,
      "outputs": []
    },
    {
      "cell_type": "code",
      "source": [
        "print(\"Shapes of the training, validation and test input data:\", X_train.shape, X_valid.shape, X_test.shape)\n",
        "print(\"Shapes of the training, validation and test output data:\", Y_train.shape, Y_valid.shape, Y_test.shape)\n",
        "print(\"Mean values of the training, validation and test input data:\", X_train.mean(), X_valid.mean(), X_test.mean())\n",
        "print(\"Standard deviation of the training, validation and test input data:\", X_train.std(), X_valid.std(), X_test.std())"
      ],
      "metadata": {
        "id": "O_jdJVcvX0vi",
        "colab": {
          "base_uri": "https://localhost:8080/"
        },
        "outputId": "1e76fce2-8e4e-46eb-f763-d0cfaa1b9d63"
      },
      "execution_count": 7,
      "outputs": [
        {
          "output_type": "stream",
          "name": "stdout",
          "text": [
            "Shapes of the training, validation and test input data: (40000, 32, 32, 3) (10000, 32, 32, 3) (10000, 32, 32, 3)\n",
            "Shapes of the training, validation and test output data: (40000, 10) (10000, 10) (10000, 10)\n",
            "Mean values of the training, validation and test input data: 2.2788842e-09 0.0023437198 0.013331206\n",
            "Standard deviation of the training, validation and test input data: 1.0000023 0.9965626 0.99783075\n"
          ]
        }
      ]
    },
    {
      "cell_type": "markdown",
      "metadata": {
        "id": "cJ14oyZExpqj"
      },
      "source": [
        "# 2. Exercise: training"
      ]
    },
    {
      "cell_type": "markdown",
      "source": [
        "Create and train a convolutional neural network with the following requirements:\n",
        "* apply early stopping with patience=5 and monitor the validation accuracy, don't forget to load back the best weights after early stopping\n",
        "* the number of trainable parameters is lower than 200.000\n",
        "* the validation accuracy must be higher than 72%\n",
        "\n",
        "Hints:\n",
        "* you can always inspect the number of trainable parameters per layer with model.summary()\n",
        "* usually the most trainable parameters are between the last convolutional layer and the next dense layer -- so you should have a reasonable output size at the last convolutional layer\n",
        "* regularization helps (e.g. DropOut and/or BatchNormalization)\n",
        "* use the right activation function at the output layer and the corresponding loss function\n",
        "* for the chosen activation functions, please use the appropriate initialization method\n",
        "* you can match the dimension of the last conv/pooling layer to the next dense layer with e.g. Flatten()\n",
        "* ADAM optimizer is a reasonable choice\n",
        "* don't forget to turn on GPU support in Colab, otherwise, it would be quite slow to train the networks\n",
        "\n"
      ],
      "metadata": {
        "id": "j1tGVPdD-pp3"
      }
    },
    {
      "cell_type": "code",
      "source": [
        "es = EarlyStopping(monitor='val_accuracy', patience=5, restore_best_weights=True)"
      ],
      "metadata": {
        "id": "5dBQxJHIHrbd"
      },
      "execution_count": 8,
      "outputs": []
    },
    {
      "cell_type": "code",
      "source": [
        "# Model Definition\n",
        "model = Sequential([\n",
        "    Conv2D(32, (3, 3), activation='relu', kernel_initializer=HeNormal(), input_shape=(32, 32, 3)),\n",
        "    BatchNormalization(),\n",
        "    MaxPool2D((2, 2)),\n",
        "    Dropout(0.1),\n",
        "\n",
        "    Conv2D(64, (3, 3), activation='relu', kernel_initializer=HeNormal()),\n",
        "    BatchNormalization(),\n",
        "    MaxPool2D((2, 2)),\n",
        "    Dropout(0.2),\n",
        "\n",
        "    Conv2D(128, (3, 3), activation='relu', kernel_initializer=HeNormal()),\n",
        "    BatchNormalization(),\n",
        "    MaxPool2D((2, 2)),\n",
        "    Dropout(0.3),\n",
        "\n",
        "    Flatten(),\n",
        "    Dense(128, activation='relu', kernel_initializer=HeNormal()),\n",
        "    Dropout(0.4),\n",
        "    Dense(nb_classes, activation='softmax')\n",
        "])\n",
        "\n",
        "# Compiling the model\n",
        "model.compile(optimizer='adam', loss='categorical_crossentropy', metrics=['accuracy'])"
      ],
      "metadata": {
        "id": "PuxHOqLt-3Nd"
      },
      "execution_count": 11,
      "outputs": []
    },
    {
      "cell_type": "code",
      "source": [
        "model.summary()"
      ],
      "metadata": {
        "id": "5eomQw8uE9Ix",
        "colab": {
          "base_uri": "https://localhost:8080/"
        },
        "outputId": "acfc990d-9dac-409e-8e9c-b021fea5b319"
      },
      "execution_count": 12,
      "outputs": [
        {
          "output_type": "stream",
          "name": "stdout",
          "text": [
            "Model: \"sequential_1\"\n",
            "_________________________________________________________________\n",
            " Layer (type)                Output Shape              Param #   \n",
            "=================================================================\n",
            " conv2d_3 (Conv2D)           (None, 30, 30, 32)        896       \n",
            "                                                                 \n",
            " batch_normalization_3 (Bat  (None, 30, 30, 32)        128       \n",
            " chNormalization)                                                \n",
            "                                                                 \n",
            " max_pooling2d_3 (MaxPoolin  (None, 15, 15, 32)        0         \n",
            " g2D)                                                            \n",
            "                                                                 \n",
            " dropout_4 (Dropout)         (None, 15, 15, 32)        0         \n",
            "                                                                 \n",
            " conv2d_4 (Conv2D)           (None, 13, 13, 64)        18496     \n",
            "                                                                 \n",
            " batch_normalization_4 (Bat  (None, 13, 13, 64)        256       \n",
            " chNormalization)                                                \n",
            "                                                                 \n",
            " max_pooling2d_4 (MaxPoolin  (None, 6, 6, 64)          0         \n",
            " g2D)                                                            \n",
            "                                                                 \n",
            " dropout_5 (Dropout)         (None, 6, 6, 64)          0         \n",
            "                                                                 \n",
            " conv2d_5 (Conv2D)           (None, 4, 4, 128)         73856     \n",
            "                                                                 \n",
            " batch_normalization_5 (Bat  (None, 4, 4, 128)         512       \n",
            " chNormalization)                                                \n",
            "                                                                 \n",
            " max_pooling2d_5 (MaxPoolin  (None, 2, 2, 128)         0         \n",
            " g2D)                                                            \n",
            "                                                                 \n",
            " dropout_6 (Dropout)         (None, 2, 2, 128)         0         \n",
            "                                                                 \n",
            " flatten_1 (Flatten)         (None, 512)               0         \n",
            "                                                                 \n",
            " dense_2 (Dense)             (None, 128)               65664     \n",
            "                                                                 \n",
            " dropout_7 (Dropout)         (None, 128)               0         \n",
            "                                                                 \n",
            " dense_3 (Dense)             (None, 10)                1290      \n",
            "                                                                 \n",
            "=================================================================\n",
            "Total params: 161098 (629.29 KB)\n",
            "Trainable params: 160650 (627.54 KB)\n",
            "Non-trainable params: 448 (1.75 KB)\n",
            "_________________________________________________________________\n"
          ]
        }
      ]
    },
    {
      "cell_type": "markdown",
      "source": [
        "Please, check the number of trainable paramers:"
      ],
      "metadata": {
        "id": "8tIbIIeTEI41"
      }
    },
    {
      "cell_type": "code",
      "source": [
        "print(\"#trainable parameters:\",model.count_params())"
      ],
      "metadata": {
        "id": "xdBAG7EJETlX",
        "colab": {
          "base_uri": "https://localhost:8080/"
        },
        "outputId": "86538c5d-c7f4-4caa-caa7-fb996f5e76a8"
      },
      "execution_count": 13,
      "outputs": [
        {
          "output_type": "stream",
          "name": "stdout",
          "text": [
            "#trainable parameters: 161098\n"
          ]
        }
      ]
    },
    {
      "cell_type": "code",
      "source": [
        "# Training the model\n",
        "network_history = model.fit(X_train, Y_train, epochs=100, validation_data=(X_valid, Y_valid), callbacks=[es])"
      ],
      "metadata": {
        "id": "u8tFNCNVHyt9",
        "colab": {
          "base_uri": "https://localhost:8080/"
        },
        "outputId": "d020874e-bea4-47d9-c96d-0ddc8d6a898d"
      },
      "execution_count": 14,
      "outputs": [
        {
          "output_type": "stream",
          "name": "stdout",
          "text": [
            "Epoch 1/100\n",
            "1250/1250 [==============================] - 15s 7ms/step - loss: 1.8033 - accuracy: 0.3559 - val_loss: 1.3977 - val_accuracy: 0.4999\n",
            "Epoch 2/100\n",
            "1250/1250 [==============================] - 12s 10ms/step - loss: 1.4382 - accuracy: 0.4810 - val_loss: 1.1757 - val_accuracy: 0.5822\n",
            "Epoch 3/100\n",
            "1250/1250 [==============================] - 9s 7ms/step - loss: 1.2797 - accuracy: 0.5413 - val_loss: 1.0669 - val_accuracy: 0.6228\n",
            "Epoch 4/100\n",
            "1250/1250 [==============================] - 10s 8ms/step - loss: 1.1746 - accuracy: 0.5860 - val_loss: 1.0340 - val_accuracy: 0.6334\n",
            "Epoch 5/100\n",
            "1250/1250 [==============================] - 9s 7ms/step - loss: 1.1001 - accuracy: 0.6094 - val_loss: 0.9187 - val_accuracy: 0.6721\n",
            "Epoch 6/100\n",
            "1250/1250 [==============================] - 9s 7ms/step - loss: 1.0373 - accuracy: 0.6363 - val_loss: 0.8668 - val_accuracy: 0.6887\n",
            "Epoch 7/100\n",
            "1250/1250 [==============================] - 9s 7ms/step - loss: 0.9859 - accuracy: 0.6542 - val_loss: 0.8594 - val_accuracy: 0.6962\n",
            "Epoch 8/100\n",
            "1250/1250 [==============================] - 8s 6ms/step - loss: 0.9541 - accuracy: 0.6679 - val_loss: 0.7928 - val_accuracy: 0.7250\n",
            "Epoch 9/100\n",
            "1250/1250 [==============================] - 7s 6ms/step - loss: 0.9128 - accuracy: 0.6780 - val_loss: 0.7527 - val_accuracy: 0.7348\n",
            "Epoch 10/100\n",
            "1250/1250 [==============================] - 8s 7ms/step - loss: 0.8856 - accuracy: 0.6905 - val_loss: 0.7566 - val_accuracy: 0.7341\n",
            "Epoch 11/100\n",
            "1250/1250 [==============================] - 8s 6ms/step - loss: 0.8597 - accuracy: 0.7005 - val_loss: 0.7917 - val_accuracy: 0.7234\n",
            "Epoch 12/100\n",
            "1250/1250 [==============================] - 8s 6ms/step - loss: 0.8287 - accuracy: 0.7137 - val_loss: 0.7221 - val_accuracy: 0.7472\n",
            "Epoch 13/100\n",
            "1250/1250 [==============================] - 8s 7ms/step - loss: 0.8149 - accuracy: 0.7164 - val_loss: 0.7234 - val_accuracy: 0.7457\n",
            "Epoch 14/100\n",
            "1250/1250 [==============================] - 8s 6ms/step - loss: 0.7961 - accuracy: 0.7211 - val_loss: 0.7280 - val_accuracy: 0.7503\n",
            "Epoch 15/100\n",
            "1250/1250 [==============================] - 8s 7ms/step - loss: 0.7779 - accuracy: 0.7275 - val_loss: 0.6868 - val_accuracy: 0.7610\n",
            "Epoch 16/100\n",
            "1250/1250 [==============================] - 8s 6ms/step - loss: 0.7660 - accuracy: 0.7335 - val_loss: 0.6822 - val_accuracy: 0.7622\n",
            "Epoch 17/100\n",
            "1250/1250 [==============================] - 7s 6ms/step - loss: 0.7542 - accuracy: 0.7384 - val_loss: 0.6834 - val_accuracy: 0.7686\n",
            "Epoch 18/100\n",
            "1250/1250 [==============================] - 8s 6ms/step - loss: 0.7390 - accuracy: 0.7441 - val_loss: 0.6860 - val_accuracy: 0.7684\n",
            "Epoch 19/100\n",
            "1250/1250 [==============================] - 8s 6ms/step - loss: 0.7303 - accuracy: 0.7458 - val_loss: 0.6932 - val_accuracy: 0.7651\n",
            "Epoch 20/100\n",
            "1250/1250 [==============================] - 7s 6ms/step - loss: 0.7168 - accuracy: 0.7518 - val_loss: 0.6535 - val_accuracy: 0.7750\n",
            "Epoch 21/100\n",
            "1250/1250 [==============================] - 8s 6ms/step - loss: 0.7126 - accuracy: 0.7508 - val_loss: 0.6542 - val_accuracy: 0.7744\n",
            "Epoch 22/100\n",
            "1250/1250 [==============================] - 8s 6ms/step - loss: 0.6923 - accuracy: 0.7570 - val_loss: 0.6567 - val_accuracy: 0.7754\n",
            "Epoch 23/100\n",
            "1250/1250 [==============================] - 8s 6ms/step - loss: 0.6917 - accuracy: 0.7600 - val_loss: 0.6409 - val_accuracy: 0.7731\n",
            "Epoch 24/100\n",
            "1250/1250 [==============================] - 8s 7ms/step - loss: 0.6827 - accuracy: 0.7623 - val_loss: 0.6374 - val_accuracy: 0.7828\n",
            "Epoch 25/100\n",
            "1250/1250 [==============================] - 8s 6ms/step - loss: 0.6790 - accuracy: 0.7663 - val_loss: 0.6287 - val_accuracy: 0.7839\n",
            "Epoch 26/100\n",
            "1250/1250 [==============================] - 7s 6ms/step - loss: 0.6623 - accuracy: 0.7697 - val_loss: 0.6754 - val_accuracy: 0.7707\n",
            "Epoch 27/100\n",
            "1250/1250 [==============================] - 8s 7ms/step - loss: 0.6553 - accuracy: 0.7735 - val_loss: 0.6257 - val_accuracy: 0.7861\n",
            "Epoch 28/100\n",
            "1250/1250 [==============================] - 8s 6ms/step - loss: 0.6509 - accuracy: 0.7748 - val_loss: 0.6305 - val_accuracy: 0.7849\n",
            "Epoch 29/100\n",
            "1250/1250 [==============================] - 7s 6ms/step - loss: 0.6470 - accuracy: 0.7752 - val_loss: 0.6383 - val_accuracy: 0.7836\n",
            "Epoch 30/100\n",
            "1250/1250 [==============================] - 8s 6ms/step - loss: 0.6440 - accuracy: 0.7747 - val_loss: 0.6255 - val_accuracy: 0.7894\n",
            "Epoch 31/100\n",
            "1250/1250 [==============================] - 8s 6ms/step - loss: 0.6345 - accuracy: 0.7788 - val_loss: 0.6184 - val_accuracy: 0.7871\n",
            "Epoch 32/100\n",
            "1250/1250 [==============================] - 8s 6ms/step - loss: 0.6220 - accuracy: 0.7858 - val_loss: 0.6330 - val_accuracy: 0.7858\n",
            "Epoch 33/100\n",
            "1250/1250 [==============================] - 8s 6ms/step - loss: 0.6231 - accuracy: 0.7821 - val_loss: 0.6380 - val_accuracy: 0.7851\n",
            "Epoch 34/100\n",
            "1250/1250 [==============================] - 7s 6ms/step - loss: 0.6227 - accuracy: 0.7824 - val_loss: 0.6160 - val_accuracy: 0.7931\n",
            "Epoch 35/100\n",
            "1250/1250 [==============================] - 8s 7ms/step - loss: 0.6125 - accuracy: 0.7858 - val_loss: 0.6308 - val_accuracy: 0.7921\n",
            "Epoch 36/100\n",
            "1250/1250 [==============================] - 7s 6ms/step - loss: 0.6074 - accuracy: 0.7912 - val_loss: 0.6250 - val_accuracy: 0.7899\n",
            "Epoch 37/100\n",
            "1250/1250 [==============================] - 7s 6ms/step - loss: 0.5967 - accuracy: 0.7937 - val_loss: 0.6190 - val_accuracy: 0.7906\n",
            "Epoch 38/100\n",
            "1250/1250 [==============================] - 8s 6ms/step - loss: 0.6067 - accuracy: 0.7921 - val_loss: 0.6043 - val_accuracy: 0.7953\n",
            "Epoch 39/100\n",
            "1250/1250 [==============================] - 7s 6ms/step - loss: 0.5948 - accuracy: 0.7952 - val_loss: 0.6092 - val_accuracy: 0.7941\n",
            "Epoch 40/100\n",
            "1250/1250 [==============================] - 8s 6ms/step - loss: 0.5870 - accuracy: 0.7973 - val_loss: 0.6312 - val_accuracy: 0.7919\n",
            "Epoch 41/100\n",
            "1250/1250 [==============================] - 8s 6ms/step - loss: 0.5917 - accuracy: 0.7937 - val_loss: 0.6149 - val_accuracy: 0.7938\n",
            "Epoch 42/100\n",
            "1250/1250 [==============================] - 8s 6ms/step - loss: 0.5771 - accuracy: 0.7983 - val_loss: 0.6184 - val_accuracy: 0.7956\n",
            "Epoch 43/100\n",
            "1250/1250 [==============================] - 8s 6ms/step - loss: 0.5795 - accuracy: 0.7978 - val_loss: 0.6038 - val_accuracy: 0.7940\n",
            "Epoch 44/100\n",
            "1250/1250 [==============================] - 7s 6ms/step - loss: 0.5771 - accuracy: 0.8015 - val_loss: 0.6112 - val_accuracy: 0.7941\n",
            "Epoch 45/100\n",
            "1250/1250 [==============================] - 8s 6ms/step - loss: 0.5675 - accuracy: 0.8047 - val_loss: 0.5929 - val_accuracy: 0.8019\n",
            "Epoch 46/100\n",
            "1250/1250 [==============================] - 8s 6ms/step - loss: 0.5740 - accuracy: 0.8013 - val_loss: 0.6123 - val_accuracy: 0.7942\n",
            "Epoch 47/100\n",
            "1250/1250 [==============================] - 8s 6ms/step - loss: 0.5666 - accuracy: 0.8041 - val_loss: 0.6243 - val_accuracy: 0.7949\n",
            "Epoch 48/100\n",
            "1250/1250 [==============================] - 8s 6ms/step - loss: 0.5599 - accuracy: 0.8045 - val_loss: 0.6037 - val_accuracy: 0.7970\n",
            "Epoch 49/100\n",
            "1250/1250 [==============================] - 8s 6ms/step - loss: 0.5603 - accuracy: 0.8065 - val_loss: 0.6099 - val_accuracy: 0.7951\n",
            "Epoch 50/100\n",
            "1250/1250 [==============================] - 7s 6ms/step - loss: 0.5603 - accuracy: 0.8057 - val_loss: 0.6046 - val_accuracy: 0.7993\n"
          ]
        }
      ]
    },
    {
      "cell_type": "markdown",
      "source": [
        "# 3. Exercise: evaluation on test data\n",
        "You will evaluate the classification of the test data using the common metrics and the confusion matrix in this section.\n",
        "\n",
        "\n",
        "As a first stes, let's run the predictions and convert the predicted softmax outputs to dense labels. The one-hot encoded labels are also converted back to dense labels, as they are required for the evaluation functions."
      ],
      "metadata": {
        "id": "2FtKp-a2-A9m"
      }
    },
    {
      "cell_type": "code",
      "source": [
        "probas = model.predict(X_test)\n",
        "preds  = np.argmax(probas,axis=1)\n",
        "Y_test_dense = np.argmax(Y_test, axis=1)"
      ],
      "metadata": {
        "id": "EcWAqwlDMq3y",
        "colab": {
          "base_uri": "https://localhost:8080/"
        },
        "outputId": "de8c95e4-6737-4298-ba7e-390a7818347f"
      },
      "execution_count": 15,
      "outputs": [
        {
          "output_type": "stream",
          "name": "stdout",
          "text": [
            "313/313 [==============================] - 1s 2ms/step\n"
          ]
        }
      ]
    },
    {
      "cell_type": "markdown",
      "source": [
        "## 3.1. Exercise: Metrics\n",
        "please review the common classification metrics (accuracy, precision, recall, F1) for the complete model (not per class).\n",
        "\n",
        "Hints:\n",
        "* use macro averaging\n",
        "* you have to import the right functions from [sklearn.metrics](https://scikit-learn.org/stable/modules/model_evaluation.html)\n"
      ],
      "metadata": {
        "id": "RWJ-PH_iMs9K"
      }
    },
    {
      "cell_type": "code",
      "source": [
        "from sklearn.metrics import accuracy_score, precision_score, recall_score, f1_score"
      ],
      "metadata": {
        "id": "5sKm5zHSMZ_x"
      },
      "execution_count": 16,
      "outputs": []
    },
    {
      "cell_type": "code",
      "source": [
        "print(\"Accuracy:\", accuracy_score(Y_test_dense, preds))\n",
        "print(\"Precision:\", precision_score(Y_test_dense, preds, average='macro'))\n",
        "print(\"Recall:\", recall_score(Y_test_dense, preds, average='macro'))\n",
        "print(\"F1:\", f1_score(Y_test_dense, preds, average='macro'))\n"
      ],
      "metadata": {
        "id": "I3_9wgDREUna",
        "colab": {
          "base_uri": "https://localhost:8080/"
        },
        "outputId": "07b89f4e-1083-46ab-9f8a-bf980feae5f0"
      },
      "execution_count": 17,
      "outputs": [
        {
          "output_type": "stream",
          "name": "stdout",
          "text": [
            "Accuracy: 0.7939\n",
            "Precision: 0.7941685425438544\n",
            "Recall: 0.7938999999999999\n",
            "F1: 0.7925100290419873\n"
          ]
        }
      ]
    },
    {
      "cell_type": "markdown",
      "source": [
        "\n",
        "## 3.2. Exercise: Confusion matrix\n",
        "Calculate the confusion matrix and display the results in a heatmap (with decimal values).\n",
        "\n",
        "Hints:\n",
        "* you have to do the imports this time too, e.g. from [sklearn.metrics](https://scikit-learn.org/stable/modules/model_evaluation.html) and the [heatmap function](https://seaborn.pydata.org/generated/seaborn.heatmap.html) of [seaborn](https://seaborn.pydata.org/)\n",
        "* for displaying the decimal values, you have to turn annot=True and define fmt='d' in the heatmap function of seaborn"
      ],
      "metadata": {
        "id": "ECHguBFtGL7f"
      }
    },
    {
      "cell_type": "code",
      "source": [
        "from sklearn.metrics import confusion_matrix\n",
        "import seaborn as sns"
      ],
      "metadata": {
        "id": "SIi2VzMBO3yD"
      },
      "execution_count": 18,
      "outputs": []
    },
    {
      "cell_type": "code",
      "metadata": {
        "id": "cdqODx92Svw7",
        "colab": {
          "base_uri": "https://localhost:8080/",
          "height": 522
        },
        "outputId": "61661e9e-8045-47a5-b619-fc7c3fbf898c"
      },
      "source": [
        "conf = confusion_matrix(Y_test_dense, preds)\n",
        "plt.figure(figsize=(7,6))\n",
        "sns.heatmap(conf, annot=True, fmt='d', cmap='Blues')\n",
        "plt.show()"
      ],
      "execution_count": 19,
      "outputs": [
        {
          "output_type": "display_data",
          "data": {
            "text/plain": [
              "<Figure size 700x600 with 2 Axes>"
            ],
            "image/png": "[encoded data removed]"
          },
          "metadata": {}
        }
      ]
    },
    {
      "cell_type": "markdown",
      "source": [
        "Co-pilot was used in better understanding and generation of the code above."
      ],
      "metadata": {
        "id": "BktzYmj5EawR"
      }
    }
  ]
}