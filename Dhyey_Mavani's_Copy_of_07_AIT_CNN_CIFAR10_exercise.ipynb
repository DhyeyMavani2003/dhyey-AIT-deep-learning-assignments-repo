{
  "nbformat": 4,
  "nbformat_minor": 0,
  "metadata": {
    "anaconda-cloud": {},
    "kernelspec": {
      "display_name": "Python 3",
      "language": "python",
      "name": "python3"
    },
    "language_info": {
      "codemirror_mode": {
        "name": "ipython",
        "version": 3
      },
      "file_extension": ".py",
      "mimetype": "text/x-python",
      "name": "python",
      "nbconvert_exporter": "python",
      "pygments_lexer": "ipython3",
      "version": "3.6.6"
    },
    "colab": {
      "provenance": [],
      "include_colab_link": true
    },
    "accelerator": "GPU"
  },
  "cells": [
    {
      "cell_type": "markdown",
      "metadata": {
        "id": "view-in-github",
        "colab_type": "text"
      },
      "source": [
        "<a href=\"https://colab.research.google.com/github/DhyeyMavani2003/dhyey-AIT-deep-learning-assignments-repo/blob/main/Dhyey_Mavani's_Copy_of_07_AIT_CNN_CIFAR10_exercise.ipynb\" target=\"_parent\"><img src=\"https://colab.research.google.com/assets/colab-badge.svg\" alt=\"Open In Colab\"/></a>"
      ]
    },
    {
      "cell_type": "markdown",
      "metadata": {
        "id": "cW-EyI5Lxpqi"
      },
      "source": [
        "# Copyright\n",
        "\n",
        "<PRE>\n",
        "Copyright (c) 2024 Bálint Gyires-Tóth - All Rights Reserved\n",
        "You may use and modify this code for research and development purpuses.\n",
        "Using this code for educational purposes (self-paced or instructor led) without the permission of the author is prohibited.\n",
        "</PRE>"
      ]
    },
    {
      "cell_type": "markdown",
      "source": [
        "# Convolutional Neural Network exercise\n",
        "\n",
        "In this notebook, you will build a convolutional neural network, which offers superior results over the previous MLP solution. Additionally, you will perform a more detailed evaluation."
      ],
      "metadata": {
        "id": "3EX4cCa4WKJu"
      }
    },
    {
      "cell_type": "code",
      "source": [
        "# imports\n",
        "from tensorflow.keras.datasets import cifar10\n",
        "from tensorflow.keras.utils import to_categorical\n",
        "import numpy as np\n",
        "import matplotlib.pyplot as plt\n",
        "from tensorflow.keras.models import Sequential\n",
        "from tensorflow.keras.layers import Dense, Conv2D, MaxPool2D, Flatten, Dropout, BatchNormalization\n",
        "from tensorflow.keras.initializers import HeNormal\n",
        "from tensorflow.keras.callbacks import EarlyStopping"
      ],
      "metadata": {
        "id": "GdCMhy4HA2qd"
      },
      "execution_count": 1,
      "outputs": []
    },
    {
      "cell_type": "markdown",
      "source": [
        "# 1. Data\n",
        "The dataset we will use is the well-known CIFAR10 (Canadian Institute For Advanced Research). Explore the details on the Keras website first: https://keras.io/api/datasets/cifar10/\n",
        "\n",
        "There isn't much difference between the data preprocessing part and the one we did before. The only difference is that we don't have to reshape images into vectors, but we are working with a 4 dimensional data structure, where the dimensions are: batch, X, Y, and color channels.\n",
        "\n",
        "In the event that anything is not clear regarding the data preparation part, please check the previous CIFAR10 notebook."
      ],
      "metadata": {
        "id": "yY9fztIeWIKt"
      }
    },
    {
      "cell_type": "code",
      "source": [
        "(X_train, Y_train), (X_test, Y_test) = cifar10.load_data()"
      ],
      "metadata": {
        "id": "bez7q0eiWQCK",
        "colab": {
          "base_uri": "https://localhost:8080/"
        },
        "outputId": "cd014817-61e5-4398-db58-0c680fbafc75"
      },
      "execution_count": 2,
      "outputs": [
        {
          "output_type": "stream",
          "name": "stdout",
          "text": [
            "Downloading data from https://www.cs.toronto.edu/~kriz/cifar-10-python.tar.gz\n",
            "170498071/170498071 [==============================] - 7s 0us/step\n"
          ]
        }
      ]
    },
    {
      "cell_type": "code",
      "source": [
        "# it is in int8 format, the neural network requires float32\n",
        "X_train = X_train.astype(\"float32\")\n",
        "X_test = X_test.astype(\"float32\")"
      ],
      "metadata": {
        "id": "vukOcBM0XzSj"
      },
      "execution_count": 3,
      "outputs": []
    },
    {
      "cell_type": "code",
      "source": [
        "train_ratio  = 0.8\n",
        "train_length = X_train.shape[0]\n",
        "train_split  = int(train_ratio*train_length)\n",
        "X_valid, Y_valid = X_train[train_split:], Y_train[train_split:]\n",
        "X_train, Y_train = X_train[:train_split], Y_train[:train_split]"
      ],
      "metadata": {
        "id": "mRwuWxxIxLgN"
      },
      "execution_count": 4,
      "outputs": []
    },
    {
      "cell_type": "code",
      "source": [
        "mean = X_train.mean(axis=0)\n",
        "std  = X_train.std(axis=0)\n",
        "\n",
        "X_train = (X_train-mean)/std\n",
        "X_valid = (X_valid-mean)/std\n",
        "X_test  = (X_test-mean)/std"
      ],
      "metadata": {
        "id": "2ESLP1EIyB2J"
      },
      "execution_count": 5,
      "outputs": []
    },
    {
      "cell_type": "code",
      "source": [
        "nb_classes = len(np.unique(Y_train))\n",
        "Y_train = to_categorical(Y_train, nb_classes)\n",
        "Y_valid = to_categorical(Y_valid, nb_classes)\n",
        "Y_test  = to_categorical(Y_test, nb_classes)"
      ],
      "metadata": {
        "id": "xwZ4OJ6I8lba"
      },
      "execution_count": 6,
      "outputs": []
    },
    {
      "cell_type": "code",
      "source": [
        "print(\"Shapes of the training, validation and test input data:\", X_train.shape, X_valid.shape, X_test.shape)\n",
        "print(\"Shapes of the training, validation and test output data:\", Y_train.shape, Y_valid.shape, Y_test.shape)\n",
        "print(\"Mean values of the training, validation and test input data:\", X_train.mean(), X_valid.mean(), X_test.mean())\n",
        "print(\"Standard deviation of the training, validation and test input data:\", X_train.std(), X_valid.std(), X_test.std())"
      ],
      "metadata": {
        "id": "O_jdJVcvX0vi",
        "colab": {
          "base_uri": "https://localhost:8080/"
        },
        "outputId": "b841fa89-9816-48b4-f2eb-7d13826eb5f6"
      },
      "execution_count": 7,
      "outputs": [
        {
          "output_type": "stream",
          "name": "stdout",
          "text": [
            "Shapes of the training, validation and test input data: (40000, 32, 32, 3) (10000, 32, 32, 3) (10000, 32, 32, 3)\n",
            "Shapes of the training, validation and test output data: (40000, 10) (10000, 10) (10000, 10)\n",
            "Mean values of the training, validation and test input data: 2.2788842e-09 0.0023437198 0.013331206\n",
            "Standard deviation of the training, validation and test input data: 1.0000023 0.9965626 0.99783075\n"
          ]
        }
      ]
    },
    {
      "cell_type": "markdown",
      "metadata": {
        "id": "cJ14oyZExpqj"
      },
      "source": [
        "# 2. Exercise: training"
      ]
    },
    {
      "cell_type": "markdown",
      "source": [
        "Create and train a convolutional neural network with the following requirements:\n",
        "* apply early stopping with patience=5 and monitor the validation accuracy, don't forget to load back the best weights after early stopping\n",
        "* the number of trainable parameters is lower than 200.000\n",
        "* the validation accuracy must be higher than 72%\n",
        "\n",
        "Hints:\n",
        "* you can always inspect the number of trainable parameters per layer with model.summary()\n",
        "* usually the most trainable parameters are between the last convolutional layer and the next dense layer -- so you should have a reasonable output size at the last convolutional layer\n",
        "* regularization helps (e.g. DropOut and/or BatchNormalization)\n",
        "* use the right activation function at the output layer and the corresponding loss function\n",
        "* for the chosen activation functions, please use the appropriate initialization method\n",
        "* you can match the dimension of the last conv/pooling layer to the next dense layer with e.g. Flatten()\n",
        "* ADAM optimizer is a reasonable choice\n",
        "* don't forget to turn on GPU support in Colab, otherwise, it would be quite slow to train the networks\n",
        "\n"
      ],
      "metadata": {
        "id": "j1tGVPdD-pp3"
      }
    },
    {
      "cell_type": "code",
      "source": [
        "es = EarlyStopping(monitor='val_accuracy', patience=5, restore_best_weights=True)"
      ],
      "metadata": {
        "id": "5dBQxJHIHrbd"
      },
      "execution_count": 8,
      "outputs": []
    },
    {
      "cell_type": "code",
      "source": [
        "# Model Definition\n",
        "model = Sequential([\n",
        "    Conv2D(32, (3, 3), activation='relu', kernel_initializer=HeNormal(), input_shape=(32, 32, 3)),\n",
        "    BatchNormalization(),\n",
        "    MaxPool2D((2, 2)),\n",
        "    Dropout(0.2),\n",
        "\n",
        "    Conv2D(64, (3, 3), activation='relu', kernel_initializer=HeNormal()),\n",
        "    BatchNormalization(),\n",
        "    MaxPool2D((2, 2)),\n",
        "    Dropout(0.3),\n",
        "\n",
        "    Conv2D(128, (3, 3), activation='relu', kernel_initializer=HeNormal()),\n",
        "    BatchNormalization(),\n",
        "    MaxPool2D((2, 2)),\n",
        "    Dropout(0.4),\n",
        "\n",
        "    Flatten(),\n",
        "    Dense(128, activation='relu', kernel_initializer=HeNormal()),\n",
        "    Dropout(0.5),\n",
        "    Dense(nb_classes, activation='softmax')\n",
        "])\n",
        "\n",
        "# Compiling the model\n",
        "model.compile(optimizer='adam', loss='categorical_crossentropy', metrics=['accuracy'])"
      ],
      "metadata": {
        "id": "PuxHOqLt-3Nd"
      },
      "execution_count": 9,
      "outputs": []
    },
    {
      "cell_type": "code",
      "source": [
        "model.summary()"
      ],
      "metadata": {
        "id": "5eomQw8uE9Ix",
        "colab": {
          "base_uri": "https://localhost:8080/"
        },
        "outputId": "4cdb53e2-7ed0-4f1a-f5a0-68b562c1b091"
      },
      "execution_count": 10,
      "outputs": [
        {
          "output_type": "stream",
          "name": "stdout",
          "text": [
            "Model: \"sequential\"\n",
            "_________________________________________________________________\n",
            " Layer (type)                Output Shape              Param #   \n",
            "=================================================================\n",
            " conv2d (Conv2D)             (None, 30, 30, 32)        896       \n",
            "                                                                 \n",
            " batch_normalization (Batch  (None, 30, 30, 32)        128       \n",
            " Normalization)                                                  \n",
            "                                                                 \n",
            " max_pooling2d (MaxPooling2  (None, 15, 15, 32)        0         \n",
            " D)                                                              \n",
            "                                                                 \n",
            " dropout (Dropout)           (None, 15, 15, 32)        0         \n",
            "                                                                 \n",
            " conv2d_1 (Conv2D)           (None, 13, 13, 64)        18496     \n",
            "                                                                 \n",
            " batch_normalization_1 (Bat  (None, 13, 13, 64)        256       \n",
            " chNormalization)                                                \n",
            "                                                                 \n",
            " max_pooling2d_1 (MaxPoolin  (None, 6, 6, 64)          0         \n",
            " g2D)                                                            \n",
            "                                                                 \n",
            " dropout_1 (Dropout)         (None, 6, 6, 64)          0         \n",
            "                                                                 \n",
            " conv2d_2 (Conv2D)           (None, 4, 4, 128)         73856     \n",
            "                                                                 \n",
            " batch_normalization_2 (Bat  (None, 4, 4, 128)         512       \n",
            " chNormalization)                                                \n",
            "                                                                 \n",
            " max_pooling2d_2 (MaxPoolin  (None, 2, 2, 128)         0         \n",
            " g2D)                                                            \n",
            "                                                                 \n",
            " dropout_2 (Dropout)         (None, 2, 2, 128)         0         \n",
            "                                                                 \n",
            " flatten (Flatten)           (None, 512)               0         \n",
            "                                                                 \n",
            " dense (Dense)               (None, 128)               65664     \n",
            "                                                                 \n",
            " dropout_3 (Dropout)         (None, 128)               0         \n",
            "                                                                 \n",
            " dense_1 (Dense)             (None, 10)                1290      \n",
            "                                                                 \n",
            "=================================================================\n",
            "Total params: 161098 (629.29 KB)\n",
            "Trainable params: 160650 (627.54 KB)\n",
            "Non-trainable params: 448 (1.75 KB)\n",
            "_________________________________________________________________\n"
          ]
        }
      ]
    },
    {
      "cell_type": "markdown",
      "source": [
        "Please, check the number of trainable paramers:"
      ],
      "metadata": {
        "id": "8tIbIIeTEI41"
      }
    },
    {
      "cell_type": "code",
      "source": [
        "print(\"#trainable parameters:\",model.count_params())"
      ],
      "metadata": {
        "id": "xdBAG7EJETlX",
        "colab": {
          "base_uri": "https://localhost:8080/"
        },
        "outputId": "0518a2c4-6b0e-4d90-d88f-5fbe04c8a381"
      },
      "execution_count": 11,
      "outputs": [
        {
          "output_type": "stream",
          "name": "stdout",
          "text": [
            "#trainable parameters: 161098\n"
          ]
        }
      ]
    },
    {
      "cell_type": "code",
      "source": [
        "# Training the model\n",
        "network_history = model.fit(X_train, Y_train, epochs=100, validation_data=(X_valid, Y_valid), callbacks=[es])"
      ],
      "metadata": {
        "id": "u8tFNCNVHyt9",
        "colab": {
          "base_uri": "https://localhost:8080/"
        },
        "outputId": "82a62ee3-ea29-4e1a-fbbf-112fcaa8ae24"
      },
      "execution_count": 12,
      "outputs": [
        {
          "output_type": "stream",
          "name": "stdout",
          "text": [
            "Epoch 1/100\n",
            "1250/1250 [==============================] - 17s 8ms/step - loss: 1.9321 - accuracy: 0.2952 - val_loss: 1.6519 - val_accuracy: 0.4337\n",
            "Epoch 2/100\n",
            "1250/1250 [==============================] - 8s 6ms/step - loss: 1.5741 - accuracy: 0.4232 - val_loss: 1.2916 - val_accuracy: 0.5440\n",
            "Epoch 3/100\n",
            "1250/1250 [==============================] - 8s 6ms/step - loss: 1.4175 - accuracy: 0.4889 - val_loss: 1.2094 - val_accuracy: 0.5680\n",
            "Epoch 4/100\n",
            "1250/1250 [==============================] - 8s 7ms/step - loss: 1.3130 - accuracy: 0.5327 - val_loss: 1.1124 - val_accuracy: 0.6058\n",
            "Epoch 5/100\n",
            "1250/1250 [==============================] - 8s 6ms/step - loss: 1.2409 - accuracy: 0.5612 - val_loss: 1.0240 - val_accuracy: 0.6364\n",
            "Epoch 6/100\n",
            "1250/1250 [==============================] - 8s 7ms/step - loss: 1.1881 - accuracy: 0.5816 - val_loss: 1.0172 - val_accuracy: 0.6357\n",
            "Epoch 7/100\n",
            "1250/1250 [==============================] - 8s 6ms/step - loss: 1.1356 - accuracy: 0.6018 - val_loss: 0.9127 - val_accuracy: 0.6748\n",
            "Epoch 8/100\n",
            "1250/1250 [==============================] - 7s 6ms/step - loss: 1.0941 - accuracy: 0.6178 - val_loss: 0.8839 - val_accuracy: 0.6854\n",
            "Epoch 9/100\n",
            "1250/1250 [==============================] - 9s 7ms/step - loss: 1.0681 - accuracy: 0.6261 - val_loss: 0.8426 - val_accuracy: 0.7011\n",
            "Epoch 10/100\n",
            "1250/1250 [==============================] - 8s 7ms/step - loss: 1.0380 - accuracy: 0.6368 - val_loss: 0.8358 - val_accuracy: 0.7026\n",
            "Epoch 11/100\n",
            "1250/1250 [==============================] - 8s 6ms/step - loss: 1.0057 - accuracy: 0.6484 - val_loss: 0.8116 - val_accuracy: 0.7119\n",
            "Epoch 12/100\n",
            "1250/1250 [==============================] - 8s 6ms/step - loss: 0.9993 - accuracy: 0.6523 - val_loss: 0.8142 - val_accuracy: 0.7118\n",
            "Epoch 13/100\n",
            "1250/1250 [==============================] - 8s 7ms/step - loss: 0.9793 - accuracy: 0.6600 - val_loss: 0.8164 - val_accuracy: 0.7137\n",
            "Epoch 14/100\n",
            "1250/1250 [==============================] - 8s 6ms/step - loss: 0.9603 - accuracy: 0.6687 - val_loss: 0.8140 - val_accuracy: 0.7163\n",
            "Epoch 15/100\n",
            "1250/1250 [==============================] - 8s 7ms/step - loss: 0.9371 - accuracy: 0.6741 - val_loss: 0.7505 - val_accuracy: 0.7385\n",
            "Epoch 16/100\n",
            "1250/1250 [==============================] - 8s 6ms/step - loss: 0.9293 - accuracy: 0.6784 - val_loss: 0.7595 - val_accuracy: 0.7323\n",
            "Epoch 17/100\n",
            "1250/1250 [==============================] - 8s 6ms/step - loss: 0.9138 - accuracy: 0.6851 - val_loss: 0.7714 - val_accuracy: 0.7255\n",
            "Epoch 18/100\n",
            "1250/1250 [==============================] - 8s 6ms/step - loss: 0.9051 - accuracy: 0.6829 - val_loss: 0.7717 - val_accuracy: 0.7321\n",
            "Epoch 19/100\n",
            "1250/1250 [==============================] - 8s 6ms/step - loss: 0.8920 - accuracy: 0.6934 - val_loss: 0.7263 - val_accuracy: 0.7478\n",
            "Epoch 20/100\n",
            "1250/1250 [==============================] - 8s 6ms/step - loss: 0.8792 - accuracy: 0.6944 - val_loss: 0.7349 - val_accuracy: 0.7444\n",
            "Epoch 21/100\n",
            "1250/1250 [==============================] - 8s 6ms/step - loss: 0.8620 - accuracy: 0.7034 - val_loss: 0.7183 - val_accuracy: 0.7469\n",
            "Epoch 22/100\n",
            "1250/1250 [==============================] - 8s 6ms/step - loss: 0.8586 - accuracy: 0.7018 - val_loss: 0.7040 - val_accuracy: 0.7562\n",
            "Epoch 23/100\n",
            "1250/1250 [==============================] - 8s 6ms/step - loss: 0.8536 - accuracy: 0.7038 - val_loss: 0.7070 - val_accuracy: 0.7534\n",
            "Epoch 24/100\n",
            "1250/1250 [==============================] - 8s 6ms/step - loss: 0.8515 - accuracy: 0.7068 - val_loss: 0.6983 - val_accuracy: 0.7558\n",
            "Epoch 25/100\n",
            "1250/1250 [==============================] - 7s 6ms/step - loss: 0.8367 - accuracy: 0.7129 - val_loss: 0.7302 - val_accuracy: 0.7444\n",
            "Epoch 26/100\n",
            "1250/1250 [==============================] - 8s 6ms/step - loss: 0.8327 - accuracy: 0.7131 - val_loss: 0.6953 - val_accuracy: 0.7589\n",
            "Epoch 27/100\n",
            "1250/1250 [==============================] - 8s 7ms/step - loss: 0.8293 - accuracy: 0.7120 - val_loss: 0.6758 - val_accuracy: 0.7640\n",
            "Epoch 28/100\n",
            "1250/1250 [==============================] - 7s 6ms/step - loss: 0.8171 - accuracy: 0.7161 - val_loss: 0.6802 - val_accuracy: 0.7643\n",
            "Epoch 29/100\n",
            "1250/1250 [==============================] - 8s 7ms/step - loss: 0.8121 - accuracy: 0.7195 - val_loss: 0.6840 - val_accuracy: 0.7672\n",
            "Epoch 30/100\n",
            "1250/1250 [==============================] - 8s 6ms/step - loss: 0.8103 - accuracy: 0.7189 - val_loss: 0.6835 - val_accuracy: 0.7636\n",
            "Epoch 31/100\n",
            "1250/1250 [==============================] - 8s 6ms/step - loss: 0.8105 - accuracy: 0.7214 - val_loss: 0.6684 - val_accuracy: 0.7669\n",
            "Epoch 32/100\n",
            "1250/1250 [==============================] - 8s 6ms/step - loss: 0.7970 - accuracy: 0.7234 - val_loss: 0.7070 - val_accuracy: 0.7531\n",
            "Epoch 33/100\n",
            "1250/1250 [==============================] - 8s 6ms/step - loss: 0.7916 - accuracy: 0.7276 - val_loss: 0.6798 - val_accuracy: 0.7689\n",
            "Epoch 34/100\n",
            "1250/1250 [==============================] - 8s 6ms/step - loss: 0.7857 - accuracy: 0.7292 - val_loss: 0.6606 - val_accuracy: 0.7699\n",
            "Epoch 35/100\n",
            "1250/1250 [==============================] - 8s 6ms/step - loss: 0.7791 - accuracy: 0.7318 - val_loss: 0.6531 - val_accuracy: 0.7753\n",
            "Epoch 36/100\n",
            "1250/1250 [==============================] - 8s 6ms/step - loss: 0.7759 - accuracy: 0.7297 - val_loss: 0.6611 - val_accuracy: 0.7684\n",
            "Epoch 37/100\n",
            "1250/1250 [==============================] - 7s 6ms/step - loss: 0.7722 - accuracy: 0.7328 - val_loss: 0.6686 - val_accuracy: 0.7682\n",
            "Epoch 38/100\n",
            "1250/1250 [==============================] - 8s 7ms/step - loss: 0.7680 - accuracy: 0.7358 - val_loss: 0.6950 - val_accuracy: 0.7560\n",
            "Epoch 39/100\n",
            "1250/1250 [==============================] - 8s 6ms/step - loss: 0.7623 - accuracy: 0.7387 - val_loss: 0.6545 - val_accuracy: 0.7735\n",
            "Epoch 40/100\n",
            "1250/1250 [==============================] - 8s 6ms/step - loss: 0.7626 - accuracy: 0.7371 - val_loss: 0.6436 - val_accuracy: 0.7751\n"
          ]
        }
      ]
    },
    {
      "cell_type": "markdown",
      "source": [
        "# 3. Exercise: evaluation on test data\n",
        "You will evaluate the classification of the test data using the common metrics and the confusion matrix in this section.\n",
        "\n",
        "\n",
        "As a first stes, let's run the predictions and convert the predicted softmax outputs to dense labels. The one-hot encoded labels are also converted back to dense labels, as they are required for the evaluation functions."
      ],
      "metadata": {
        "id": "2FtKp-a2-A9m"
      }
    },
    {
      "cell_type": "code",
      "source": [
        "probas = model.predict(X_test)\n",
        "preds  = np.argmax(probas,axis=1)\n",
        "Y_test_dense = np.argmax(Y_test, axis=1) # get the original dense labels of the test data"
      ],
      "metadata": {
        "id": "EcWAqwlDMq3y",
        "colab": {
          "base_uri": "https://localhost:8080/"
        },
        "outputId": "e72c70a8-94c0-42df-abf3-8a12dbf43aee"
      },
      "execution_count": 13,
      "outputs": [
        {
          "output_type": "stream",
          "name": "stdout",
          "text": [
            "313/313 [==============================] - 1s 2ms/step\n"
          ]
        }
      ]
    },
    {
      "cell_type": "markdown",
      "source": [
        "## 3.1. Exercise: Metrics\n",
        "please review the common classification metrics (accuracy, precision, recall, F1) for the complete model (not per class).\n",
        "\n",
        "Hints:\n",
        "* use macro averaging\n",
        "* you have to import the right functions from [sklearn.metrics](https://scikit-learn.org/stable/modules/model_evaluation.html)\n"
      ],
      "metadata": {
        "id": "RWJ-PH_iMs9K"
      }
    },
    {
      "cell_type": "code",
      "source": [
        "# Metrics\n",
        "from sklearn.metrics import accuracy_score, precision_score, recall_score, f1_score"
      ],
      "metadata": {
        "id": "5sKm5zHSMZ_x"
      },
      "execution_count": 14,
      "outputs": []
    },
    {
      "cell_type": "code",
      "source": [
        "print(\"Accuracy:\", accuracy_score(Y_test_dense, preds))\n",
        "print(\"Precision:\", precision_score(Y_test_dense, preds, average='macro'))\n",
        "print(\"Recall:\", recall_score(Y_test_dense, preds, average='macro'))\n",
        "print(\"F1:\", f1_score(Y_test_dense, preds, average='macro'))\n"
      ],
      "metadata": {
        "id": "I3_9wgDREUna",
        "colab": {
          "base_uri": "https://localhost:8080/"
        },
        "outputId": "8afe09d8-bc77-4255-fb9b-6c4c67dea942"
      },
      "execution_count": 15,
      "outputs": [
        {
          "output_type": "stream",
          "name": "stdout",
          "text": [
            "Accuracy: 0.7729\n",
            "Precision: 0.7733298249833449\n",
            "Recall: 0.7729\n",
            "F1: 0.7697790931505979\n"
          ]
        }
      ]
    },
    {
      "cell_type": "markdown",
      "source": [
        "\n",
        "## 3.2. Exercise: Confusion matrix\n",
        "Calculate the confusion matrix and display the results in a heatmap (with decimal values).\n",
        "\n",
        "Hints:\n",
        "* you have to do the imports this time too, e.g. from [sklearn.metrics](https://scikit-learn.org/stable/modules/model_evaluation.html) and the [heatmap function](https://seaborn.pydata.org/generated/seaborn.heatmap.html) of [seaborn](https://seaborn.pydata.org/)\n",
        "* for displaying the decimal values, you have to turn annot=True and define fmt='d' in the heatmap function of seaborn"
      ],
      "metadata": {
        "id": "ECHguBFtGL7f"
      }
    },
    {
      "cell_type": "code",
      "source": [
        "from sklearn.metrics import confusion_matrix\n",
        "import seaborn as sns"
      ],
      "metadata": {
        "id": "SIi2VzMBO3yD"
      },
      "execution_count": 16,
      "outputs": []
    },
    {
      "cell_type": "code",
      "metadata": {
        "id": "cdqODx92Svw7",
        "colab": {
          "base_uri": "https://localhost:8080/",
          "height": 522
        },
        "outputId": "6201adb5-cbc1-4474-a186-8834377a768d"
      },
      "source": [
        "conf = confusion_matrix(Y_test_dense, preds)\n",
        "plt.figure(figsize=(7,6))\n",
        "sns.heatmap(conf, annot=True, fmt='d', cmap='Blues')\n",
        "plt.show()"
      ],
      "execution_count": 17,
      "outputs": [
        {
          "output_type": "display_data",
          "data": {
            "text/plain": [
              "<Figure size 700x600 with 2 Axes>"
            ],
            "image/png": "[encoded data removed]"
          },
          "metadata": {}
        }
      ]
    }
  ]
}