{
  "nbformat": 4,
  "nbformat_minor": 0,
  "metadata": {
    "anaconda-cloud": {},
    "kernelspec": {
      "display_name": "Python 3",
      "name": "python3"
    },
    "language_info": {
      "codemirror_mode": {
        "name": "ipython",
        "version": 3
      },
      "file_extension": ".py",
      "mimetype": "text/x-python",
      "name": "python",
      "nbconvert_exporter": "python",
      "pygments_lexer": "ipython3",
      "version": "3.6.6"
    },
    "colab": {
      "provenance": [],
      "gpuType": "T4",
      "include_colab_link": true
    },
    "accelerator": "GPU"
  },
  "cells": [
    {
      "cell_type": "markdown",
      "metadata": {
        "id": "view-in-github",
        "colab_type": "text"
      },
      "source": [
        "<a href=\"https://colab.research.google.com/github/DhyeyMavani2003/dhyey-AIT-deep-learning-assignments-repo/blob/main/Dhyey_Mavani_Copy_of_04_AIT_MLP_CIFAR10_exercise.ipynb\" target=\"_parent\"><img src=\"https://colab.research.google.com/assets/colab-badge.svg\" alt=\"Open In Colab\"/></a>"
      ]
    },
    {
      "cell_type": "markdown",
      "metadata": {
        "id": "cW-EyI5Lxpqi"
      },
      "source": [
        "# Copyright\n",
        "\n",
        "<PRE>\n",
        "Copyright (c) 2024 Bálint Gyires-Tóth - All Rights Reserved\n",
        "You may use and modify this code for research and development purpuses.\n",
        "Using this code for educational purposes (self-paced or instructor led) without the permission of the author is prohibited.\n",
        "</PRE>"
      ]
    },
    {
      "cell_type": "markdown",
      "source": [
        "# Example of data exploration, modeling, regulartion and prediction\n",
        "Our exercise today involves loading a standard dataset using TensorFlow Keras API, exploring the data, building a simple neural network, and evaluating the effects of basic methods (activation functions, regularization, weight initialization, etc.). We then perform predictions on the test set and inspect the results."
      ],
      "metadata": {
        "id": "3EX4cCa4WKJu"
      }
    },
    {
      "cell_type": "markdown",
      "source": [
        "# 1. Data\n",
        "The dataset we will use is the well-known CIFAR10 (Canadian Institute For Advanced Research). Explore the details on the Keras website first: https://keras.io/api/datasets/cifar10/\n",
        "\n",
        "After you explored the basic features of the data, let's load it into the memory and explore the shapes:"
      ],
      "metadata": {
        "id": "yY9fztIeWIKt"
      }
    },
    {
      "cell_type": "code",
      "source": [
        "from tensorflow.keras.datasets import cifar10\n",
        "from tensorflow.keras.utils import to_categorical\n",
        "import numpy as np"
      ],
      "metadata": {
        "id": "giRZKTjzX_7l"
      },
      "execution_count": 2,
      "outputs": []
    },
    {
      "cell_type": "code",
      "source": [
        "(X_train, Y_train), (X_test, Y_test) = cifar10.load_data()"
      ],
      "metadata": {
        "id": "bez7q0eiWQCK",
        "colab": {
          "base_uri": "https://localhost:8080/"
        },
        "outputId": "70d00f0e-29ac-4366-c37a-55c900e4c3bc"
      },
      "execution_count": 3,
      "outputs": [
        {
          "output_type": "stream",
          "name": "stdout",
          "text": [
            "Downloading data from https://www.cs.toronto.edu/~kriz/cifar-10-python.tar.gz\n",
            "170498071/170498071 [==============================] - 2s 0us/step\n"
          ]
        }
      ]
    },
    {
      "cell_type": "code",
      "source": [
        "print(X_train.shape)\n",
        "print(X_test.shape)\n",
        "print(Y_train.shape)\n",
        "print(Y_test.shape)"
      ],
      "metadata": {
        "id": "2tJoRq5wXywi",
        "colab": {
          "base_uri": "https://localhost:8080/"
        },
        "outputId": "37f9aa0a-24d5-470b-e5d9-2bfd77eb988c"
      },
      "execution_count": 4,
      "outputs": [
        {
          "output_type": "stream",
          "name": "stdout",
          "text": [
            "(50000, 32, 32, 3)\n",
            "(10000, 32, 32, 3)\n",
            "(50000, 1)\n",
            "(10000, 1)\n"
          ]
        }
      ]
    },
    {
      "cell_type": "markdown",
      "source": [
        "## 1.1. Exercise\n",
        "Display the first ten images of the training data. Hints:\n",
        "* Axis 0 refers to the separate images, e.g. X_train[0]\n",
        "* You can use the [Matplotlib Pyplot imshow function](https://matplotlib.org/stable/api/_as_gen/matplotlib.pyplot.imshow.html) for displaying the image. Just don't forget to import Plotly first!\n",
        "* A corresponding example, but you have to modify the code for your purpose: https://stackoverflow.com/questions/46615554/how-to-display-multiple-images-in-one-figure-correctly"
      ],
      "metadata": {
        "id": "zTCSGFyDlNvf"
      }
    },
    {
      "cell_type": "code",
      "source": [
        "import matplotlib.pyplot as plt\n",
        "\n",
        "fig = plt.figure(figsize=(8, 8))\n",
        "columns = 5\n",
        "rows = 2\n",
        "for i in range(1, columns*rows +1):\n",
        "    img = X_train[i]\n",
        "    fig.add_subplot(rows, columns, i)\n",
        "    plt.imshow(img)\n",
        "plt.show()"
      ],
      "metadata": {
        "id": "hIQhHTppmBdO",
        "colab": {
          "base_uri": "https://localhost:8080/",
          "height": 507
        },
        "outputId": "d3688698-bc03-454d-be8f-8e6f62169ec5"
      },
      "execution_count": 5,
      "outputs": [
        {
          "output_type": "display_data",
          "data": {
            "text/plain": [
              "<Figure size 800x800 with 10 Axes>"
            ],
            "image/png": "[encoded data removed]"
          },
          "metadata": {}
        }
      ]
    },
    {
      "cell_type": "markdown",
      "source": [
        "Print the corresponding labels of the displayed images from the target variable (Y_train):"
      ],
      "metadata": {
        "id": "FAQkUWlmm-bc"
      }
    },
    {
      "cell_type": "code",
      "source": [
        "print(Y_train[0:10])"
      ],
      "metadata": {
        "id": "AkOrWzghnJ78",
        "colab": {
          "base_uri": "https://localhost:8080/"
        },
        "outputId": "d9bd75a1-c2dd-4fef-bf10-a980c6cefaa7"
      },
      "execution_count": 6,
      "outputs": [
        {
          "output_type": "stream",
          "name": "stdout",
          "text": [
            "[[6]\n",
            " [9]\n",
            " [9]\n",
            " [4]\n",
            " [1]\n",
            " [1]\n",
            " [2]\n",
            " [7]\n",
            " [8]\n",
            " [3]]\n"
          ]
        }
      ]
    },
    {
      "cell_type": "markdown",
      "source": [
        "## 1.2. Exercise\n",
        "We will train a Multi-Layer Perceptron (MLP), which requires a 2 dimensional input: 0th axis refers to the datapoints (i.e. images), the 1th dimens to the input. As images are 3 dimensional (width, height, color channels), you have to reshape the images into vectors. We also call this flattening.\n",
        "\n",
        "In order to do so, calculate the size of the equivalent 1D vector of the image:"
      ],
      "metadata": {
        "id": "VX24g5FstsRU"
      }
    },
    {
      "cell_type": "code",
      "source": [
        "flattened_dim = 32 * 32 * 3"
      ],
      "metadata": {
        "id": "hdoMyxHzuXZG"
      },
      "execution_count": 7,
      "outputs": []
    },
    {
      "cell_type": "markdown",
      "source": [
        "After you calculated it, we can reshape the images, and covert the integer arrays into float arrays -- which are needed for the neural networks as input. Hint:\n",
        "* in the [reshape() function of Numpy](https://www.w3schools.com/python/numpy/numpy_array_reshape.asp) you can use -1 for one axis, to automatically calculate that value."
      ],
      "metadata": {
        "id": "WbqXJUSFubeC"
      }
    },
    {
      "cell_type": "code",
      "source": [
        "# reshape 3D tensors to 2D tensors\n",
        "X_train = X_train.reshape(-1, flattened_dim)\n",
        "X_test = X_test.reshape(-1, flattened_dim)\n",
        "\n",
        "# it is in int8 format, the neural network requires float32\n",
        "X_train = X_train.astype(\"float32\")\n",
        "X_test = X_test.astype(\"float32\")"
      ],
      "metadata": {
        "id": "vukOcBM0XzSj"
      },
      "execution_count": 8,
      "outputs": []
    },
    {
      "cell_type": "markdown",
      "source": [
        "## 1.3. Exercise\n",
        "As the next step, let's split the training data into training and validation data. 80% of the original training data should be the final training data, and 20% the validation.\n",
        "You should use Numpy indexing to select the first 80% of X_train as final X_train, and the last 20% as X_valid. Hints:\n",
        "* https://datascienceparichay.com/article/numpy-array-first-n-rows/\n",
        "* https://datascienceparichay.com/article/numpy-array-last-n-rows/"
      ],
      "metadata": {
        "id": "DO79AdIdvVfD"
      }
    },
    {
      "cell_type": "code",
      "source": [
        "train_ratio  = 0.8\n",
        "train_length = len(X_train) # length of the training data\n",
        "train_split = int(train_length * train_ratio) # where to split the training and validation data\n",
        "X_valid, Y_valid = X_train[train_split:], Y_train[train_split:]\n",
        "X_train, Y_train = X_train[:train_split], Y_train[:train_split]"
      ],
      "metadata": {
        "id": "mRwuWxxIxLgN"
      },
      "execution_count": 9,
      "outputs": []
    },
    {
      "cell_type": "markdown",
      "source": [
        "## 1.4. Exercise\n",
        "As the last step of input data preparation, the data should be standardized. Calculate the mean and variance of the training data (elementvise -- so for each value of the flattened image you should get a mean and variance for the training data along 0th axis). Hint:\n",
        "* https://stackoverflow.com/questions/70626231/how-to-calculate-mean-variance-standard-deviation-per-index-of-array"
      ],
      "metadata": {
        "id": "z05y_QWDxWER"
      }
    },
    {
      "cell_type": "code",
      "source": [
        "X_train_mean = X_train.mean(axis=0)\n",
        "X_train_std = X_train.std(axis=0)\n",
        "X_valid_mean = X_valid.mean(axis=0)\n",
        "X_valid_std = X_valid.std(axis=0)\n",
        "X_test_mean = X_test.mean(axis=0)\n",
        "X_test_std = X_test.std(axis=0)"
      ],
      "metadata": {
        "id": "TSZbvWCBx8Ea"
      },
      "execution_count": 10,
      "outputs": []
    },
    {
      "cell_type": "markdown",
      "source": [
        "Next, use the resulting values to standardize the training, validation and test data by substracting the mean and dividing the result with the standard deviation."
      ],
      "metadata": {
        "id": "6WRHKkkjyN1S"
      }
    },
    {
      "cell_type": "code",
      "source": [
        "X_train = (X_train - X_train_mean) / X_train_std\n",
        "X_valid = (X_valid - X_valid_mean) / X_valid_std\n",
        "X_test = (X_test - X_test_mean) / X_test_std"
      ],
      "metadata": {
        "id": "2ESLP1EIyB2J"
      },
      "execution_count": 11,
      "outputs": []
    },
    {
      "cell_type": "markdown",
      "source": [
        "## 1.5. Exercise\n",
        "And as the last step, convert the dense representation of the classes (i.e. 0,1,2,3...9) to one-hot encoding (0 = [1 0 0 0 0 0 0 0 0 0], 1 = [0 1 0 0 0 0 0 0 0 0] ... 9 = [0 0 0 0 0 0 0 0 0 1]). To do this, first, calculate the number of unique elements in the target training data. Hints:\n",
        "* use the [unique() function](https://numpy.org/doc/stable/reference/generated/numpy.unique.html) of Numpy to list the unique elements\n",
        "* you can count the number of elements in a list with the [len() function](https://www.w3schools.com/python/ref_func_len.asp)"
      ],
      "metadata": {
        "id": "ooHCnUin7r4o"
      }
    },
    {
      "cell_type": "code",
      "source": [
        "nb_classes = len(np.unique(Y_train))"
      ],
      "metadata": {
        "id": "i0LAO9cs8KEE"
      },
      "execution_count": 12,
      "outputs": []
    },
    {
      "cell_type": "markdown",
      "source": [
        "Doublecheck, if the same number of classes exists in the validation and test target data:"
      ],
      "metadata": {
        "id": "BvM6XhGe8JU9"
      }
    },
    {
      "cell_type": "code",
      "source": [
        "print(\"Validation data has the same number of classes, as the training data:\", nb_classes == len(np.unique(Y_valid)))\n",
        "print(\"Test data has the same number of classes, as the training data:\", nb_classes == len(np.unique(Y_test)))"
      ],
      "metadata": {
        "id": "eZFNSsyx_Py2",
        "colab": {
          "base_uri": "https://localhost:8080/"
        },
        "outputId": "c1d0ab2b-f3ea-4afe-b6ac-9dcf25009d2e"
      },
      "execution_count": 13,
      "outputs": [
        {
          "output_type": "stream",
          "name": "stdout",
          "text": [
            "Validation data has the same number of classes, as the training data: True\n",
            "Test data has the same number of classes, as the training data: True\n"
          ]
        }
      ]
    },
    {
      "cell_type": "markdown",
      "source": [
        "And convert the dense representation into one-hot encoding. Hint:\n",
        "* use the [to_categorical function](https://www.tensorflow.org/api_docs/python/tf/keras/utils/to_categorical) with the calculated nb_classes\n"
      ],
      "metadata": {
        "id": "mJM-iBmR8dLe"
      }
    },
    {
      "cell_type": "code",
      "source": [
        "Y_train = to_categorical(Y_train, nb_classes)\n",
        "Y_valid = to_categorical(Y_valid, nb_classes)\n",
        "Y_test = to_categorical(Y_test, nb_classes)"
      ],
      "metadata": {
        "id": "xwZ4OJ6I8lba"
      },
      "execution_count": 14,
      "outputs": []
    },
    {
      "cell_type": "markdown",
      "source": [
        "## Final check of data preparation\n",
        "Now, lets check the shapes and mean and standard deviation of the training, validation and test data."
      ],
      "metadata": {
        "id": "LshN2OSsv3TZ"
      }
    },
    {
      "cell_type": "code",
      "source": [
        "print(\"Shapes of the training, validation and test input data:\", X_train.shape, X_valid.shape, X_test.shape)\n",
        "print(\"Shapes of the training, validation and test output data:\", Y_train.shape, Y_valid.shape, Y_test.shape)\n",
        "print(\"Mean values of the training, validation and test input data:\", X_train.mean(), X_valid.mean(), X_test.mean())\n",
        "print(\"Standard deviation of the training, validation and test input data:\", X_train.std(), X_valid.std(), X_test.std())"
      ],
      "metadata": {
        "id": "O_jdJVcvX0vi",
        "colab": {
          "base_uri": "https://localhost:8080/"
        },
        "outputId": "93f1a696-3ebb-4093-d80f-3c054f0cd081"
      },
      "execution_count": 15,
      "outputs": [
        {
          "output_type": "stream",
          "name": "stdout",
          "text": [
            "Shapes of the training, validation and test input data: (40000, 3072) (10000, 3072) (10000, 3072)\n",
            "Shapes of the training, validation and test output data: (40000, 10) (10000, 10) (10000, 10)\n",
            "Mean values of the training, validation and test input data: -2.4725992e-09 -8.1857043e-10 -1.5187263e-08\n",
            "Standard deviation of the training, validation and test input data: 1.0000038 1.0000011 1.0\n"
          ]
        }
      ]
    },
    {
      "cell_type": "markdown",
      "source": [
        "Don't worry, if the mean and standard deviation of the validation and test data are not exactly 0 and 1, but these might be very mear to it (e.g. 0.01 mean, 0.99 variance)."
      ],
      "metadata": {
        "id": "5GtAOOoezmZY"
      }
    },
    {
      "cell_type": "markdown",
      "metadata": {
        "id": "cJ14oyZExpqj"
      },
      "source": [
        "# 2. Training"
      ]
    },
    {
      "cell_type": "markdown",
      "metadata": {
        "id": "s4ZXYRMBxpql"
      },
      "source": [
        "Let us begin with a simple example of creating a small neural network without regularization and training it with actual data. The purpose of this is to provide you with an example as to how to proceed with the next exercise."
      ]
    },
    {
      "cell_type": "code",
      "source": [
        "# imports\n",
        "import numpy as np\n",
        "import matplotlib.pyplot as plt\n",
        "from tensorflow.keras.models import Sequential\n",
        "from tensorflow.keras.layers import Dense, Embedding, Flatten, Dropout\n",
        "from tensorflow.keras.initializers import HeNormal\n",
        "from tensorflow.keras.callbacks import EarlyStopping"
      ],
      "metadata": {
        "id": "6-8Q6ll7ZDgq"
      },
      "execution_count": 16,
      "outputs": []
    },
    {
      "cell_type": "code",
      "source": [
        "# model definition\n",
        "model = Sequential()\n",
        "model.add(Dense(128, activation='tanh', input_shape=(flattened_dim,)))\n",
        "model.add(Dense(128, activation='tanh'))\n",
        "model.add(Dense(nb_classes, activation='softmax'))\n",
        "\n",
        "# loss function and optimizer\n",
        "model.compile(loss='categorical_crossentropy', optimizer='adam', metrics=['accuracy'])"
      ],
      "metadata": {
        "id": "pke6w3CD8DHp"
      },
      "execution_count": 17,
      "outputs": []
    },
    {
      "cell_type": "code",
      "metadata": {
        "id": "CZbOR76QxprC",
        "colab": {
          "base_uri": "https://localhost:8080/"
        },
        "outputId": "885e3b4a-82f1-487f-ef70-9e2421e6b7cf"
      },
      "source": [
        "# training\n",
        "network_history = model.fit(X_train, Y_train,\n",
        "                            validation_data=(X_valid,Y_valid),\n",
        "                            batch_size=128,\n",
        "                            epochs=40,\n",
        "                            verbose=1)"
      ],
      "execution_count": 18,
      "outputs": [
        {
          "output_type": "stream",
          "name": "stdout",
          "text": [
            "Epoch 1/40\n",
            "313/313 [==============================] - 4s 6ms/step - loss: 1.8111 - accuracy: 0.3673 - val_loss: 1.7568 - val_accuracy: 0.3892\n",
            "Epoch 2/40\n",
            "313/313 [==============================] - 1s 4ms/step - loss: 1.6876 - accuracy: 0.4124 - val_loss: 1.7194 - val_accuracy: 0.4036\n",
            "Epoch 3/40\n",
            "313/313 [==============================] - 1s 4ms/step - loss: 1.6342 - accuracy: 0.4317 - val_loss: 1.7033 - val_accuracy: 0.4051\n",
            "Epoch 4/40\n",
            "313/313 [==============================] - 2s 5ms/step - loss: 1.5950 - accuracy: 0.4480 - val_loss: 1.6876 - val_accuracy: 0.4174\n",
            "Epoch 5/40\n",
            "313/313 [==============================] - 2s 5ms/step - loss: 1.5576 - accuracy: 0.4602 - val_loss: 1.6735 - val_accuracy: 0.4197\n",
            "Epoch 6/40\n",
            "313/313 [==============================] - 1s 4ms/step - loss: 1.5268 - accuracy: 0.4717 - val_loss: 1.6573 - val_accuracy: 0.4295\n",
            "Epoch 7/40\n",
            "313/313 [==============================] - 1s 4ms/step - loss: 1.4973 - accuracy: 0.4840 - val_loss: 1.6558 - val_accuracy: 0.4316\n",
            "Epoch 8/40\n",
            "313/313 [==============================] - 2s 7ms/step - loss: 1.4727 - accuracy: 0.4910 - val_loss: 1.6481 - val_accuracy: 0.4281\n",
            "Epoch 9/40\n",
            "313/313 [==============================] - 2s 8ms/step - loss: 1.4427 - accuracy: 0.5005 - val_loss: 1.6347 - val_accuracy: 0.4348\n",
            "Epoch 10/40\n",
            "313/313 [==============================] - 2s 7ms/step - loss: 1.4133 - accuracy: 0.5084 - val_loss: 1.6407 - val_accuracy: 0.4286\n",
            "Epoch 11/40\n",
            "313/313 [==============================] - 3s 9ms/step - loss: 1.3974 - accuracy: 0.5191 - val_loss: 1.6432 - val_accuracy: 0.4379\n",
            "Epoch 12/40\n",
            "313/313 [==============================] - 3s 8ms/step - loss: 1.3795 - accuracy: 0.5233 - val_loss: 1.6377 - val_accuracy: 0.4420\n",
            "Epoch 13/40\n",
            "313/313 [==============================] - 1s 4ms/step - loss: 1.3541 - accuracy: 0.5332 - val_loss: 1.6324 - val_accuracy: 0.4435\n",
            "Epoch 14/40\n",
            "313/313 [==============================] - 1s 4ms/step - loss: 1.3227 - accuracy: 0.5423 - val_loss: 1.6353 - val_accuracy: 0.4428\n",
            "Epoch 15/40\n",
            "313/313 [==============================] - 1s 4ms/step - loss: 1.3054 - accuracy: 0.5490 - val_loss: 1.6358 - val_accuracy: 0.4450\n",
            "Epoch 16/40\n",
            "313/313 [==============================] - 1s 4ms/step - loss: 1.2861 - accuracy: 0.5566 - val_loss: 1.6436 - val_accuracy: 0.4461\n",
            "Epoch 17/40\n",
            "313/313 [==============================] - 1s 4ms/step - loss: 1.2693 - accuracy: 0.5623 - val_loss: 1.6350 - val_accuracy: 0.4448\n",
            "Epoch 18/40\n",
            "313/313 [==============================] - 1s 4ms/step - loss: 1.2457 - accuracy: 0.5684 - val_loss: 1.6367 - val_accuracy: 0.4523\n",
            "Epoch 19/40\n",
            "313/313 [==============================] - 2s 7ms/step - loss: 1.2295 - accuracy: 0.5735 - val_loss: 1.6415 - val_accuracy: 0.4517\n",
            "Epoch 20/40\n",
            "313/313 [==============================] - 1s 4ms/step - loss: 1.2051 - accuracy: 0.5817 - val_loss: 1.6439 - val_accuracy: 0.4532\n",
            "Epoch 21/40\n",
            "313/313 [==============================] - 1s 4ms/step - loss: 1.1868 - accuracy: 0.5932 - val_loss: 1.6580 - val_accuracy: 0.4389\n",
            "Epoch 22/40\n",
            "313/313 [==============================] - 1s 4ms/step - loss: 1.1791 - accuracy: 0.5915 - val_loss: 1.6763 - val_accuracy: 0.4468\n",
            "Epoch 23/40\n",
            "313/313 [==============================] - 1s 4ms/step - loss: 1.1419 - accuracy: 0.6055 - val_loss: 1.6606 - val_accuracy: 0.4454\n",
            "Epoch 24/40\n",
            "313/313 [==============================] - 1s 4ms/step - loss: 1.1315 - accuracy: 0.6093 - val_loss: 1.6893 - val_accuracy: 0.4433\n",
            "Epoch 25/40\n",
            "313/313 [==============================] - 1s 4ms/step - loss: 1.1172 - accuracy: 0.6179 - val_loss: 1.6855 - val_accuracy: 0.4478\n",
            "Epoch 26/40\n",
            "313/313 [==============================] - 1s 4ms/step - loss: 1.0981 - accuracy: 0.6242 - val_loss: 1.6883 - val_accuracy: 0.4467\n",
            "Epoch 27/40\n",
            "313/313 [==============================] - 2s 5ms/step - loss: 1.0818 - accuracy: 0.6292 - val_loss: 1.7087 - val_accuracy: 0.4443\n",
            "Epoch 28/40\n",
            "313/313 [==============================] - 2s 5ms/step - loss: 1.0598 - accuracy: 0.6365 - val_loss: 1.7123 - val_accuracy: 0.4482\n",
            "Epoch 29/40\n",
            "313/313 [==============================] - 1s 4ms/step - loss: 1.0513 - accuracy: 0.6388 - val_loss: 1.7138 - val_accuracy: 0.4447\n",
            "Epoch 30/40\n",
            "313/313 [==============================] - 1s 4ms/step - loss: 1.0229 - accuracy: 0.6473 - val_loss: 1.7404 - val_accuracy: 0.4415\n",
            "Epoch 31/40\n",
            "313/313 [==============================] - 1s 4ms/step - loss: 1.0116 - accuracy: 0.6535 - val_loss: 1.7361 - val_accuracy: 0.4460\n",
            "Epoch 32/40\n",
            "313/313 [==============================] - 1s 4ms/step - loss: 0.9908 - accuracy: 0.6589 - val_loss: 1.7540 - val_accuracy: 0.4421\n",
            "Epoch 33/40\n",
            "313/313 [==============================] - 1s 4ms/step - loss: 0.9736 - accuracy: 0.6672 - val_loss: 1.7638 - val_accuracy: 0.4451\n",
            "Epoch 34/40\n",
            "313/313 [==============================] - 1s 5ms/step - loss: 0.9618 - accuracy: 0.6723 - val_loss: 1.7750 - val_accuracy: 0.4436\n",
            "Epoch 35/40\n",
            "313/313 [==============================] - 1s 4ms/step - loss: 0.9510 - accuracy: 0.6720 - val_loss: 1.7972 - val_accuracy: 0.4413\n",
            "Epoch 36/40\n",
            "313/313 [==============================] - 2s 5ms/step - loss: 0.9350 - accuracy: 0.6800 - val_loss: 1.8250 - val_accuracy: 0.4383\n",
            "Epoch 37/40\n",
            "313/313 [==============================] - 2s 5ms/step - loss: 0.9109 - accuracy: 0.6883 - val_loss: 1.8240 - val_accuracy: 0.4394\n",
            "Epoch 38/40\n",
            "313/313 [==============================] - 1s 4ms/step - loss: 0.9034 - accuracy: 0.6894 - val_loss: 1.8446 - val_accuracy: 0.4415\n",
            "Epoch 39/40\n",
            "313/313 [==============================] - 1s 4ms/step - loss: 0.8886 - accuracy: 0.6935 - val_loss: 1.8574 - val_accuracy: 0.4375\n",
            "Epoch 40/40\n",
            "313/313 [==============================] - 1s 4ms/step - loss: 0.8726 - accuracy: 0.7013 - val_loss: 1.8800 - val_accuracy: 0.4388\n"
          ]
        }
      ]
    },
    {
      "cell_type": "markdown",
      "metadata": {
        "id": "uFqhzV85xprJ"
      },
      "source": [
        "Let's plot the training and validation loss and accuracy curves:"
      ]
    },
    {
      "cell_type": "code",
      "metadata": {
        "id": "BYmXGkLCxprK",
        "colab": {
          "base_uri": "https://localhost:8080/",
          "height": 881
        },
        "outputId": "47431ac6-b12e-40c1-e1fb-ee1f95fa88e0"
      },
      "source": [
        "def plot_history(network_history):\n",
        "    plt.figure()\n",
        "    plt.xlabel('Epochs')\n",
        "    plt.ylabel('Loss')\n",
        "    plt.plot(network_history.history['loss'])\n",
        "    plt.plot(network_history.history['val_loss'])\n",
        "    plt.legend(['Training', 'Validation'])\n",
        "\n",
        "    plt.figure()\n",
        "    plt.xlabel('Epochs')\n",
        "    plt.ylabel('Accuracy')\n",
        "    plt.plot(network_history.history['accuracy'])\n",
        "    plt.plot(network_history.history['val_accuracy'])\n",
        "    plt.legend(['Training', 'Validation'], loc='lower right')\n",
        "    plt.show()\n",
        "\n",
        "plot_history(network_history)"
      ],
      "execution_count": 19,
      "outputs": [
        {
          "output_type": "display_data",
          "data": {
            "text/plain": [
              "<Figure size 640x480 with 1 Axes>"
            ],
            "image/png": "[encoded data removed]"
          },
          "metadata": {}
        },
        {
          "output_type": "display_data",
          "data": {
            "text/plain": [
              "<Figure size 640x480 with 1 Axes>"
            ],
            "image/png": "[encoded data removed]"
          },
          "metadata": {}
        }
      ]
    },
    {
      "cell_type": "markdown",
      "source": [
        "What do you think? Does it overfit?\n",
        "\n",
        "I think there is overfitting because the training accuracy is significantly more than the validation accuracy especially in the later epochs."
      ],
      "metadata": {
        "id": "tgG7QeXF-dx6"
      }
    },
    {
      "cell_type": "markdown",
      "metadata": {
        "id": "_Q9rIeBBxprO"
      },
      "source": [
        "# Inspecting the model"
      ]
    },
    {
      "cell_type": "code",
      "metadata": {
        "id": "6r2AmmoMxprP",
        "colab": {
          "base_uri": "https://localhost:8080/"
        },
        "outputId": "846c899c-6859-4b18-b67f-71aefb990899"
      },
      "source": [
        "model.summary()"
      ],
      "execution_count": 20,
      "outputs": [
        {
          "output_type": "stream",
          "name": "stdout",
          "text": [
            "Model: \"sequential\"\n",
            "_________________________________________________________________\n",
            " Layer (type)                Output Shape              Param #   \n",
            "=================================================================\n",
            " dense (Dense)               (None, 128)               393344    \n",
            "                                                                 \n",
            " dense_1 (Dense)             (None, 128)               16512     \n",
            "                                                                 \n",
            " dense_2 (Dense)             (None, 10)                1290      \n",
            "                                                                 \n",
            "=================================================================\n",
            "Total params: 411146 (1.57 MB)\n",
            "Trainable params: 411146 (1.57 MB)\n",
            "Non-trainable params: 0 (0.00 Byte)\n",
            "_________________________________________________________________\n"
          ]
        }
      ]
    },
    {
      "cell_type": "code",
      "metadata": {
        "id": "D3-bVDVuxprS",
        "colab": {
          "base_uri": "https://localhost:8080/"
        },
        "outputId": "d3a6b5ab-c8fe-4d51-f772-a809df3b235b"
      },
      "source": [
        "print('Input: ', model.input)"
      ],
      "execution_count": 21,
      "outputs": [
        {
          "output_type": "stream",
          "name": "stdout",
          "text": [
            "Input:  KerasTensor(type_spec=TensorSpec(shape=(None, 3072), dtype=tf.float32, name='dense_input'), name='dense_input', description=\"created by layer 'dense_input'\")\n"
          ]
        }
      ]
    },
    {
      "cell_type": "code",
      "metadata": {
        "id": "Da2OJ3DmxprX",
        "colab": {
          "base_uri": "https://localhost:8080/"
        },
        "outputId": "797ee82b-f42e-451b-a746-8ba927762843"
      },
      "source": [
        "print('Layers:\\n')\n",
        "for layer in model.layers:\n",
        "    print(\"Layer's name: \", layer.name, ', trainable: ', layer.trainable)\n",
        "    print(layer.get_config(),'\\n')"
      ],
      "execution_count": 22,
      "outputs": [
        {
          "output_type": "stream",
          "name": "stdout",
          "text": [
            "Layers:\n",
            "\n",
            "Layer's name:  dense , trainable:  True\n",
            "{'name': 'dense', 'trainable': True, 'dtype': 'float32', 'batch_input_shape': (None, 3072), 'units': 128, 'activation': 'tanh', 'use_bias': True, 'kernel_initializer': {'module': 'keras.initializers', 'class_name': 'GlorotUniform', 'config': {'seed': None}, 'registered_name': None}, 'bias_initializer': {'module': 'keras.initializers', 'class_name': 'Zeros', 'config': {}, 'registered_name': None}, 'kernel_regularizer': None, 'bias_regularizer': None, 'activity_regularizer': None, 'kernel_constraint': None, 'bias_constraint': None} \n",
            "\n",
            "Layer's name:  dense_1 , trainable:  True\n",
            "{'name': 'dense_1', 'trainable': True, 'dtype': 'float32', 'units': 128, 'activation': 'tanh', 'use_bias': True, 'kernel_initializer': {'module': 'keras.initializers', 'class_name': 'GlorotUniform', 'config': {'seed': None}, 'registered_name': None}, 'bias_initializer': {'module': 'keras.initializers', 'class_name': 'Zeros', 'config': {}, 'registered_name': None}, 'kernel_regularizer': None, 'bias_regularizer': None, 'activity_regularizer': None, 'kernel_constraint': None, 'bias_constraint': None} \n",
            "\n",
            "Layer's name:  dense_2 , trainable:  True\n",
            "{'name': 'dense_2', 'trainable': True, 'dtype': 'float32', 'units': 10, 'activation': 'softmax', 'use_bias': True, 'kernel_initializer': {'module': 'keras.initializers', 'class_name': 'GlorotUniform', 'config': {'seed': None}, 'registered_name': None}, 'bias_initializer': {'module': 'keras.initializers', 'class_name': 'Zeros', 'config': {}, 'registered_name': None}, 'kernel_regularizer': None, 'bias_regularizer': None, 'activity_regularizer': None, 'kernel_constraint': None, 'bias_constraint': None} \n",
            "\n"
          ]
        }
      ]
    },
    {
      "cell_type": "code",
      "metadata": {
        "id": "AtVX3M3lxprc",
        "colab": {
          "base_uri": "https://localhost:8080/"
        },
        "outputId": "df0a1f69-91c8-4078-eb15-45038940b2b1"
      },
      "source": [
        "print('Output: ', model.output)"
      ],
      "execution_count": 23,
      "outputs": [
        {
          "output_type": "stream",
          "name": "stdout",
          "text": [
            "Output:  KerasTensor(type_spec=TensorSpec(shape=(None, 10), dtype=tf.float32, name=None), name='dense_2/Softmax:0', description=\"created by layer 'dense_2'\")\n"
          ]
        }
      ]
    },
    {
      "cell_type": "markdown",
      "source": [
        "## 2.1. Exercise\n",
        "Introduce [early stopping](https://www.tensorflow.org/api_docs/python/tf/keras/callbacks/EarlyStopping) and [dropout](https://www.tensorflow.org/api_docs/python/tf/keras/layers/Dropout) with a rate between 0.1..0.5. Tips:\n",
        "\n",
        "* Insert the dropout layer between the two Dense layers.\n",
        "* Set the patience of early stopping to 5.\n",
        "* Set the number of epochs to a very high number.\n",
        "* Don't forget to restore best weights after early stopping.\n",
        "* And also set early stopping to monitor validation accuracy (the default value is validation loss -- which is categorical crossentropy now).\n",
        "\n",
        "Compile and train the model. Attempt to increase the validation accuracy as much as possible by making changes to the dropout rate. Inspect the effects of the modifications."
      ],
      "metadata": {
        "id": "E-hHfs9qA_iO"
      }
    },
    {
      "cell_type": "code",
      "source": [
        "es = EarlyStopping(monitor='val_accuracy', patience=5, restore_best_weights=True)"
      ],
      "metadata": {
        "id": "NwXrPzOgEBG-"
      },
      "execution_count": 24,
      "outputs": []
    },
    {
      "cell_type": "code",
      "source": [
        "# model definition with dropout\n",
        "model = Sequential()\n",
        "model.add(Dense(128, activation='tanh', input_shape=(flattened_dim,)))\n",
        "model.add(Dropout(0.3))  # I consider a dropout rate of 0.3\n",
        "model.add(Dense(128, activation='tanh'))\n",
        "model.add(Dense(nb_classes, activation='softmax'))\n",
        "\n",
        "# loss function and optimizer\n",
        "model.compile(loss='categorical_crossentropy', optimizer='adam', metrics=['accuracy'])"
      ],
      "metadata": {
        "id": "7hZEGzj8GFwP"
      },
      "execution_count": 25,
      "outputs": []
    },
    {
      "cell_type": "code",
      "source": [
        "# training with early stopping\n",
        "network_history = model.fit(X_train, Y_train,\n",
        "                            validation_data=(X_valid, Y_valid),\n",
        "                            batch_size=128,\n",
        "                            epochs=1000000,\n",
        "                            verbose=1,\n",
        "                            callbacks=[es])"
      ],
      "metadata": {
        "id": "GCG54R-vGGWj",
        "colab": {
          "base_uri": "https://localhost:8080/"
        },
        "outputId": "30127cb5-373c-4893-db1c-9979d9d94b77"
      },
      "execution_count": 26,
      "outputs": [
        {
          "output_type": "stream",
          "name": "stdout",
          "text": [
            "Epoch 1/1000000\n",
            "313/313 [==============================] - 4s 6ms/step - loss: 1.8977 - accuracy: 0.3292 - val_loss: 1.7827 - val_accuracy: 0.3760\n",
            "Epoch 2/1000000\n",
            "313/313 [==============================] - 2s 6ms/step - loss: 1.7872 - accuracy: 0.3739 - val_loss: 1.7429 - val_accuracy: 0.3945\n",
            "Epoch 3/1000000\n",
            "313/313 [==============================] - 1s 5ms/step - loss: 1.7413 - accuracy: 0.3902 - val_loss: 1.7199 - val_accuracy: 0.4025\n",
            "Epoch 4/1000000\n",
            "313/313 [==============================] - 1s 4ms/step - loss: 1.7166 - accuracy: 0.4005 - val_loss: 1.7097 - val_accuracy: 0.4082\n",
            "Epoch 5/1000000\n",
            "313/313 [==============================] - 1s 4ms/step - loss: 1.6913 - accuracy: 0.4080 - val_loss: 1.6797 - val_accuracy: 0.4167\n",
            "Epoch 6/1000000\n",
            "313/313 [==============================] - 1s 4ms/step - loss: 1.6613 - accuracy: 0.4218 - val_loss: 1.6676 - val_accuracy: 0.4151\n",
            "Epoch 7/1000000\n",
            "313/313 [==============================] - 1s 4ms/step - loss: 1.6460 - accuracy: 0.4279 - val_loss: 1.6535 - val_accuracy: 0.4282\n",
            "Epoch 8/1000000\n",
            "313/313 [==============================] - 1s 4ms/step - loss: 1.6328 - accuracy: 0.4272 - val_loss: 1.6462 - val_accuracy: 0.4289\n",
            "Epoch 9/1000000\n",
            "313/313 [==============================] - 1s 5ms/step - loss: 1.6099 - accuracy: 0.4403 - val_loss: 1.6336 - val_accuracy: 0.4338\n",
            "Epoch 10/1000000\n",
            "313/313 [==============================] - 2s 6ms/step - loss: 1.5980 - accuracy: 0.4415 - val_loss: 1.6248 - val_accuracy: 0.4389\n",
            "Epoch 11/1000000\n",
            "313/313 [==============================] - 2s 5ms/step - loss: 1.5797 - accuracy: 0.4509 - val_loss: 1.6138 - val_accuracy: 0.4387\n",
            "Epoch 12/1000000\n",
            "313/313 [==============================] - 1s 5ms/step - loss: 1.5667 - accuracy: 0.4505 - val_loss: 1.6073 - val_accuracy: 0.4432\n",
            "Epoch 13/1000000\n",
            "313/313 [==============================] - 1s 5ms/step - loss: 1.5486 - accuracy: 0.4598 - val_loss: 1.5949 - val_accuracy: 0.4449\n",
            "Epoch 14/1000000\n",
            "313/313 [==============================] - 1s 4ms/step - loss: 1.5447 - accuracy: 0.4585 - val_loss: 1.5835 - val_accuracy: 0.4505\n",
            "Epoch 15/1000000\n",
            "313/313 [==============================] - 1s 4ms/step - loss: 1.5264 - accuracy: 0.4651 - val_loss: 1.5784 - val_accuracy: 0.4494\n",
            "Epoch 16/1000000\n",
            "313/313 [==============================] - 1s 5ms/step - loss: 1.5147 - accuracy: 0.4702 - val_loss: 1.5758 - val_accuracy: 0.4502\n",
            "Epoch 17/1000000\n",
            "313/313 [==============================] - 1s 4ms/step - loss: 1.5030 - accuracy: 0.4735 - val_loss: 1.5643 - val_accuracy: 0.4525\n",
            "Epoch 18/1000000\n",
            "313/313 [==============================] - 2s 5ms/step - loss: 1.4920 - accuracy: 0.4754 - val_loss: 1.5664 - val_accuracy: 0.4520\n",
            "Epoch 19/1000000\n",
            "313/313 [==============================] - 2s 5ms/step - loss: 1.4842 - accuracy: 0.4793 - val_loss: 1.5483 - val_accuracy: 0.4586\n",
            "Epoch 20/1000000\n",
            "313/313 [==============================] - 1s 4ms/step - loss: 1.4836 - accuracy: 0.4772 - val_loss: 1.5459 - val_accuracy: 0.4607\n",
            "Epoch 21/1000000\n",
            "313/313 [==============================] - 1s 4ms/step - loss: 1.4795 - accuracy: 0.4814 - val_loss: 1.5487 - val_accuracy: 0.4563\n",
            "Epoch 22/1000000\n",
            "313/313 [==============================] - 1s 4ms/step - loss: 1.4658 - accuracy: 0.4856 - val_loss: 1.5522 - val_accuracy: 0.4591\n",
            "Epoch 23/1000000\n",
            "313/313 [==============================] - 1s 4ms/step - loss: 1.4579 - accuracy: 0.4868 - val_loss: 1.5410 - val_accuracy: 0.4641\n",
            "Epoch 24/1000000\n",
            "313/313 [==============================] - 1s 4ms/step - loss: 1.4514 - accuracy: 0.4911 - val_loss: 1.5338 - val_accuracy: 0.4588\n",
            "Epoch 25/1000000\n",
            "313/313 [==============================] - 1s 4ms/step - loss: 1.4440 - accuracy: 0.4906 - val_loss: 1.5234 - val_accuracy: 0.4699\n",
            "Epoch 26/1000000\n",
            "313/313 [==============================] - 1s 4ms/step - loss: 1.4308 - accuracy: 0.4958 - val_loss: 1.5273 - val_accuracy: 0.4639\n",
            "Epoch 27/1000000\n",
            "313/313 [==============================] - 2s 5ms/step - loss: 1.4268 - accuracy: 0.4961 - val_loss: 1.5276 - val_accuracy: 0.4681\n",
            "Epoch 28/1000000\n",
            "313/313 [==============================] - 2s 5ms/step - loss: 1.4174 - accuracy: 0.5005 - val_loss: 1.5152 - val_accuracy: 0.4708\n",
            "Epoch 29/1000000\n",
            "313/313 [==============================] - 1s 4ms/step - loss: 1.4174 - accuracy: 0.4995 - val_loss: 1.5128 - val_accuracy: 0.4688\n",
            "Epoch 30/1000000\n",
            "313/313 [==============================] - 1s 4ms/step - loss: 1.4087 - accuracy: 0.5005 - val_loss: 1.5079 - val_accuracy: 0.4729\n",
            "Epoch 31/1000000\n",
            "313/313 [==============================] - 1s 4ms/step - loss: 1.4068 - accuracy: 0.5025 - val_loss: 1.5009 - val_accuracy: 0.4774\n",
            "Epoch 32/1000000\n",
            "313/313 [==============================] - 1s 4ms/step - loss: 1.3974 - accuracy: 0.5075 - val_loss: 1.5049 - val_accuracy: 0.4713\n",
            "Epoch 33/1000000\n",
            "313/313 [==============================] - 1s 4ms/step - loss: 1.3955 - accuracy: 0.5055 - val_loss: 1.5043 - val_accuracy: 0.4732\n",
            "Epoch 34/1000000\n",
            "313/313 [==============================] - 1s 5ms/step - loss: 1.3901 - accuracy: 0.5106 - val_loss: 1.5075 - val_accuracy: 0.4721\n",
            "Epoch 35/1000000\n",
            "313/313 [==============================] - 1s 4ms/step - loss: 1.3844 - accuracy: 0.5114 - val_loss: 1.5035 - val_accuracy: 0.4785\n",
            "Epoch 36/1000000\n",
            "313/313 [==============================] - 2s 6ms/step - loss: 1.3793 - accuracy: 0.5130 - val_loss: 1.5065 - val_accuracy: 0.4757\n",
            "Epoch 37/1000000\n",
            "313/313 [==============================] - 2s 5ms/step - loss: 1.3769 - accuracy: 0.5135 - val_loss: 1.4947 - val_accuracy: 0.4781\n",
            "Epoch 38/1000000\n",
            "313/313 [==============================] - 1s 5ms/step - loss: 1.3643 - accuracy: 0.5164 - val_loss: 1.4997 - val_accuracy: 0.4797\n",
            "Epoch 39/1000000\n",
            "313/313 [==============================] - 1s 4ms/step - loss: 1.3617 - accuracy: 0.5174 - val_loss: 1.4900 - val_accuracy: 0.4845\n",
            "Epoch 40/1000000\n",
            "313/313 [==============================] - 2s 5ms/step - loss: 1.3596 - accuracy: 0.5206 - val_loss: 1.4921 - val_accuracy: 0.4835\n",
            "Epoch 41/1000000\n",
            "313/313 [==============================] - 1s 5ms/step - loss: 1.3494 - accuracy: 0.5213 - val_loss: 1.4962 - val_accuracy: 0.4810\n",
            "Epoch 42/1000000\n",
            "313/313 [==============================] - 1s 5ms/step - loss: 1.3462 - accuracy: 0.5248 - val_loss: 1.4929 - val_accuracy: 0.4840\n",
            "Epoch 43/1000000\n",
            "313/313 [==============================] - 1s 5ms/step - loss: 1.3455 - accuracy: 0.5240 - val_loss: 1.4865 - val_accuracy: 0.4801\n",
            "Epoch 44/1000000\n",
            "313/313 [==============================] - 2s 6ms/step - loss: 1.3412 - accuracy: 0.5233 - val_loss: 1.4819 - val_accuracy: 0.4830\n"
          ]
        }
      ]
    },
    {
      "cell_type": "markdown",
      "source": [
        "## 2.2 Exercise\n",
        "Change the [activation function of the dense layers (except the last one)](https://www.tensorflow.org/api_docs/python/tf/keras/layers/Dense) to rectified linear unit (ReLU) and the [weight initialization](https://www.tensorflow.org/api_docs/python/tf/keras/initializers) to the theoretically best one. Use the original model's code.\n",
        "\n",
        "Compile and train the model. Inspect the effects of the modifications."
      ],
      "metadata": {
        "id": "zQCDM1o1BBtF"
      }
    },
    {
      "cell_type": "code",
      "source": [
        "# model definition with relu\n",
        "model = Sequential()\n",
        "model.add(Dense(128, activation='relu', kernel_initializer=HeNormal(), input_shape=(flattened_dim,)))\n",
        "model.add(Dense(128, activation='relu', kernel_initializer=HeNormal()))\n",
        "model.add(Dense(nb_classes, activation='softmax'))\n",
        "\n",
        "# loss function and optimizer\n",
        "model.compile(loss='categorical_crossentropy', optimizer='adam', metrics=['accuracy'])"
      ],
      "metadata": {
        "id": "YjHAAh-wGu9O"
      },
      "execution_count": 27,
      "outputs": []
    },
    {
      "cell_type": "code",
      "source": [
        "# training\n",
        "network_history = model.fit(X_train, Y_train,\n",
        "                            validation_data=(X_valid, Y_valid),\n",
        "                            batch_size=128,\n",
        "                            epochs=40,\n",
        "                            verbose=1)"
      ],
      "metadata": {
        "id": "rarwKM1wGxMz",
        "colab": {
          "base_uri": "https://localhost:8080/"
        },
        "outputId": "57dd297f-15d4-4ed5-9ea4-f6c253555058"
      },
      "execution_count": 28,
      "outputs": [
        {
          "output_type": "stream",
          "name": "stdout",
          "text": [
            "Epoch 1/40\n",
            "313/313 [==============================] - 3s 6ms/step - loss: 1.8323 - accuracy: 0.3781 - val_loss: 1.7001 - val_accuracy: 0.4181\n",
            "Epoch 2/40\n",
            "313/313 [==============================] - 2s 5ms/step - loss: 1.5380 - accuracy: 0.4627 - val_loss: 1.5828 - val_accuracy: 0.4485\n",
            "Epoch 3/40\n",
            "313/313 [==============================] - 2s 5ms/step - loss: 1.4141 - accuracy: 0.5030 - val_loss: 1.5632 - val_accuracy: 0.4538\n",
            "Epoch 4/40\n",
            "313/313 [==============================] - 1s 4ms/step - loss: 1.3365 - accuracy: 0.5296 - val_loss: 1.5063 - val_accuracy: 0.4809\n",
            "Epoch 5/40\n",
            "313/313 [==============================] - 1s 4ms/step - loss: 1.2596 - accuracy: 0.5563 - val_loss: 1.5258 - val_accuracy: 0.4739\n",
            "Epoch 6/40\n",
            "313/313 [==============================] - 1s 4ms/step - loss: 1.2051 - accuracy: 0.5737 - val_loss: 1.5339 - val_accuracy: 0.4819\n",
            "Epoch 7/40\n",
            "313/313 [==============================] - 1s 4ms/step - loss: 1.1490 - accuracy: 0.5939 - val_loss: 1.5457 - val_accuracy: 0.4862\n",
            "Epoch 8/40\n",
            "313/313 [==============================] - 1s 4ms/step - loss: 1.1035 - accuracy: 0.6109 - val_loss: 1.5557 - val_accuracy: 0.4870\n",
            "Epoch 9/40\n",
            "313/313 [==============================] - 1s 4ms/step - loss: 1.0544 - accuracy: 0.6277 - val_loss: 1.5876 - val_accuracy: 0.4839\n",
            "Epoch 10/40\n",
            "313/313 [==============================] - 1s 5ms/step - loss: 1.0139 - accuracy: 0.6447 - val_loss: 1.5753 - val_accuracy: 0.4930\n",
            "Epoch 11/40\n",
            "313/313 [==============================] - 2s 6ms/step - loss: 0.9703 - accuracy: 0.6601 - val_loss: 1.5858 - val_accuracy: 0.4955\n",
            "Epoch 12/40\n",
            "313/313 [==============================] - 1s 5ms/step - loss: 0.9260 - accuracy: 0.6744 - val_loss: 1.6449 - val_accuracy: 0.4935\n",
            "Epoch 13/40\n",
            "313/313 [==============================] - 1s 4ms/step - loss: 0.8903 - accuracy: 0.6877 - val_loss: 1.6709 - val_accuracy: 0.4875\n",
            "Epoch 14/40\n",
            "313/313 [==============================] - 1s 5ms/step - loss: 0.8546 - accuracy: 0.6983 - val_loss: 1.7018 - val_accuracy: 0.4922\n",
            "Epoch 15/40\n",
            "313/313 [==============================] - 1s 4ms/step - loss: 0.8247 - accuracy: 0.7092 - val_loss: 1.7273 - val_accuracy: 0.4904\n",
            "Epoch 16/40\n",
            "313/313 [==============================] - 1s 4ms/step - loss: 0.7882 - accuracy: 0.7241 - val_loss: 1.8232 - val_accuracy: 0.4808\n",
            "Epoch 17/40\n",
            "313/313 [==============================] - 1s 4ms/step - loss: 0.7546 - accuracy: 0.7341 - val_loss: 1.8613 - val_accuracy: 0.4820\n",
            "Epoch 18/40\n",
            "313/313 [==============================] - 1s 4ms/step - loss: 0.7189 - accuracy: 0.7450 - val_loss: 1.8763 - val_accuracy: 0.4846\n",
            "Epoch 19/40\n",
            "313/313 [==============================] - 1s 5ms/step - loss: 0.6988 - accuracy: 0.7569 - val_loss: 1.9548 - val_accuracy: 0.4774\n",
            "Epoch 20/40\n",
            "313/313 [==============================] - 2s 6ms/step - loss: 0.6746 - accuracy: 0.7639 - val_loss: 1.9718 - val_accuracy: 0.4848\n",
            "Epoch 21/40\n",
            "313/313 [==============================] - 1s 5ms/step - loss: 0.6425 - accuracy: 0.7728 - val_loss: 2.0573 - val_accuracy: 0.4783\n",
            "Epoch 22/40\n",
            "313/313 [==============================] - 1s 4ms/step - loss: 0.6160 - accuracy: 0.7850 - val_loss: 2.0416 - val_accuracy: 0.4814\n",
            "Epoch 23/40\n",
            "313/313 [==============================] - 1s 4ms/step - loss: 0.5907 - accuracy: 0.7911 - val_loss: 2.1170 - val_accuracy: 0.4828\n",
            "Epoch 24/40\n",
            "313/313 [==============================] - 1s 4ms/step - loss: 0.5699 - accuracy: 0.7999 - val_loss: 2.1812 - val_accuracy: 0.4770\n",
            "Epoch 25/40\n",
            "313/313 [==============================] - 1s 4ms/step - loss: 0.5470 - accuracy: 0.8087 - val_loss: 2.2791 - val_accuracy: 0.4799\n",
            "Epoch 26/40\n",
            "313/313 [==============================] - 1s 4ms/step - loss: 0.5133 - accuracy: 0.8184 - val_loss: 2.3343 - val_accuracy: 0.4877\n",
            "Epoch 27/40\n",
            "313/313 [==============================] - 1s 4ms/step - loss: 0.5105 - accuracy: 0.8223 - val_loss: 2.3689 - val_accuracy: 0.4797\n",
            "Epoch 28/40\n",
            "313/313 [==============================] - 2s 5ms/step - loss: 0.4837 - accuracy: 0.8310 - val_loss: 2.4008 - val_accuracy: 0.4824\n",
            "Epoch 29/40\n",
            "313/313 [==============================] - 2s 5ms/step - loss: 0.4715 - accuracy: 0.8375 - val_loss: 2.5021 - val_accuracy: 0.4777\n",
            "Epoch 30/40\n",
            "313/313 [==============================] - 1s 4ms/step - loss: 0.4511 - accuracy: 0.8412 - val_loss: 2.5288 - val_accuracy: 0.4783\n",
            "Epoch 31/40\n",
            "313/313 [==============================] - 1s 4ms/step - loss: 0.4370 - accuracy: 0.8469 - val_loss: 2.5491 - val_accuracy: 0.4750\n",
            "Epoch 32/40\n",
            "313/313 [==============================] - 1s 5ms/step - loss: 0.4230 - accuracy: 0.8520 - val_loss: 2.6103 - val_accuracy: 0.4797\n",
            "Epoch 33/40\n",
            "313/313 [==============================] - 1s 4ms/step - loss: 0.4106 - accuracy: 0.8575 - val_loss: 2.7590 - val_accuracy: 0.4711\n",
            "Epoch 34/40\n",
            "313/313 [==============================] - 1s 4ms/step - loss: 0.3825 - accuracy: 0.8658 - val_loss: 2.8007 - val_accuracy: 0.4759\n",
            "Epoch 35/40\n",
            "313/313 [==============================] - 1s 5ms/step - loss: 0.3677 - accuracy: 0.8719 - val_loss: 2.9074 - val_accuracy: 0.4729\n",
            "Epoch 36/40\n",
            "313/313 [==============================] - 1s 5ms/step - loss: 0.3725 - accuracy: 0.8699 - val_loss: 2.9399 - val_accuracy: 0.4723\n",
            "Epoch 37/40\n",
            "313/313 [==============================] - 2s 6ms/step - loss: 0.3532 - accuracy: 0.8785 - val_loss: 3.0183 - val_accuracy: 0.4776\n",
            "Epoch 38/40\n",
            "313/313 [==============================] - 1s 4ms/step - loss: 0.3426 - accuracy: 0.8800 - val_loss: 3.1207 - val_accuracy: 0.4682\n",
            "Epoch 39/40\n",
            "313/313 [==============================] - 1s 4ms/step - loss: 0.3407 - accuracy: 0.8798 - val_loss: 3.1675 - val_accuracy: 0.4653\n",
            "Epoch 40/40\n",
            "313/313 [==============================] - 1s 4ms/step - loss: 0.3242 - accuracy: 0.8855 - val_loss: 3.1586 - val_accuracy: 0.4685\n"
          ]
        }
      ]
    },
    {
      "cell_type": "markdown",
      "source": [
        "After the modification, we can see that the validation accuracy is slightly on the higher end."
      ],
      "metadata": {
        "id": "xn6_RGi1MXYr"
      }
    },
    {
      "cell_type": "markdown",
      "source": [
        "# 2.3. Exercise\n",
        "Based on the modifications above, and by any further modifications (e.g. more layers, less layers, more neurons/layer, etc.) to the model design, find a combination that is able to achieve **validation accuracy, that is higher than 53%**.\n"
      ],
      "metadata": {
        "id": "j1tGVPdD-pp3"
      }
    },
    {
      "cell_type": "code",
      "source": [
        "es = EarlyStopping(monitor='val_accuracy', patience=5, restore_best_weights=True)"
      ],
      "metadata": {
        "id": "5dBQxJHIHrbd"
      },
      "execution_count": 42,
      "outputs": []
    },
    {
      "cell_type": "code",
      "source": [
        "from tensorflow.keras.layers import BatchNormalization\n",
        "\n",
        "# model definition\n",
        "model = Sequential([\n",
        "    Dense(512, activation='relu', kernel_initializer=HeNormal(), input_shape=(flattened_dim,)),\n",
        "    BatchNormalization(),\n",
        "    Dropout(0.25),\n",
        "    Dense(256, activation='relu', kernel_initializer=HeNormal()),\n",
        "    BatchNormalization(),\n",
        "    Dropout(0.25),\n",
        "    Dense(128, activation='relu', kernel_initializer=HeNormal()),\n",
        "    BatchNormalization(),\n",
        "    Dropout(0.25),\n",
        "    Dense(64, activation='relu', kernel_initializer=HeNormal()),\n",
        "    BatchNormalization(),\n",
        "    Dropout(0.25),\n",
        "    Dense(32, activation='relu', kernel_initializer=HeNormal()),\n",
        "    BatchNormalization(),\n",
        "    Dropout(0.25),\n",
        "    Dense(nb_classes, activation='softmax')\n",
        "])\n",
        "\n",
        "# loss function and optimizer\n",
        "model.compile(loss='categorical_crossentropy', optimizer = 'adam', metrics=['accuracy'])\n"
      ],
      "metadata": {
        "id": "PuxHOqLt-3Nd"
      },
      "execution_count": 43,
      "outputs": []
    },
    {
      "cell_type": "code",
      "source": [
        "# training\n",
        "network_history = model.fit(X_train, Y_train, validation_data=(X_valid, Y_valid),\n",
        "                            batch_size=128, epochs=100, verbose=1, callbacks=[es])"
      ],
      "metadata": {
        "id": "u8tFNCNVHyt9",
        "colab": {
          "base_uri": "https://localhost:8080/"
        },
        "outputId": "47316034-78a1-4f24-f016-550f527b7b8e"
      },
      "execution_count": 44,
      "outputs": [
        {
          "output_type": "stream",
          "name": "stdout",
          "text": [
            "Epoch 1/100\n",
            "313/313 [==============================] - 7s 12ms/step - loss: 2.1217 - accuracy: 0.2556 - val_loss: 1.7516 - val_accuracy: 0.3756\n",
            "Epoch 2/100\n",
            "313/313 [==============================] - 3s 9ms/step - loss: 1.8036 - accuracy: 0.3508 - val_loss: 1.6290 - val_accuracy: 0.4207\n",
            "Epoch 3/100\n",
            "313/313 [==============================] - 3s 9ms/step - loss: 1.6827 - accuracy: 0.3995 - val_loss: 1.5547 - val_accuracy: 0.4456\n",
            "Epoch 4/100\n",
            "313/313 [==============================] - 3s 10ms/step - loss: 1.6085 - accuracy: 0.4315 - val_loss: 1.5046 - val_accuracy: 0.4623\n",
            "Epoch 5/100\n",
            "313/313 [==============================] - 3s 10ms/step - loss: 1.5661 - accuracy: 0.4452 - val_loss: 1.4706 - val_accuracy: 0.4767\n",
            "Epoch 6/100\n",
            "313/313 [==============================] - 3s 9ms/step - loss: 1.5102 - accuracy: 0.4695 - val_loss: 1.4479 - val_accuracy: 0.4827\n",
            "Epoch 7/100\n",
            "313/313 [==============================] - 3s 9ms/step - loss: 1.4709 - accuracy: 0.4811 - val_loss: 1.4017 - val_accuracy: 0.5003\n",
            "Epoch 8/100\n",
            "313/313 [==============================] - 3s 9ms/step - loss: 1.4433 - accuracy: 0.4932 - val_loss: 1.3974 - val_accuracy: 0.5066\n",
            "Epoch 9/100\n",
            "313/313 [==============================] - 3s 10ms/step - loss: 1.4022 - accuracy: 0.5096 - val_loss: 1.3678 - val_accuracy: 0.5160\n",
            "Epoch 10/100\n",
            "313/313 [==============================] - 3s 9ms/step - loss: 1.3770 - accuracy: 0.5207 - val_loss: 1.3537 - val_accuracy: 0.5229\n",
            "Epoch 11/100\n",
            "313/313 [==============================] - 3s 9ms/step - loss: 1.3548 - accuracy: 0.5305 - val_loss: 1.3434 - val_accuracy: 0.5278\n",
            "Epoch 12/100\n",
            "313/313 [==============================] - 3s 9ms/step - loss: 1.3306 - accuracy: 0.5399 - val_loss: 1.3488 - val_accuracy: 0.5258\n",
            "Epoch 13/100\n",
            "313/313 [==============================] - 3s 11ms/step - loss: 1.3047 - accuracy: 0.5452 - val_loss: 1.3245 - val_accuracy: 0.5376\n",
            "Epoch 14/100\n",
            "313/313 [==============================] - 3s 9ms/step - loss: 1.2834 - accuracy: 0.5544 - val_loss: 1.3243 - val_accuracy: 0.5385\n",
            "Epoch 15/100\n",
            "313/313 [==============================] - 3s 9ms/step - loss: 1.2614 - accuracy: 0.5641 - val_loss: 1.3195 - val_accuracy: 0.5335\n",
            "Epoch 16/100\n",
            "313/313 [==============================] - 3s 9ms/step - loss: 1.2397 - accuracy: 0.5713 - val_loss: 1.3154 - val_accuracy: 0.5440\n",
            "Epoch 17/100\n",
            "313/313 [==============================] - 3s 11ms/step - loss: 1.2198 - accuracy: 0.5789 - val_loss: 1.3010 - val_accuracy: 0.5436\n",
            "Epoch 18/100\n",
            "313/313 [==============================] - 3s 9ms/step - loss: 1.2002 - accuracy: 0.5853 - val_loss: 1.3081 - val_accuracy: 0.5493\n",
            "Epoch 19/100\n",
            "313/313 [==============================] - 3s 9ms/step - loss: 1.1856 - accuracy: 0.5922 - val_loss: 1.3039 - val_accuracy: 0.5488\n",
            "Epoch 20/100\n",
            "313/313 [==============================] - 3s 9ms/step - loss: 1.1578 - accuracy: 0.5992 - val_loss: 1.2981 - val_accuracy: 0.5499\n",
            "Epoch 21/100\n",
            "313/313 [==============================] - 3s 11ms/step - loss: 1.1516 - accuracy: 0.6019 - val_loss: 1.3126 - val_accuracy: 0.5522\n",
            "Epoch 22/100\n",
            "313/313 [==============================] - 3s 9ms/step - loss: 1.1309 - accuracy: 0.6127 - val_loss: 1.2964 - val_accuracy: 0.5535\n",
            "Epoch 23/100\n",
            "313/313 [==============================] - 3s 9ms/step - loss: 1.1175 - accuracy: 0.6155 - val_loss: 1.2783 - val_accuracy: 0.5603\n",
            "Epoch 24/100\n",
            "313/313 [==============================] - 3s 10ms/step - loss: 1.0957 - accuracy: 0.6255 - val_loss: 1.2845 - val_accuracy: 0.5609\n",
            "Epoch 25/100\n",
            "313/313 [==============================] - 3s 11ms/step - loss: 1.0851 - accuracy: 0.6300 - val_loss: 1.2897 - val_accuracy: 0.5534\n",
            "Epoch 26/100\n",
            "313/313 [==============================] - 3s 9ms/step - loss: 1.0683 - accuracy: 0.6357 - val_loss: 1.3049 - val_accuracy: 0.5587\n",
            "Epoch 27/100\n",
            "313/313 [==============================] - 3s 9ms/step - loss: 1.0565 - accuracy: 0.6421 - val_loss: 1.3017 - val_accuracy: 0.5548\n",
            "Epoch 28/100\n",
            "313/313 [==============================] - 3s 10ms/step - loss: 1.0362 - accuracy: 0.6432 - val_loss: 1.3055 - val_accuracy: 0.5628\n",
            "Epoch 29/100\n",
            "313/313 [==============================] - 3s 10ms/step - loss: 1.0193 - accuracy: 0.6535 - val_loss: 1.2925 - val_accuracy: 0.5691\n",
            "Epoch 30/100\n",
            "313/313 [==============================] - 3s 9ms/step - loss: 1.0020 - accuracy: 0.6589 - val_loss: 1.2961 - val_accuracy: 0.5656\n",
            "Epoch 31/100\n",
            "313/313 [==============================] - 3s 9ms/step - loss: 0.9975 - accuracy: 0.6620 - val_loss: 1.3151 - val_accuracy: 0.5592\n",
            "Epoch 32/100\n",
            "313/313 [==============================] - 3s 10ms/step - loss: 0.9756 - accuracy: 0.6692 - val_loss: 1.2914 - val_accuracy: 0.5654\n",
            "Epoch 33/100\n",
            "313/313 [==============================] - 3s 10ms/step - loss: 0.9716 - accuracy: 0.6704 - val_loss: 1.3003 - val_accuracy: 0.5634\n",
            "Epoch 34/100\n",
            "313/313 [==============================] - 3s 9ms/step - loss: 0.9562 - accuracy: 0.6765 - val_loss: 1.3147 - val_accuracy: 0.5599\n"
          ]
        }
      ]
    },
    {
      "cell_type": "markdown",
      "source": [
        "# 3. Evaluation on test data and inference\n",
        "At this point, we will perform a basic evaluation and inference. With the model.evaluate function, the same metrics are calculated, that were used during training:"
      ],
      "metadata": {
        "id": "2FtKp-a2-A9m"
      }
    },
    {
      "cell_type": "code",
      "source": [
        "print(model.evaluate(X_test, Y_test))"
      ],
      "metadata": {
        "id": "I3_9wgDREUna",
        "colab": {
          "base_uri": "https://localhost:8080/"
        },
        "outputId": "f2e82bbe-429a-4e66-8590-30eb8bf8402c"
      },
      "execution_count": 45,
      "outputs": [
        {
          "output_type": "stream",
          "name": "stdout",
          "text": [
            "313/313 [==============================] - 1s 3ms/step - loss: 1.2835 - accuracy: 0.5611\n",
            "[1.2835456132888794, 0.5611000061035156]\n"
          ]
        }
      ]
    },
    {
      "cell_type": "code",
      "source": [
        "plot_history(network_history)"
      ],
      "metadata": {
        "colab": {
          "base_uri": "https://localhost:8080/",
          "height": 881
        },
        "id": "PEUXZmXD58zZ",
        "outputId": "c06e9e74-7ebc-4a27-d78d-363758a5c115"
      },
      "execution_count": 47,
      "outputs": [
        {
          "output_type": "display_data",
          "data": {
            "text/plain": [
              "<Figure size 640x480 with 1 Axes>"
            ],
            "image/png": "[encoded data removed]"
          },
          "metadata": {}
        },
        {
          "output_type": "display_data",
          "data": {
            "text/plain": [
              "<Figure size 640x480 with 1 Axes>"
            ],
            "image/png": "[encoded data removed]"
          },
          "metadata": {}
        }
      ]
    },
    {
      "cell_type": "markdown",
      "source": [
        "we would like to see similar values, as in the validation set. If those are close to each other, then the generalization ability of the model is good (in case of an independent test-set)."
      ],
      "metadata": {
        "id": "ECHguBFtGL7f"
      }
    },
    {
      "cell_type": "markdown",
      "source": [
        "## 3.1. Exercise\n",
        "Predict the class of the first 10 elements in the test set, and compare the predicted values with the actual, target values in the test set. Hints:\n",
        "* you can use [model.predict](https://www.activestate.com/resources/quick-reads/how-to-use-a-model-to-do-predictions-with-keras/) for prediction\n",
        "* from the output you can select the largest value with the [argmax() function of Numpy](https://stackoverflow.com/questions/62358642/convert-one-hot-encoding-back-to-number-label). As there are multiple values, you have to call it with axis=1 parameter.\n",
        "* it is enought to compare the predictions and the targets by printing the values out and inspecting them."
      ],
      "metadata": {
        "id": "0Io4zYJeHjz6"
      }
    },
    {
      "cell_type": "code",
      "source": [
        "preds = model.predict(X_test[:10])\n",
        "preds_dense = np.argmax(preds, axis=1)"
      ],
      "metadata": {
        "id": "XEEyU7exILqF",
        "colab": {
          "base_uri": "https://localhost:8080/"
        },
        "outputId": "d26b4271-1f9a-47d2-d8db-6a1285ff9046"
      },
      "execution_count": 48,
      "outputs": [
        {
          "output_type": "stream",
          "name": "stdout",
          "text": [
            "1/1 [==============================] - 0s 143ms/step\n"
          ]
        }
      ]
    },
    {
      "cell_type": "markdown",
      "source": [
        "Before comparision, you have to convert back the one-hot encoded target values the same way, as you converted the output of the neural network to class values with argmax() function."
      ],
      "metadata": {
        "id": "seZTEFI-I5cZ"
      }
    },
    {
      "cell_type": "code",
      "source": [
        "print(\"Target labels:   \", np.argmax(Y_test[:10],axis=1))\n",
        "print(\"Predicted labels:\", preds_dense)"
      ],
      "metadata": {
        "id": "PHLvoMuIIkJ6",
        "colab": {
          "base_uri": "https://localhost:8080/"
        },
        "outputId": "63d92bb1-ff07-4c7d-f647-9cbb3834ee35"
      },
      "execution_count": 49,
      "outputs": [
        {
          "output_type": "stream",
          "name": "stdout",
          "text": [
            "Target labels:    [3 8 8 0 6 6 1 6 3 1]\n",
            "Predicted labels: [3 9 0 8 4 6 1 6 5 1]\n"
          ]
        }
      ]
    }
  ]
}