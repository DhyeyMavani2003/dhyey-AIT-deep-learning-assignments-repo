{
  "nbformat": 4,
  "nbformat_minor": 0,
  "metadata": {
    "anaconda-cloud": {},
    "kernelspec": {
      "display_name": "Python 3",
      "name": "python3"
    },
    "language_info": {
      "codemirror_mode": {
        "name": "ipython",
        "version": 3
      },
      "file_extension": ".py",
      "mimetype": "text/x-python",
      "name": "python",
      "nbconvert_exporter": "python",
      "pygments_lexer": "ipython3",
      "version": "3.6.6"
    },
    "colab": {
      "provenance": [],
      "gpuType": "T4",
      "include_colab_link": true
    },
    "accelerator": "GPU"
  },
  "cells": [
    {
      "cell_type": "markdown",
      "metadata": {
        "id": "view-in-github",
        "colab_type": "text"
      },
      "source": [
        "<a href=\"https://colab.research.google.com/github/DhyeyMavani2003/dhyey-AIT-deep-learning-assignments-repo/blob/main/Dhyey_Mavani_Copy_of_04_AIT_MLP_CIFAR10_exercise.ipynb\" target=\"_parent\"><img src=\"https://colab.research.google.com/assets/colab-badge.svg\" alt=\"Open In Colab\"/></a>"
      ]
    },
    {
      "cell_type": "markdown",
      "metadata": {
        "id": "cW-EyI5Lxpqi"
      },
      "source": [
        "# Copyright\n",
        "\n",
        "<PRE>\n",
        "Copyright (c) 2024 Bálint Gyires-Tóth - All Rights Reserved\n",
        "You may use and modify this code for research and development purpuses.\n",
        "Using this code for educational purposes (self-paced or instructor led) without the permission of the author is prohibited.\n",
        "</PRE>"
      ]
    },
    {
      "cell_type": "markdown",
      "source": [
        "# Example of data exploration, modeling, regulartion and prediction\n",
        "Our exercise today involves loading a standard dataset using TensorFlow Keras API, exploring the data, building a simple neural network, and evaluating the effects of basic methods (activation functions, regularization, weight initialization, etc.). We then perform predictions on the test set and inspect the results."
      ],
      "metadata": {
        "id": "3EX4cCa4WKJu"
      }
    },
    {
      "cell_type": "markdown",
      "source": [
        "# 1. Data\n",
        "The dataset we will use is the well-known CIFAR10 (Canadian Institute For Advanced Research). Explore the details on the Keras website first: https://keras.io/api/datasets/cifar10/\n",
        "\n",
        "After you explored the basic features of the data, let's load it into the memory and explore the shapes:"
      ],
      "metadata": {
        "id": "yY9fztIeWIKt"
      }
    },
    {
      "cell_type": "code",
      "source": [
        "from tensorflow.keras.datasets import cifar10\n",
        "from tensorflow.keras.utils import to_categorical\n",
        "import numpy as np"
      ],
      "metadata": {
        "id": "giRZKTjzX_7l"
      },
      "execution_count": 1,
      "outputs": []
    },
    {
      "cell_type": "code",
      "source": [
        "(X_train, Y_train), (X_test, Y_test) = cifar10.load_data()"
      ],
      "metadata": {
        "id": "bez7q0eiWQCK",
        "colab": {
          "base_uri": "https://localhost:8080/"
        },
        "outputId": "c71b146e-942d-4f4e-9eb4-da720eaf6779"
      },
      "execution_count": 2,
      "outputs": [
        {
          "output_type": "stream",
          "name": "stdout",
          "text": [
            "Downloading data from https://www.cs.toronto.edu/~kriz/cifar-10-python.tar.gz\n",
            "170498071/170498071 [==============================] - 6s 0us/step\n"
          ]
        }
      ]
    },
    {
      "cell_type": "code",
      "source": [
        "print(X_train.shape)\n",
        "print(X_test.shape)\n",
        "print(Y_train.shape)\n",
        "print(Y_test.shape)"
      ],
      "metadata": {
        "id": "2tJoRq5wXywi",
        "colab": {
          "base_uri": "https://localhost:8080/"
        },
        "outputId": "ca7bd465-77d6-4096-8a71-a1591e60e9ea"
      },
      "execution_count": 3,
      "outputs": [
        {
          "output_type": "stream",
          "name": "stdout",
          "text": [
            "(50000, 32, 32, 3)\n",
            "(10000, 32, 32, 3)\n",
            "(50000, 1)\n",
            "(10000, 1)\n"
          ]
        }
      ]
    },
    {
      "cell_type": "markdown",
      "source": [
        "## 1.1. Exercise\n",
        "Display the first ten images of the training data. Hints:\n",
        "* Axis 0 refers to the separate images, e.g. X_train[0]\n",
        "* You can use the [Matplotlib Pyplot imshow function](https://matplotlib.org/stable/api/_as_gen/matplotlib.pyplot.imshow.html) for displaying the image. Just don't forget to import Plotly first!\n",
        "* A corresponding example, but you have to modify the code for your purpose: https://stackoverflow.com/questions/46615554/how-to-display-multiple-images-in-one-figure-correctly"
      ],
      "metadata": {
        "id": "zTCSGFyDlNvf"
      }
    },
    {
      "cell_type": "code",
      "source": [
        "import matplotlib.pyplot as plt\n",
        "\n",
        "fig = plt.figure(figsize=(8, 8))\n",
        "columns = 5\n",
        "rows = 2\n",
        "for i in range(1, columns*rows +1):\n",
        "    img = X_train[i-1]\n",
        "    fig.add_subplot(rows, columns, i)\n",
        "    plt.imshow(img)\n",
        "plt.show()"
      ],
      "metadata": {
        "id": "hIQhHTppmBdO",
        "colab": {
          "base_uri": "https://localhost:8080/",
          "height": 507
        },
        "outputId": "f6e84c2e-2a08-4cfe-d021-d627876c3502"
      },
      "execution_count": 37,
      "outputs": [
        {
          "output_type": "display_data",
          "data": {
            "text/plain": [
              "<Figure size 800x800 with 10 Axes>"
            ],
            "image/png": "[encoded data removed]"
          },
          "metadata": {}
        }
      ]
    },
    {
      "cell_type": "markdown",
      "source": [
        "Print the corresponding labels of the displayed images from the target variable (Y_train):"
      ],
      "metadata": {
        "id": "FAQkUWlmm-bc"
      }
    },
    {
      "cell_type": "code",
      "source": [
        "print(Y_train[0:10])"
      ],
      "metadata": {
        "id": "AkOrWzghnJ78",
        "colab": {
          "base_uri": "https://localhost:8080/"
        },
        "outputId": "3805a62a-dd5c-48f6-e414-07755e900f80"
      },
      "execution_count": 5,
      "outputs": [
        {
          "output_type": "stream",
          "name": "stdout",
          "text": [
            "[[6]\n",
            " [9]\n",
            " [9]\n",
            " [4]\n",
            " [1]\n",
            " [1]\n",
            " [2]\n",
            " [7]\n",
            " [8]\n",
            " [3]]\n"
          ]
        }
      ]
    },
    {
      "cell_type": "markdown",
      "source": [
        "## 1.2. Exercise\n",
        "We will train a Multi-Layer Perceptron (MLP), which requires a 2 dimensional input: 0th axis refers to the datapoints (i.e. images), the 1th dimens to the input. As images are 3 dimensional (width, height, color channels), you have to reshape the images into vectors. We also call this flattening.\n",
        "\n",
        "In order to do so, calculate the size of the equivalent 1D vector of the image:"
      ],
      "metadata": {
        "id": "VX24g5FstsRU"
      }
    },
    {
      "cell_type": "code",
      "source": [
        "flattened_dim = 32 * 32 * 3"
      ],
      "metadata": {
        "id": "hdoMyxHzuXZG"
      },
      "execution_count": 6,
      "outputs": []
    },
    {
      "cell_type": "markdown",
      "source": [
        "After you calculated it, we can reshape the images, and covert the integer arrays into float arrays -- which are needed for the neural networks as input. Hint:\n",
        "* in the [reshape() function of Numpy](https://www.w3schools.com/python/numpy/numpy_array_reshape.asp) you can use -1 for one axis, to automatically calculate that value."
      ],
      "metadata": {
        "id": "WbqXJUSFubeC"
      }
    },
    {
      "cell_type": "code",
      "source": [
        "# reshape 3D tensors to 2D tensors\n",
        "X_train = X_train.reshape(-1, flattened_dim)\n",
        "X_test = X_test.reshape(-1, flattened_dim)\n",
        "\n",
        "# it is in int8 format, the neural network requires float32\n",
        "X_train = X_train.astype(\"float32\")\n",
        "X_test = X_test.astype(\"float32\")"
      ],
      "metadata": {
        "id": "vukOcBM0XzSj"
      },
      "execution_count": 7,
      "outputs": []
    },
    {
      "cell_type": "markdown",
      "source": [
        "## 1.3. Exercise\n",
        "As the next step, let's split the training data into training and validation data. 80% of the original training data should be the final training data, and 20% the validation.\n",
        "You should use Numpy indexing to select the first 80% of X_train as final X_train, and the last 20% as X_valid. Hints:\n",
        "* https://datascienceparichay.com/article/numpy-array-first-n-rows/\n",
        "* https://datascienceparichay.com/article/numpy-array-last-n-rows/"
      ],
      "metadata": {
        "id": "DO79AdIdvVfD"
      }
    },
    {
      "cell_type": "code",
      "source": [
        "train_ratio  = 0.8\n",
        "train_length = len(X_train) # length of the training data\n",
        "train_split = int(train_length * train_ratio) # where to split the training and validation data\n",
        "X_valid, Y_valid = X_train[train_split:], Y_train[train_split:]\n",
        "X_train, Y_train = X_train[:train_split], Y_train[:train_split]"
      ],
      "metadata": {
        "id": "mRwuWxxIxLgN"
      },
      "execution_count": 8,
      "outputs": []
    },
    {
      "cell_type": "markdown",
      "source": [
        "## 1.4. Exercise\n",
        "As the last step of input data preparation, the data should be standardized. Calculate the mean and variance of the training data (elementvise -- so for each value of the flattened image you should get a mean and variance for the training data along 0th axis). Hint:\n",
        "* https://stackoverflow.com/questions/70626231/how-to-calculate-mean-variance-standard-deviation-per-index-of-array"
      ],
      "metadata": {
        "id": "z05y_QWDxWER"
      }
    },
    {
      "cell_type": "code",
      "source": [
        "X_train_mean = X_train.mean(axis=0)\n",
        "X_train_std = X_train.std(axis=0)\n",
        "X_valid_mean = X_valid.mean(axis=0)\n",
        "X_valid_std = X_valid.std(axis=0)\n",
        "X_test_mean = X_test.mean(axis=0)\n",
        "X_test_std = X_test.std(axis=0)"
      ],
      "metadata": {
        "id": "TSZbvWCBx8Ea"
      },
      "execution_count": 9,
      "outputs": []
    },
    {
      "cell_type": "markdown",
      "source": [
        "Next, use the resulting values to standardize the training, validation and test data by substracting the mean and dividing the result with the standard deviation."
      ],
      "metadata": {
        "id": "6WRHKkkjyN1S"
      }
    },
    {
      "cell_type": "code",
      "source": [
        "X_train = (X_train - X_train_mean) / X_train_std\n",
        "X_valid = (X_valid - X_valid_mean) / X_valid_std\n",
        "X_test = (X_test - X_test_mean) / X_test_std"
      ],
      "metadata": {
        "id": "2ESLP1EIyB2J"
      },
      "execution_count": 10,
      "outputs": []
    },
    {
      "cell_type": "markdown",
      "source": [
        "## 1.5. Exercise\n",
        "And as the last step, convert the dense representation of the classes (i.e. 0,1,2,3...9) to one-hot encoding (0 = [1 0 0 0 0 0 0 0 0 0], 1 = [0 1 0 0 0 0 0 0 0 0] ... 9 = [0 0 0 0 0 0 0 0 0 1]). To do this, first, calculate the number of unique elements in the target training data. Hints:\n",
        "* use the [unique() function](https://numpy.org/doc/stable/reference/generated/numpy.unique.html) of Numpy to list the unique elements\n",
        "* you can count the number of elements in a list with the [len() function](https://www.w3schools.com/python/ref_func_len.asp)"
      ],
      "metadata": {
        "id": "ooHCnUin7r4o"
      }
    },
    {
      "cell_type": "code",
      "source": [
        "nb_classes = len(np.unique(Y_train))"
      ],
      "metadata": {
        "id": "i0LAO9cs8KEE"
      },
      "execution_count": 11,
      "outputs": []
    },
    {
      "cell_type": "markdown",
      "source": [
        "Doublecheck, if the same number of classes exists in the validation and test target data:"
      ],
      "metadata": {
        "id": "BvM6XhGe8JU9"
      }
    },
    {
      "cell_type": "code",
      "source": [
        "print(\"Validation data has the same number of classes, as the training data:\", nb_classes == len(np.unique(Y_valid)))\n",
        "print(\"Test data has the same number of classes, as the training data:\", nb_classes == len(np.unique(Y_test)))"
      ],
      "metadata": {
        "id": "eZFNSsyx_Py2",
        "colab": {
          "base_uri": "https://localhost:8080/"
        },
        "outputId": "fe729392-a9a2-49be-b3ee-4913e47c55e8"
      },
      "execution_count": 12,
      "outputs": [
        {
          "output_type": "stream",
          "name": "stdout",
          "text": [
            "Validation data has the same number of classes, as the training data: True\n",
            "Test data has the same number of classes, as the training data: True\n"
          ]
        }
      ]
    },
    {
      "cell_type": "markdown",
      "source": [
        "And convert the dense representation into one-hot encoding. Hint:\n",
        "* use the [to_categorical function](https://www.tensorflow.org/api_docs/python/tf/keras/utils/to_categorical) with the calculated nb_classes\n"
      ],
      "metadata": {
        "id": "mJM-iBmR8dLe"
      }
    },
    {
      "cell_type": "code",
      "source": [
        "Y_train = to_categorical(Y_train, nb_classes)\n",
        "Y_valid = to_categorical(Y_valid, nb_classes)\n",
        "Y_test = to_categorical(Y_test, nb_classes)"
      ],
      "metadata": {
        "id": "xwZ4OJ6I8lba"
      },
      "execution_count": 13,
      "outputs": []
    },
    {
      "cell_type": "markdown",
      "source": [
        "## Final check of data preparation\n",
        "Now, lets check the shapes and mean and standard deviation of the training, validation and test data."
      ],
      "metadata": {
        "id": "LshN2OSsv3TZ"
      }
    },
    {
      "cell_type": "code",
      "source": [
        "print(\"Shapes of the training, validation and test input data:\", X_train.shape, X_valid.shape, X_test.shape)\n",
        "print(\"Shapes of the training, validation and test output data:\", Y_train.shape, Y_valid.shape, Y_test.shape)\n",
        "print(\"Mean values of the training, validation and test input data:\", X_train.mean(), X_valid.mean(), X_test.mean())\n",
        "print(\"Standard deviation of the training, validation and test input data:\", X_train.std(), X_valid.std(), X_test.std())"
      ],
      "metadata": {
        "id": "O_jdJVcvX0vi",
        "colab": {
          "base_uri": "https://localhost:8080/"
        },
        "outputId": "0a001e51-0f4a-49bd-afbe-9b39d4a811d9"
      },
      "execution_count": 14,
      "outputs": [
        {
          "output_type": "stream",
          "name": "stdout",
          "text": [
            "Shapes of the training, validation and test input data: (40000, 3072) (10000, 3072) (10000, 3072)\n",
            "Shapes of the training, validation and test output data: (40000, 10) (10000, 10) (10000, 10)\n",
            "Mean values of the training, validation and test input data: -2.4725992e-09 -8.1857043e-10 -1.5187263e-08\n",
            "Standard deviation of the training, validation and test input data: 1.0000038 1.0000011 1.0\n"
          ]
        }
      ]
    },
    {
      "cell_type": "markdown",
      "source": [
        "Don't worry, if the mean and standard deviation of the validation and test data are not exactly 0 and 1, but these might be very mear to it (e.g. 0.01 mean, 0.99 variance)."
      ],
      "metadata": {
        "id": "5GtAOOoezmZY"
      }
    },
    {
      "cell_type": "markdown",
      "metadata": {
        "id": "cJ14oyZExpqj"
      },
      "source": [
        "# 2. Training"
      ]
    },
    {
      "cell_type": "markdown",
      "metadata": {
        "id": "s4ZXYRMBxpql"
      },
      "source": [
        "Let us begin with a simple example of creating a small neural network without regularization and training it with actual data. The purpose of this is to provide you with an example as to how to proceed with the next exercise."
      ]
    },
    {
      "cell_type": "code",
      "source": [
        "# imports\n",
        "import numpy as np\n",
        "import matplotlib.pyplot as plt\n",
        "from tensorflow.keras.models import Sequential\n",
        "from tensorflow.keras.layers import Dense, Embedding, Flatten, Dropout\n",
        "from tensorflow.keras.initializers import HeNormal\n",
        "from tensorflow.keras.callbacks import EarlyStopping"
      ],
      "metadata": {
        "id": "6-8Q6ll7ZDgq"
      },
      "execution_count": 15,
      "outputs": []
    },
    {
      "cell_type": "code",
      "source": [
        "# model definition\n",
        "model = Sequential()\n",
        "model.add(Dense(128, activation='tanh', input_shape=(flattened_dim,)))\n",
        "model.add(Dense(128, activation='tanh'))\n",
        "model.add(Dense(nb_classes, activation='softmax'))\n",
        "\n",
        "# loss function and optimizer\n",
        "model.compile(loss='categorical_crossentropy', optimizer='adam', metrics=['accuracy'])"
      ],
      "metadata": {
        "id": "pke6w3CD8DHp"
      },
      "execution_count": 16,
      "outputs": []
    },
    {
      "cell_type": "code",
      "metadata": {
        "id": "CZbOR76QxprC",
        "colab": {
          "base_uri": "https://localhost:8080/"
        },
        "outputId": "e850e736-2431-4ec9-c86c-87ba2faf9585"
      },
      "source": [
        "# training\n",
        "network_history = model.fit(X_train, Y_train,\n",
        "                            validation_data=(X_valid,Y_valid),\n",
        "                            batch_size=128,\n",
        "                            epochs=40,\n",
        "                            verbose=1)"
      ],
      "execution_count": 17,
      "outputs": [
        {
          "output_type": "stream",
          "name": "stdout",
          "text": [
            "Epoch 1/40\n",
            "313/313 [==============================] - 6s 16ms/step - loss: 1.8248 - accuracy: 0.3577 - val_loss: 1.7455 - val_accuracy: 0.3916\n",
            "Epoch 2/40\n",
            "313/313 [==============================] - 4s 13ms/step - loss: 1.6919 - accuracy: 0.4080 - val_loss: 1.7179 - val_accuracy: 0.4068\n",
            "Epoch 3/40\n",
            "313/313 [==============================] - 6s 19ms/step - loss: 1.6326 - accuracy: 0.4329 - val_loss: 1.6976 - val_accuracy: 0.4089\n",
            "Epoch 4/40\n",
            "313/313 [==============================] - 6s 19ms/step - loss: 1.5940 - accuracy: 0.4488 - val_loss: 1.6742 - val_accuracy: 0.4233\n",
            "Epoch 5/40\n",
            "313/313 [==============================] - 6s 19ms/step - loss: 1.5614 - accuracy: 0.4599 - val_loss: 1.6697 - val_accuracy: 0.4216\n",
            "Epoch 6/40\n",
            "313/313 [==============================] - 4s 12ms/step - loss: 1.5243 - accuracy: 0.4725 - val_loss: 1.6574 - val_accuracy: 0.4282\n",
            "Epoch 7/40\n",
            "313/313 [==============================] - 4s 12ms/step - loss: 1.5024 - accuracy: 0.4803 - val_loss: 1.6496 - val_accuracy: 0.4375\n",
            "Epoch 8/40\n",
            "313/313 [==============================] - 3s 10ms/step - loss: 1.4749 - accuracy: 0.4903 - val_loss: 1.6513 - val_accuracy: 0.4330\n",
            "Epoch 9/40\n",
            "313/313 [==============================] - 5s 16ms/step - loss: 1.4489 - accuracy: 0.5000 - val_loss: 1.6409 - val_accuracy: 0.4355\n",
            "Epoch 10/40\n",
            "313/313 [==============================] - 7s 21ms/step - loss: 1.4258 - accuracy: 0.5041 - val_loss: 1.6379 - val_accuracy: 0.4397\n",
            "Epoch 11/40\n",
            "313/313 [==============================] - 5s 15ms/step - loss: 1.4072 - accuracy: 0.5122 - val_loss: 1.6166 - val_accuracy: 0.4480\n",
            "Epoch 12/40\n",
            "313/313 [==============================] - 4s 13ms/step - loss: 1.3796 - accuracy: 0.5235 - val_loss: 1.6197 - val_accuracy: 0.4476\n",
            "Epoch 13/40\n",
            "313/313 [==============================] - 4s 13ms/step - loss: 1.3567 - accuracy: 0.5297 - val_loss: 1.6238 - val_accuracy: 0.4476\n",
            "Epoch 14/40\n",
            "313/313 [==============================] - 5s 16ms/step - loss: 1.3392 - accuracy: 0.5365 - val_loss: 1.6194 - val_accuracy: 0.4512\n",
            "Epoch 15/40\n",
            "313/313 [==============================] - 5s 16ms/step - loss: 1.3184 - accuracy: 0.5427 - val_loss: 1.6230 - val_accuracy: 0.4480\n",
            "Epoch 16/40\n",
            "313/313 [==============================] - 4s 13ms/step - loss: 1.2925 - accuracy: 0.5525 - val_loss: 1.6259 - val_accuracy: 0.4486\n",
            "Epoch 17/40\n",
            "313/313 [==============================] - 5s 15ms/step - loss: 1.2831 - accuracy: 0.5559 - val_loss: 1.6163 - val_accuracy: 0.4568\n",
            "Epoch 18/40\n",
            "313/313 [==============================] - 4s 12ms/step - loss: 1.2567 - accuracy: 0.5652 - val_loss: 1.6363 - val_accuracy: 0.4511\n",
            "Epoch 19/40\n",
            "313/313 [==============================] - 3s 11ms/step - loss: 1.2422 - accuracy: 0.5691 - val_loss: 1.6272 - val_accuracy: 0.4543\n",
            "Epoch 20/40\n",
            "313/313 [==============================] - 4s 14ms/step - loss: 1.2260 - accuracy: 0.5743 - val_loss: 1.6250 - val_accuracy: 0.4530\n",
            "Epoch 21/40\n",
            "313/313 [==============================] - 3s 11ms/step - loss: 1.2016 - accuracy: 0.5867 - val_loss: 1.6272 - val_accuracy: 0.4557\n",
            "Epoch 22/40\n",
            "313/313 [==============================] - 4s 11ms/step - loss: 1.1778 - accuracy: 0.5941 - val_loss: 1.6310 - val_accuracy: 0.4489\n",
            "Epoch 23/40\n",
            "313/313 [==============================] - 4s 12ms/step - loss: 1.1662 - accuracy: 0.5962 - val_loss: 1.6480 - val_accuracy: 0.4558\n",
            "Epoch 24/40\n",
            "313/313 [==============================] - 4s 13ms/step - loss: 1.1508 - accuracy: 0.5996 - val_loss: 1.6556 - val_accuracy: 0.4541\n",
            "Epoch 25/40\n",
            "313/313 [==============================] - 3s 11ms/step - loss: 1.1292 - accuracy: 0.6080 - val_loss: 1.6552 - val_accuracy: 0.4550\n",
            "Epoch 26/40\n",
            "313/313 [==============================] - 4s 12ms/step - loss: 1.1083 - accuracy: 0.6180 - val_loss: 1.6464 - val_accuracy: 0.4613\n",
            "Epoch 27/40\n",
            "313/313 [==============================] - 5s 14ms/step - loss: 1.0979 - accuracy: 0.6206 - val_loss: 1.6554 - val_accuracy: 0.4543\n",
            "Epoch 28/40\n",
            "313/313 [==============================] - 3s 11ms/step - loss: 1.0737 - accuracy: 0.6285 - val_loss: 1.6942 - val_accuracy: 0.4460\n",
            "Epoch 29/40\n",
            "313/313 [==============================] - 4s 13ms/step - loss: 1.0593 - accuracy: 0.6351 - val_loss: 1.6901 - val_accuracy: 0.4538\n",
            "Epoch 30/40\n",
            "313/313 [==============================] - 5s 16ms/step - loss: 1.0420 - accuracy: 0.6420 - val_loss: 1.7079 - val_accuracy: 0.4538\n",
            "Epoch 31/40\n",
            "313/313 [==============================] - 4s 12ms/step - loss: 1.0305 - accuracy: 0.6418 - val_loss: 1.7052 - val_accuracy: 0.4488\n",
            "Epoch 32/40\n",
            "313/313 [==============================] - 4s 13ms/step - loss: 1.0077 - accuracy: 0.6526 - val_loss: 1.7118 - val_accuracy: 0.4523\n",
            "Epoch 33/40\n",
            "313/313 [==============================] - 5s 16ms/step - loss: 0.9977 - accuracy: 0.6553 - val_loss: 1.7232 - val_accuracy: 0.4569\n",
            "Epoch 34/40\n",
            "313/313 [==============================] - 4s 13ms/step - loss: 0.9845 - accuracy: 0.6592 - val_loss: 1.7482 - val_accuracy: 0.4473\n",
            "Epoch 35/40\n",
            "313/313 [==============================] - 4s 13ms/step - loss: 0.9729 - accuracy: 0.6634 - val_loss: 1.7596 - val_accuracy: 0.4537\n",
            "Epoch 36/40\n",
            "313/313 [==============================] - 5s 17ms/step - loss: 0.9545 - accuracy: 0.6715 - val_loss: 1.7565 - val_accuracy: 0.4542\n",
            "Epoch 37/40\n",
            "313/313 [==============================] - 4s 12ms/step - loss: 0.9426 - accuracy: 0.6743 - val_loss: 1.7823 - val_accuracy: 0.4480\n",
            "Epoch 38/40\n",
            "313/313 [==============================] - 3s 11ms/step - loss: 0.9228 - accuracy: 0.6815 - val_loss: 1.8025 - val_accuracy: 0.4417\n",
            "Epoch 39/40\n",
            "313/313 [==============================] - 5s 15ms/step - loss: 0.9042 - accuracy: 0.6901 - val_loss: 1.7971 - val_accuracy: 0.4568\n",
            "Epoch 40/40\n",
            "313/313 [==============================] - 4s 12ms/step - loss: 0.8941 - accuracy: 0.6931 - val_loss: 1.8022 - val_accuracy: 0.4455\n"
          ]
        }
      ]
    },
    {
      "cell_type": "markdown",
      "metadata": {
        "id": "uFqhzV85xprJ"
      },
      "source": [
        "Let's plot the training and validation loss and accuracy curves:"
      ]
    },
    {
      "cell_type": "code",
      "metadata": {
        "id": "BYmXGkLCxprK",
        "colab": {
          "base_uri": "https://localhost:8080/",
          "height": 881
        },
        "outputId": "83cbff13-5009-4471-a1b9-ba0e985dc43c"
      },
      "source": [
        "def plot_history(network_history):\n",
        "    plt.figure()\n",
        "    plt.xlabel('Epochs')\n",
        "    plt.ylabel('Loss')\n",
        "    plt.plot(network_history.history['loss'])\n",
        "    plt.plot(network_history.history['val_loss'])\n",
        "    plt.legend(['Training', 'Validation'])\n",
        "\n",
        "    plt.figure()\n",
        "    plt.xlabel('Epochs')\n",
        "    plt.ylabel('Accuracy')\n",
        "    plt.plot(network_history.history['accuracy'])\n",
        "    plt.plot(network_history.history['val_accuracy'])\n",
        "    plt.legend(['Training', 'Validation'], loc='lower right')\n",
        "    plt.show()\n",
        "\n",
        "plot_history(network_history)"
      ],
      "execution_count": 18,
      "outputs": [
        {
          "output_type": "display_data",
          "data": {
            "text/plain": [
              "<Figure size 640x480 with 1 Axes>"
            ],
            "image/png": "[encoded data removed]"
          },
          "metadata": {}
        },
        {
          "output_type": "display_data",
          "data": {
            "text/plain": [
              "<Figure size 640x480 with 1 Axes>"
            ],
            "image/png": "[encoded data removed]"
          },
          "metadata": {}
        }
      ]
    },
    {
      "cell_type": "markdown",
      "source": [
        "What do you think? Does it overfit?\n",
        "\n",
        "I think there is overfitting because the training accuracy is significantly more than the validation accuracy especially in the later epochs."
      ],
      "metadata": {
        "id": "tgG7QeXF-dx6"
      }
    },
    {
      "cell_type": "markdown",
      "metadata": {
        "id": "_Q9rIeBBxprO"
      },
      "source": [
        "# Inspecting the model"
      ]
    },
    {
      "cell_type": "code",
      "metadata": {
        "id": "6r2AmmoMxprP",
        "colab": {
          "base_uri": "https://localhost:8080/"
        },
        "outputId": "def13361-7543-490a-f121-0dc4e5d22035"
      },
      "source": [
        "model.summary()"
      ],
      "execution_count": 19,
      "outputs": [
        {
          "output_type": "stream",
          "name": "stdout",
          "text": [
            "Model: \"sequential\"\n",
            "_________________________________________________________________\n",
            " Layer (type)                Output Shape              Param #   \n",
            "=================================================================\n",
            " dense (Dense)               (None, 128)               393344    \n",
            "                                                                 \n",
            " dense_1 (Dense)             (None, 128)               16512     \n",
            "                                                                 \n",
            " dense_2 (Dense)             (None, 10)                1290      \n",
            "                                                                 \n",
            "=================================================================\n",
            "Total params: 411146 (1.57 MB)\n",
            "Trainable params: 411146 (1.57 MB)\n",
            "Non-trainable params: 0 (0.00 Byte)\n",
            "_________________________________________________________________\n"
          ]
        }
      ]
    },
    {
      "cell_type": "code",
      "metadata": {
        "id": "D3-bVDVuxprS",
        "colab": {
          "base_uri": "https://localhost:8080/"
        },
        "outputId": "a5f6f0f5-e616-4af7-d896-2a55e4daca64"
      },
      "source": [
        "print('Input: ', model.input)"
      ],
      "execution_count": 20,
      "outputs": [
        {
          "output_type": "stream",
          "name": "stdout",
          "text": [
            "Input:  KerasTensor(type_spec=TensorSpec(shape=(None, 3072), dtype=tf.float32, name='dense_input'), name='dense_input', description=\"created by layer 'dense_input'\")\n"
          ]
        }
      ]
    },
    {
      "cell_type": "code",
      "metadata": {
        "id": "Da2OJ3DmxprX",
        "colab": {
          "base_uri": "https://localhost:8080/"
        },
        "outputId": "1bde357b-b6ba-46cc-f453-7cee76667787"
      },
      "source": [
        "print('Layers:\\n')\n",
        "for layer in model.layers:\n",
        "    print(\"Layer's name: \", layer.name, ', trainable: ', layer.trainable)\n",
        "    print(layer.get_config(),'\\n')"
      ],
      "execution_count": 21,
      "outputs": [
        {
          "output_type": "stream",
          "name": "stdout",
          "text": [
            "Layers:\n",
            "\n",
            "Layer's name:  dense , trainable:  True\n",
            "{'name': 'dense', 'trainable': True, 'dtype': 'float32', 'batch_input_shape': (None, 3072), 'units': 128, 'activation': 'tanh', 'use_bias': True, 'kernel_initializer': {'module': 'keras.initializers', 'class_name': 'GlorotUniform', 'config': {'seed': None}, 'registered_name': None}, 'bias_initializer': {'module': 'keras.initializers', 'class_name': 'Zeros', 'config': {}, 'registered_name': None}, 'kernel_regularizer': None, 'bias_regularizer': None, 'activity_regularizer': None, 'kernel_constraint': None, 'bias_constraint': None} \n",
            "\n",
            "Layer's name:  dense_1 , trainable:  True\n",
            "{'name': 'dense_1', 'trainable': True, 'dtype': 'float32', 'units': 128, 'activation': 'tanh', 'use_bias': True, 'kernel_initializer': {'module': 'keras.initializers', 'class_name': 'GlorotUniform', 'config': {'seed': None}, 'registered_name': None}, 'bias_initializer': {'module': 'keras.initializers', 'class_name': 'Zeros', 'config': {}, 'registered_name': None}, 'kernel_regularizer': None, 'bias_regularizer': None, 'activity_regularizer': None, 'kernel_constraint': None, 'bias_constraint': None} \n",
            "\n",
            "Layer's name:  dense_2 , trainable:  True\n",
            "{'name': 'dense_2', 'trainable': True, 'dtype': 'float32', 'units': 10, 'activation': 'softmax', 'use_bias': True, 'kernel_initializer': {'module': 'keras.initializers', 'class_name': 'GlorotUniform', 'config': {'seed': None}, 'registered_name': None}, 'bias_initializer': {'module': 'keras.initializers', 'class_name': 'Zeros', 'config': {}, 'registered_name': None}, 'kernel_regularizer': None, 'bias_regularizer': None, 'activity_regularizer': None, 'kernel_constraint': None, 'bias_constraint': None} \n",
            "\n"
          ]
        }
      ]
    },
    {
      "cell_type": "code",
      "metadata": {
        "id": "AtVX3M3lxprc",
        "colab": {
          "base_uri": "https://localhost:8080/"
        },
        "outputId": "53150220-0331-425b-de69-ae70cf591d74"
      },
      "source": [
        "print('Output: ', model.output)"
      ],
      "execution_count": 22,
      "outputs": [
        {
          "output_type": "stream",
          "name": "stdout",
          "text": [
            "Output:  KerasTensor(type_spec=TensorSpec(shape=(None, 10), dtype=tf.float32, name=None), name='dense_2/Softmax:0', description=\"created by layer 'dense_2'\")\n"
          ]
        }
      ]
    },
    {
      "cell_type": "markdown",
      "source": [
        "## 2.1. Exercise\n",
        "Introduce [early stopping](https://www.tensorflow.org/api_docs/python/tf/keras/callbacks/EarlyStopping) and [dropout](https://www.tensorflow.org/api_docs/python/tf/keras/layers/Dropout) with a rate between 0.1..0.5. Tips:\n",
        "\n",
        "* Insert the dropout layer between the two Dense layers.\n",
        "* Set the patience of early stopping to 5.\n",
        "* Set the number of epochs to a very high number.\n",
        "* Don't forget to restore best weights after early stopping.\n",
        "* And also set early stopping to monitor validation accuracy (the default value is validation loss -- which is categorical crossentropy now).\n",
        "\n",
        "Compile and train the model. Attempt to increase the validation accuracy as much as possible by making changes to the dropout rate. Inspect the effects of the modifications."
      ],
      "metadata": {
        "id": "E-hHfs9qA_iO"
      }
    },
    {
      "cell_type": "code",
      "source": [
        "es = EarlyStopping(monitor='val_accuracy', patience=5, restore_best_weights=True)"
      ],
      "metadata": {
        "id": "NwXrPzOgEBG-"
      },
      "execution_count": 23,
      "outputs": []
    },
    {
      "cell_type": "code",
      "source": [
        "# model definition with dropout\n",
        "model = Sequential()\n",
        "model.add(Dense(128, activation='tanh', input_shape=(flattened_dim,)))\n",
        "model.add(Dropout(0.3))  # I consider a dropout rate of 0.3\n",
        "model.add(Dense(128, activation='tanh'))\n",
        "model.add(Dense(nb_classes, activation='softmax'))\n",
        "\n",
        "# loss function and optimizer\n",
        "model.compile(loss='categorical_crossentropy', optimizer='adam', metrics=['accuracy'])"
      ],
      "metadata": {
        "id": "7hZEGzj8GFwP"
      },
      "execution_count": 24,
      "outputs": []
    },
    {
      "cell_type": "code",
      "source": [
        "# training with early stopping\n",
        "network_history = model.fit(X_train, Y_train,\n",
        "                            validation_data=(X_valid, Y_valid),\n",
        "                            batch_size=128,\n",
        "                            epochs=1000000,\n",
        "                            verbose=1,\n",
        "                            callbacks=[es])"
      ],
      "metadata": {
        "id": "GCG54R-vGGWj",
        "colab": {
          "base_uri": "https://localhost:8080/"
        },
        "outputId": "c33db76b-fb27-45d5-b1a1-c47e019f5194"
      },
      "execution_count": 25,
      "outputs": [
        {
          "output_type": "stream",
          "name": "stdout",
          "text": [
            "Epoch 1/1000000\n",
            "313/313 [==============================] - 4s 12ms/step - loss: 1.8920 - accuracy: 0.3328 - val_loss: 1.7730 - val_accuracy: 0.3866\n",
            "Epoch 2/1000000\n",
            "313/313 [==============================] - 5s 15ms/step - loss: 1.7800 - accuracy: 0.3755 - val_loss: 1.7446 - val_accuracy: 0.3933\n",
            "Epoch 3/1000000\n",
            "313/313 [==============================] - 3s 11ms/step - loss: 1.7398 - accuracy: 0.3899 - val_loss: 1.7209 - val_accuracy: 0.4038\n",
            "Epoch 4/1000000\n",
            "313/313 [==============================] - 4s 12ms/step - loss: 1.7076 - accuracy: 0.4038 - val_loss: 1.6890 - val_accuracy: 0.4211\n",
            "Epoch 5/1000000\n",
            "313/313 [==============================] - 5s 15ms/step - loss: 1.6839 - accuracy: 0.4121 - val_loss: 1.6720 - val_accuracy: 0.4164\n",
            "Epoch 6/1000000\n",
            "313/313 [==============================] - 3s 11ms/step - loss: 1.6585 - accuracy: 0.4199 - val_loss: 1.6744 - val_accuracy: 0.4203\n",
            "Epoch 7/1000000\n",
            "313/313 [==============================] - 4s 11ms/step - loss: 1.6430 - accuracy: 0.4238 - val_loss: 1.6553 - val_accuracy: 0.4251\n",
            "Epoch 8/1000000\n",
            "313/313 [==============================] - 5s 14ms/step - loss: 1.6196 - accuracy: 0.4331 - val_loss: 1.6428 - val_accuracy: 0.4278\n",
            "Epoch 9/1000000\n",
            "313/313 [==============================] - 5s 15ms/step - loss: 1.6117 - accuracy: 0.4356 - val_loss: 1.6310 - val_accuracy: 0.4300\n",
            "Epoch 10/1000000\n",
            "313/313 [==============================] - 4s 14ms/step - loss: 1.5852 - accuracy: 0.4478 - val_loss: 1.6226 - val_accuracy: 0.4355\n",
            "Epoch 11/1000000\n",
            "313/313 [==============================] - 5s 16ms/step - loss: 1.5745 - accuracy: 0.4521 - val_loss: 1.6124 - val_accuracy: 0.4429\n",
            "Epoch 12/1000000\n",
            "313/313 [==============================] - 4s 14ms/step - loss: 1.5637 - accuracy: 0.4512 - val_loss: 1.5938 - val_accuracy: 0.4476\n",
            "Epoch 13/1000000\n",
            "313/313 [==============================] - 4s 14ms/step - loss: 1.5510 - accuracy: 0.4560 - val_loss: 1.5942 - val_accuracy: 0.4413\n",
            "Epoch 14/1000000\n",
            "313/313 [==============================] - 5s 17ms/step - loss: 1.5438 - accuracy: 0.4593 - val_loss: 1.5876 - val_accuracy: 0.4476\n",
            "Epoch 15/1000000\n",
            "313/313 [==============================] - 4s 12ms/step - loss: 1.5338 - accuracy: 0.4613 - val_loss: 1.5776 - val_accuracy: 0.4486\n",
            "Epoch 16/1000000\n",
            "313/313 [==============================] - 4s 11ms/step - loss: 1.5146 - accuracy: 0.4687 - val_loss: 1.5596 - val_accuracy: 0.4574\n",
            "Epoch 17/1000000\n",
            "313/313 [==============================] - 4s 14ms/step - loss: 1.5039 - accuracy: 0.4711 - val_loss: 1.5615 - val_accuracy: 0.4542\n",
            "Epoch 18/1000000\n",
            "313/313 [==============================] - 4s 11ms/step - loss: 1.4965 - accuracy: 0.4735 - val_loss: 1.5579 - val_accuracy: 0.4586\n",
            "Epoch 19/1000000\n",
            "313/313 [==============================] - 3s 11ms/step - loss: 1.4841 - accuracy: 0.4783 - val_loss: 1.5464 - val_accuracy: 0.4565\n",
            "Epoch 20/1000000\n",
            "313/313 [==============================] - 4s 13ms/step - loss: 1.4785 - accuracy: 0.4818 - val_loss: 1.5431 - val_accuracy: 0.4583\n",
            "Epoch 21/1000000\n",
            "313/313 [==============================] - 5s 15ms/step - loss: 1.4653 - accuracy: 0.4841 - val_loss: 1.5282 - val_accuracy: 0.4681\n",
            "Epoch 22/1000000\n",
            "313/313 [==============================] - 4s 13ms/step - loss: 1.4581 - accuracy: 0.4899 - val_loss: 1.5346 - val_accuracy: 0.4598\n",
            "Epoch 23/1000000\n",
            "313/313 [==============================] - 5s 15ms/step - loss: 1.4434 - accuracy: 0.4936 - val_loss: 1.5259 - val_accuracy: 0.4681\n",
            "Epoch 24/1000000\n",
            "313/313 [==============================] - 5s 14ms/step - loss: 1.4416 - accuracy: 0.4920 - val_loss: 1.5221 - val_accuracy: 0.4697\n",
            "Epoch 25/1000000\n",
            "313/313 [==============================] - 4s 13ms/step - loss: 1.4330 - accuracy: 0.4934 - val_loss: 1.5192 - val_accuracy: 0.4693\n",
            "Epoch 26/1000000\n",
            "313/313 [==============================] - 5s 16ms/step - loss: 1.4256 - accuracy: 0.4984 - val_loss: 1.5308 - val_accuracy: 0.4604\n",
            "Epoch 27/1000000\n",
            "313/313 [==============================] - 4s 12ms/step - loss: 1.4218 - accuracy: 0.5012 - val_loss: 1.5100 - val_accuracy: 0.4659\n",
            "Epoch 28/1000000\n",
            "313/313 [==============================] - 3s 11ms/step - loss: 1.4156 - accuracy: 0.4995 - val_loss: 1.5125 - val_accuracy: 0.4669\n",
            "Epoch 29/1000000\n",
            "313/313 [==============================] - 5s 14ms/step - loss: 1.4069 - accuracy: 0.5021 - val_loss: 1.5135 - val_accuracy: 0.4715\n",
            "Epoch 30/1000000\n",
            "313/313 [==============================] - 3s 11ms/step - loss: 1.4070 - accuracy: 0.5029 - val_loss: 1.5223 - val_accuracy: 0.4698\n",
            "Epoch 31/1000000\n",
            "313/313 [==============================] - 4s 11ms/step - loss: 1.4011 - accuracy: 0.5027 - val_loss: 1.5155 - val_accuracy: 0.4700\n",
            "Epoch 32/1000000\n",
            "313/313 [==============================] - 3s 11ms/step - loss: 1.3934 - accuracy: 0.5091 - val_loss: 1.4969 - val_accuracy: 0.4739\n",
            "Epoch 33/1000000\n",
            "313/313 [==============================] - 5s 15ms/step - loss: 1.3844 - accuracy: 0.5110 - val_loss: 1.5017 - val_accuracy: 0.4792\n",
            "Epoch 34/1000000\n",
            "313/313 [==============================] - 4s 11ms/step - loss: 1.3794 - accuracy: 0.5126 - val_loss: 1.5052 - val_accuracy: 0.4716\n",
            "Epoch 35/1000000\n",
            "313/313 [==============================] - 4s 13ms/step - loss: 1.3824 - accuracy: 0.5125 - val_loss: 1.5051 - val_accuracy: 0.4683\n",
            "Epoch 36/1000000\n",
            "313/313 [==============================] - 5s 17ms/step - loss: 1.3690 - accuracy: 0.5190 - val_loss: 1.5053 - val_accuracy: 0.4756\n",
            "Epoch 37/1000000\n",
            "313/313 [==============================] - 4s 13ms/step - loss: 1.3687 - accuracy: 0.5151 - val_loss: 1.4941 - val_accuracy: 0.4709\n",
            "Epoch 38/1000000\n",
            "313/313 [==============================] - 4s 14ms/step - loss: 1.3640 - accuracy: 0.5179 - val_loss: 1.4926 - val_accuracy: 0.4782\n"
          ]
        }
      ]
    },
    {
      "cell_type": "markdown",
      "source": [
        "## 2.2 Exercise\n",
        "Change the [activation function of the dense layers (except the last one)](https://www.tensorflow.org/api_docs/python/tf/keras/layers/Dense) to rectified linear unit (ReLU) and the [weight initialization](https://www.tensorflow.org/api_docs/python/tf/keras/initializers) to the theoretically best one. Use the original model's code.\n",
        "\n",
        "Compile and train the model. Inspect the effects of the modifications."
      ],
      "metadata": {
        "id": "zQCDM1o1BBtF"
      }
    },
    {
      "cell_type": "code",
      "source": [
        "# model definition with relu\n",
        "model = Sequential()\n",
        "model.add(Dense(128, activation='relu', kernel_initializer=HeNormal(), input_shape=(flattened_dim,)))\n",
        "model.add(Dense(128, activation='relu', kernel_initializer=HeNormal()))\n",
        "model.add(Dense(nb_classes, activation='softmax'))\n",
        "\n",
        "# loss function and optimizer\n",
        "model.compile(loss='categorical_crossentropy', optimizer='adam', metrics=['accuracy'])"
      ],
      "metadata": {
        "id": "YjHAAh-wGu9O"
      },
      "execution_count": 26,
      "outputs": []
    },
    {
      "cell_type": "code",
      "source": [
        "# training\n",
        "network_history = model.fit(X_train, Y_train,\n",
        "                            validation_data=(X_valid, Y_valid),\n",
        "                            batch_size=128,\n",
        "                            epochs=40,\n",
        "                            verbose=1)"
      ],
      "metadata": {
        "id": "rarwKM1wGxMz",
        "colab": {
          "base_uri": "https://localhost:8080/"
        },
        "outputId": "ee0d6051-ab1d-46af-9876-b8de467622b3"
      },
      "execution_count": 27,
      "outputs": [
        {
          "output_type": "stream",
          "name": "stdout",
          "text": [
            "Epoch 1/40\n",
            "313/313 [==============================] - 6s 14ms/step - loss: 1.8354 - accuracy: 0.3765 - val_loss: 1.7468 - val_accuracy: 0.3999\n",
            "Epoch 2/40\n",
            "313/313 [==============================] - 4s 12ms/step - loss: 1.5472 - accuracy: 0.4581 - val_loss: 1.6351 - val_accuracy: 0.4378\n",
            "Epoch 3/40\n",
            "313/313 [==============================] - 5s 15ms/step - loss: 1.4306 - accuracy: 0.4999 - val_loss: 1.5486 - val_accuracy: 0.4699\n",
            "Epoch 4/40\n",
            "313/313 [==============================] - 4s 12ms/step - loss: 1.3357 - accuracy: 0.5307 - val_loss: 1.5257 - val_accuracy: 0.4734\n",
            "Epoch 5/40\n",
            "313/313 [==============================] - 4s 12ms/step - loss: 1.2713 - accuracy: 0.5570 - val_loss: 1.5232 - val_accuracy: 0.4763\n",
            "Epoch 6/40\n",
            "313/313 [==============================] - 4s 13ms/step - loss: 1.2142 - accuracy: 0.5738 - val_loss: 1.5013 - val_accuracy: 0.4871\n",
            "Epoch 7/40\n",
            "313/313 [==============================] - 4s 14ms/step - loss: 1.1555 - accuracy: 0.5956 - val_loss: 1.5364 - val_accuracy: 0.4873\n",
            "Epoch 8/40\n",
            "313/313 [==============================] - 4s 11ms/step - loss: 1.1074 - accuracy: 0.6126 - val_loss: 1.5339 - val_accuracy: 0.4904\n",
            "Epoch 9/40\n",
            "313/313 [==============================] - 4s 12ms/step - loss: 1.0639 - accuracy: 0.6270 - val_loss: 1.5301 - val_accuracy: 0.4955\n",
            "Epoch 10/40\n",
            "313/313 [==============================] - 5s 15ms/step - loss: 1.0105 - accuracy: 0.6459 - val_loss: 1.5697 - val_accuracy: 0.4937\n",
            "Epoch 11/40\n",
            "313/313 [==============================] - 4s 13ms/step - loss: 0.9703 - accuracy: 0.6590 - val_loss: 1.6017 - val_accuracy: 0.4833\n",
            "Epoch 12/40\n",
            "313/313 [==============================] - 4s 12ms/step - loss: 0.9359 - accuracy: 0.6704 - val_loss: 1.6536 - val_accuracy: 0.4824\n",
            "Epoch 13/40\n",
            "313/313 [==============================] - 5s 15ms/step - loss: 0.8925 - accuracy: 0.6882 - val_loss: 1.6770 - val_accuracy: 0.4933\n",
            "Epoch 14/40\n",
            "313/313 [==============================] - 4s 13ms/step - loss: 0.8518 - accuracy: 0.7012 - val_loss: 1.6982 - val_accuracy: 0.4901\n",
            "Epoch 15/40\n",
            "313/313 [==============================] - 4s 13ms/step - loss: 0.8175 - accuracy: 0.7111 - val_loss: 1.7334 - val_accuracy: 0.4883\n",
            "Epoch 16/40\n",
            "313/313 [==============================] - 5s 16ms/step - loss: 0.7827 - accuracy: 0.7246 - val_loss: 1.8077 - val_accuracy: 0.4841\n",
            "Epoch 17/40\n",
            "313/313 [==============================] - 4s 11ms/step - loss: 0.7478 - accuracy: 0.7378 - val_loss: 1.8123 - val_accuracy: 0.4884\n",
            "Epoch 18/40\n",
            "313/313 [==============================] - 4s 12ms/step - loss: 0.7182 - accuracy: 0.7495 - val_loss: 1.8771 - val_accuracy: 0.4737\n",
            "Epoch 19/40\n",
            "313/313 [==============================] - 5s 16ms/step - loss: 0.6914 - accuracy: 0.7562 - val_loss: 1.9124 - val_accuracy: 0.4891\n",
            "Epoch 20/40\n",
            "313/313 [==============================] - 4s 12ms/step - loss: 0.6596 - accuracy: 0.7682 - val_loss: 1.9941 - val_accuracy: 0.4734\n",
            "Epoch 21/40\n",
            "313/313 [==============================] - 4s 13ms/step - loss: 0.6307 - accuracy: 0.7776 - val_loss: 2.0115 - val_accuracy: 0.4826\n",
            "Epoch 22/40\n",
            "313/313 [==============================] - 4s 14ms/step - loss: 0.6081 - accuracy: 0.7861 - val_loss: 2.1191 - val_accuracy: 0.4814\n",
            "Epoch 23/40\n",
            "313/313 [==============================] - 3s 11ms/step - loss: 0.5851 - accuracy: 0.7939 - val_loss: 2.1056 - val_accuracy: 0.4772\n",
            "Epoch 24/40\n",
            "313/313 [==============================] - 3s 11ms/step - loss: 0.5665 - accuracy: 0.8010 - val_loss: 2.2083 - val_accuracy: 0.4813\n",
            "Epoch 25/40\n",
            "313/313 [==============================] - 4s 13ms/step - loss: 0.5485 - accuracy: 0.8076 - val_loss: 2.2067 - val_accuracy: 0.4770\n",
            "Epoch 26/40\n",
            "313/313 [==============================] - 3s 11ms/step - loss: 0.5147 - accuracy: 0.8172 - val_loss: 2.3042 - val_accuracy: 0.4789\n",
            "Epoch 27/40\n",
            "313/313 [==============================] - 3s 10ms/step - loss: 0.5062 - accuracy: 0.8228 - val_loss: 2.3440 - val_accuracy: 0.4803\n",
            "Epoch 28/40\n",
            "313/313 [==============================] - 3s 10ms/step - loss: 0.4757 - accuracy: 0.8327 - val_loss: 2.3852 - val_accuracy: 0.4773\n",
            "Epoch 29/40\n",
            "313/313 [==============================] - 4s 14ms/step - loss: 0.4573 - accuracy: 0.8385 - val_loss: 2.4761 - val_accuracy: 0.4760\n",
            "Epoch 30/40\n",
            "313/313 [==============================] - 3s 10ms/step - loss: 0.4484 - accuracy: 0.8436 - val_loss: 2.5379 - val_accuracy: 0.4805\n",
            "Epoch 31/40\n",
            "313/313 [==============================] - 3s 10ms/step - loss: 0.4327 - accuracy: 0.8479 - val_loss: 2.6542 - val_accuracy: 0.4789\n",
            "Epoch 32/40\n",
            "313/313 [==============================] - 4s 12ms/step - loss: 0.4240 - accuracy: 0.8508 - val_loss: 2.6353 - val_accuracy: 0.4777\n",
            "Epoch 33/40\n",
            "313/313 [==============================] - 4s 12ms/step - loss: 0.3907 - accuracy: 0.8627 - val_loss: 2.7133 - val_accuracy: 0.4702\n",
            "Epoch 34/40\n",
            "313/313 [==============================] - 3s 11ms/step - loss: 0.3869 - accuracy: 0.8636 - val_loss: 2.7486 - val_accuracy: 0.4827\n",
            "Epoch 35/40\n",
            "313/313 [==============================] - 3s 10ms/step - loss: 0.3770 - accuracy: 0.8679 - val_loss: 2.8971 - val_accuracy: 0.4755\n",
            "Epoch 36/40\n",
            "313/313 [==============================] - 4s 14ms/step - loss: 0.3595 - accuracy: 0.8751 - val_loss: 2.9296 - val_accuracy: 0.4774\n",
            "Epoch 37/40\n",
            "313/313 [==============================] - 3s 10ms/step - loss: 0.3504 - accuracy: 0.8785 - val_loss: 3.0209 - val_accuracy: 0.4769\n",
            "Epoch 38/40\n",
            "313/313 [==============================] - 3s 10ms/step - loss: 0.3362 - accuracy: 0.8830 - val_loss: 3.0514 - val_accuracy: 0.4700\n",
            "Epoch 39/40\n",
            "313/313 [==============================] - 4s 12ms/step - loss: 0.3462 - accuracy: 0.8806 - val_loss: 3.0883 - val_accuracy: 0.4741\n",
            "Epoch 40/40\n",
            "313/313 [==============================] - 4s 12ms/step - loss: 0.3337 - accuracy: 0.8843 - val_loss: 3.1967 - val_accuracy: 0.4730\n"
          ]
        }
      ]
    },
    {
      "cell_type": "markdown",
      "source": [
        "After the modification, we can see that the validation accuracy is slightly on the higher end."
      ],
      "metadata": {
        "id": "xn6_RGi1MXYr"
      }
    },
    {
      "cell_type": "markdown",
      "source": [
        "# 2.3. Exercise\n",
        "Based on the modifications above, and by any further modifications (e.g. more layers, less layers, more neurons/layer, etc.) to the model design, find a combination that is able to achieve **validation accuracy, that is higher than 53%**.\n"
      ],
      "metadata": {
        "id": "j1tGVPdD-pp3"
      }
    },
    {
      "cell_type": "code",
      "source": [
        "es = EarlyStopping(monitor='val_accuracy', patience=5, restore_best_weights=True)"
      ],
      "metadata": {
        "id": "5dBQxJHIHrbd"
      },
      "execution_count": 28,
      "outputs": []
    },
    {
      "cell_type": "code",
      "source": [
        "from tensorflow.keras.layers import BatchNormalization\n",
        "\n",
        "# model definition\n",
        "model = Sequential([\n",
        "    Dense(512, activation='relu', kernel_initializer=HeNormal(), input_shape=(flattened_dim,)),\n",
        "    BatchNormalization(),\n",
        "    Dropout(0.25),\n",
        "    Dense(256, activation='relu', kernel_initializer=HeNormal()),\n",
        "    BatchNormalization(),\n",
        "    Dropout(0.25),\n",
        "    Dense(128, activation='relu', kernel_initializer=HeNormal()),\n",
        "    BatchNormalization(),\n",
        "    Dropout(0.25),\n",
        "    Dense(64, activation='relu', kernel_initializer=HeNormal()),\n",
        "    BatchNormalization(),\n",
        "    Dropout(0.25),\n",
        "    Dense(32, activation='relu', kernel_initializer=HeNormal()),\n",
        "    BatchNormalization(),\n",
        "    Dropout(0.25),\n",
        "    Dense(nb_classes, activation='softmax')\n",
        "])\n",
        "\n",
        "# loss function and optimizer\n",
        "model.compile(loss='categorical_crossentropy', optimizer = 'adam', metrics=['accuracy'])\n"
      ],
      "metadata": {
        "id": "PuxHOqLt-3Nd"
      },
      "execution_count": 29,
      "outputs": []
    },
    {
      "cell_type": "code",
      "source": [
        "# training\n",
        "network_history = model.fit(X_train, Y_train, validation_data=(X_valid, Y_valid),\n",
        "                            batch_size=128, epochs=1000000, verbose=1, callbacks=[es])"
      ],
      "metadata": {
        "id": "u8tFNCNVHyt9",
        "colab": {
          "base_uri": "https://localhost:8080/"
        },
        "outputId": "35d40883-4f6a-4e15-f11d-6614b6de7093"
      },
      "execution_count": 30,
      "outputs": [
        {
          "output_type": "stream",
          "name": "stdout",
          "text": [
            "Epoch 1/1000000\n",
            "313/313 [==============================] - 16s 42ms/step - loss: 2.0973 - accuracy: 0.2673 - val_loss: 1.7262 - val_accuracy: 0.3801\n",
            "Epoch 2/1000000\n",
            "313/313 [==============================] - 13s 40ms/step - loss: 1.7850 - accuracy: 0.3594 - val_loss: 1.6086 - val_accuracy: 0.4245\n",
            "Epoch 3/1000000\n",
            "313/313 [==============================] - 13s 42ms/step - loss: 1.6748 - accuracy: 0.4010 - val_loss: 1.5463 - val_accuracy: 0.4450\n",
            "Epoch 4/1000000\n",
            "313/313 [==============================] - 13s 41ms/step - loss: 1.6022 - accuracy: 0.4298 - val_loss: 1.5173 - val_accuracy: 0.4577\n",
            "Epoch 5/1000000\n",
            "313/313 [==============================] - 13s 41ms/step - loss: 1.5500 - accuracy: 0.4507 - val_loss: 1.4449 - val_accuracy: 0.4819\n",
            "Epoch 6/1000000\n",
            "313/313 [==============================] - 13s 43ms/step - loss: 1.5048 - accuracy: 0.4665 - val_loss: 1.4239 - val_accuracy: 0.4918\n",
            "Epoch 7/1000000\n",
            "313/313 [==============================] - 13s 41ms/step - loss: 1.4662 - accuracy: 0.4850 - val_loss: 1.4085 - val_accuracy: 0.5001\n",
            "Epoch 8/1000000\n",
            "313/313 [==============================] - 13s 43ms/step - loss: 1.4350 - accuracy: 0.4970 - val_loss: 1.3918 - val_accuracy: 0.5086\n",
            "Epoch 9/1000000\n",
            "313/313 [==============================] - 13s 43ms/step - loss: 1.4036 - accuracy: 0.5089 - val_loss: 1.3688 - val_accuracy: 0.5169\n",
            "Epoch 10/1000000\n",
            "313/313 [==============================] - 13s 42ms/step - loss: 1.3823 - accuracy: 0.5150 - val_loss: 1.3567 - val_accuracy: 0.5194\n",
            "Epoch 11/1000000\n",
            "313/313 [==============================] - 14s 44ms/step - loss: 1.3507 - accuracy: 0.5290 - val_loss: 1.3553 - val_accuracy: 0.5186\n",
            "Epoch 12/1000000\n",
            "313/313 [==============================] - 14s 44ms/step - loss: 1.3266 - accuracy: 0.5376 - val_loss: 1.3457 - val_accuracy: 0.5269\n",
            "Epoch 13/1000000\n",
            "313/313 [==============================] - 15s 47ms/step - loss: 1.3092 - accuracy: 0.5429 - val_loss: 1.3174 - val_accuracy: 0.5406\n",
            "Epoch 14/1000000\n",
            "313/313 [==============================] - 14s 43ms/step - loss: 1.2828 - accuracy: 0.5531 - val_loss: 1.3484 - val_accuracy: 0.5297\n",
            "Epoch 15/1000000\n",
            "313/313 [==============================] - 13s 42ms/step - loss: 1.2617 - accuracy: 0.5616 - val_loss: 1.3011 - val_accuracy: 0.5393\n",
            "Epoch 16/1000000\n",
            "313/313 [==============================] - 14s 43ms/step - loss: 1.2436 - accuracy: 0.5671 - val_loss: 1.3063 - val_accuracy: 0.5478\n",
            "Epoch 17/1000000\n",
            "313/313 [==============================] - 13s 43ms/step - loss: 1.2276 - accuracy: 0.5727 - val_loss: 1.3196 - val_accuracy: 0.5427\n",
            "Epoch 18/1000000\n",
            "313/313 [==============================] - 13s 43ms/step - loss: 1.2037 - accuracy: 0.5837 - val_loss: 1.2960 - val_accuracy: 0.5482\n",
            "Epoch 19/1000000\n",
            "313/313 [==============================] - 14s 44ms/step - loss: 1.1900 - accuracy: 0.5883 - val_loss: 1.3103 - val_accuracy: 0.5503\n",
            "Epoch 20/1000000\n",
            "313/313 [==============================] - 14s 45ms/step - loss: 1.1712 - accuracy: 0.5950 - val_loss: 1.3001 - val_accuracy: 0.5515\n",
            "Epoch 21/1000000\n",
            "313/313 [==============================] - 13s 42ms/step - loss: 1.1486 - accuracy: 0.6026 - val_loss: 1.2863 - val_accuracy: 0.5561\n",
            "Epoch 22/1000000\n",
            "313/313 [==============================] - 14s 43ms/step - loss: 1.1317 - accuracy: 0.6109 - val_loss: 1.3061 - val_accuracy: 0.5499\n",
            "Epoch 23/1000000\n",
            "313/313 [==============================] - 13s 43ms/step - loss: 1.1221 - accuracy: 0.6146 - val_loss: 1.2743 - val_accuracy: 0.5645\n",
            "Epoch 24/1000000\n",
            "313/313 [==============================] - 13s 43ms/step - loss: 1.1034 - accuracy: 0.6206 - val_loss: 1.2919 - val_accuracy: 0.5585\n",
            "Epoch 25/1000000\n",
            "313/313 [==============================] - 14s 44ms/step - loss: 1.0857 - accuracy: 0.6281 - val_loss: 1.2853 - val_accuracy: 0.5590\n",
            "Epoch 26/1000000\n",
            "313/313 [==============================] - 14s 45ms/step - loss: 1.0753 - accuracy: 0.6300 - val_loss: 1.2916 - val_accuracy: 0.5562\n",
            "Epoch 27/1000000\n",
            "313/313 [==============================] - 14s 46ms/step - loss: 1.0581 - accuracy: 0.6402 - val_loss: 1.2777 - val_accuracy: 0.5677\n",
            "Epoch 28/1000000\n",
            "313/313 [==============================] - 14s 44ms/step - loss: 1.0433 - accuracy: 0.6463 - val_loss: 1.2995 - val_accuracy: 0.5518\n",
            "Epoch 29/1000000\n",
            "313/313 [==============================] - 14s 43ms/step - loss: 1.0266 - accuracy: 0.6463 - val_loss: 1.2871 - val_accuracy: 0.5654\n",
            "Epoch 30/1000000\n",
            "313/313 [==============================] - 14s 44ms/step - loss: 1.0136 - accuracy: 0.6543 - val_loss: 1.2828 - val_accuracy: 0.5618\n",
            "Epoch 31/1000000\n",
            "313/313 [==============================] - 13s 43ms/step - loss: 0.9996 - accuracy: 0.6586 - val_loss: 1.2874 - val_accuracy: 0.5669\n",
            "Epoch 32/1000000\n",
            "313/313 [==============================] - 13s 43ms/step - loss: 0.9833 - accuracy: 0.6644 - val_loss: 1.2897 - val_accuracy: 0.5631\n"
          ]
        }
      ]
    },
    {
      "cell_type": "markdown",
      "source": [
        "# 3. Evaluation on test data and inference\n",
        "At this point, we will perform a basic evaluation and inference. With the model.evaluate function, the same metrics are calculated, that were used during training:"
      ],
      "metadata": {
        "id": "2FtKp-a2-A9m"
      }
    },
    {
      "cell_type": "code",
      "source": [
        "print(model.evaluate(X_test, Y_test))"
      ],
      "metadata": {
        "id": "I3_9wgDREUna",
        "colab": {
          "base_uri": "https://localhost:8080/"
        },
        "outputId": "4f4bbb07-c41c-4848-eb62-cc856d6c05df"
      },
      "execution_count": 31,
      "outputs": [
        {
          "output_type": "stream",
          "name": "stdout",
          "text": [
            "313/313 [==============================] - 2s 5ms/step - loss: 1.2752 - accuracy: 0.5571\n",
            "[1.2752220630645752, 0.5570999979972839]\n"
          ]
        }
      ]
    },
    {
      "cell_type": "markdown",
      "source": [
        "we would like to see similar values, as in the validation set. If those are close to each other, then the generalization ability of the model is good (in case of an independent test-set)."
      ],
      "metadata": {
        "id": "ECHguBFtGL7f"
      }
    },
    {
      "cell_type": "markdown",
      "source": [
        "## 3.1. Exercise\n",
        "Predict the class of the first 10 elements in the test set, and compare the predicted values with the actual, target values in the test set. Hints:\n",
        "* you can use [model.predict](https://www.activestate.com/resources/quick-reads/how-to-use-a-model-to-do-predictions-with-keras/) for prediction\n",
        "* from the output you can select the largest value with the [argmax() function of Numpy](https://stackoverflow.com/questions/62358642/convert-one-hot-encoding-back-to-number-label). As there are multiple values, you have to call it with axis=1 parameter.\n",
        "* it is enought to compare the predictions and the targets by printing the values out and inspecting them."
      ],
      "metadata": {
        "id": "0Io4zYJeHjz6"
      }
    },
    {
      "cell_type": "code",
      "source": [
        "preds = model.predict(X_test[:10])\n",
        "preds_dense = np.argmax(preds, axis=1)"
      ],
      "metadata": {
        "id": "XEEyU7exILqF",
        "colab": {
          "base_uri": "https://localhost:8080/"
        },
        "outputId": "f4fca917-d60f-4c80-8321-ba4e213a1648"
      },
      "execution_count": 32,
      "outputs": [
        {
          "output_type": "stream",
          "name": "stdout",
          "text": [
            "1/1 [==============================] - 0s 189ms/step\n"
          ]
        }
      ]
    },
    {
      "cell_type": "markdown",
      "source": [
        "Before comparision, you have to convert back the one-hot encoded target values the same way, as you converted the output of the neural network to class values with argmax() function."
      ],
      "metadata": {
        "id": "seZTEFI-I5cZ"
      }
    },
    {
      "cell_type": "code",
      "source": [
        "print(\"Target labels:   \", np.argmax(Y_test[:10],axis=1))\n",
        "print(\"Predicted labels:\", preds_dense)"
      ],
      "metadata": {
        "id": "PHLvoMuIIkJ6",
        "colab": {
          "base_uri": "https://localhost:8080/"
        },
        "outputId": "922b6c63-0a36-4aa0-8119-0efdb1aa696e"
      },
      "execution_count": 33,
      "outputs": [
        {
          "output_type": "stream",
          "name": "stdout",
          "text": [
            "Target labels:    [3 8 8 0 6 6 1 6 3 1]\n",
            "Predicted labels: [3 8 0 0 4 6 1 6 5 1]\n"
          ]
        }
      ]
    },
    {
      "cell_type": "markdown",
      "source": [
        "We can see that most of the predicted labels match the target labels and in general with the accuracy of around 6-7 out of 10 being correct, which is a pretty good sign of our model performance."
      ],
      "metadata": {
        "id": "AbIgiLYp4AlS"
      }
    }
  ]
}