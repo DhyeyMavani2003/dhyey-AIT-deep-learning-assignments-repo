{
  "nbformat": 4,
  "nbformat_minor": 0,
  "metadata": {
    "anaconda-cloud": {},
    "kernelspec": {
      "display_name": "Python 3",
      "language": "python",
      "name": "python3"
    },
    "language_info": {
      "codemirror_mode": {
        "name": "ipython",
        "version": 3
      },
      "file_extension": ".py",
      "mimetype": "text/x-python",
      "name": "python",
      "nbconvert_exporter": "python",
      "pygments_lexer": "ipython3",
      "version": "3.6.6"
    },
    "colab": {
      "provenance": [],
      "include_colab_link": true
    },
    "accelerator": "GPU"
  },
  "cells": [
    {
      "cell_type": "markdown",
      "metadata": {
        "id": "view-in-github",
        "colab_type": "text"
      },
      "source": [
        "<a href=\"https://colab.research.google.com/github/DhyeyMavani2003/dhyey-AIT-deep-learning-assignments-repo/blob/main/Dhyey_Mavani_Copy_of_04_AIT_MLP_CIFAR10_exercise.ipynb\" target=\"_parent\"><img src=\"https://colab.research.google.com/assets/colab-badge.svg\" alt=\"Open In Colab\"/></a>"
      ]
    },
    {
      "cell_type": "markdown",
      "metadata": {
        "id": "cW-EyI5Lxpqi"
      },
      "source": [
        "# Copyright\n",
        "\n",
        "<PRE>\n",
        "Copyright (c) 2024 Bálint Gyires-Tóth - All Rights Reserved\n",
        "You may use and modify this code for research and development purpuses.\n",
        "Using this code for educational purposes (self-paced or instructor led) without the permission of the author is prohibited.\n",
        "</PRE>"
      ]
    },
    {
      "cell_type": "markdown",
      "source": [
        "# Example of data exploration, modeling, regulartion and prediction\n",
        "Our exercise today involves loading a standard dataset using TensorFlow Keras API, exploring the data, building a simple neural network, and evaluating the effects of basic methods (activation functions, regularization, weight initialization, etc.). We then perform predictions on the test set and inspect the results."
      ],
      "metadata": {
        "id": "3EX4cCa4WKJu"
      }
    },
    {
      "cell_type": "markdown",
      "source": [
        "# 1. Data\n",
        "The dataset we will use is the well-known CIFAR10 (Canadian Institute For Advanced Research). Explore the details on the Keras website first: https://keras.io/api/datasets/cifar10/\n",
        "\n",
        "After you explored the basic features of the data, let's load it into the memory and explore the shapes:"
      ],
      "metadata": {
        "id": "yY9fztIeWIKt"
      }
    },
    {
      "cell_type": "code",
      "source": [
        "from tensorflow.keras.datasets import cifar10\n",
        "from tensorflow.keras.utils import to_categorical\n",
        "import numpy as np"
      ],
      "metadata": {
        "id": "giRZKTjzX_7l"
      },
      "execution_count": 1,
      "outputs": []
    },
    {
      "cell_type": "code",
      "source": [
        "(X_train, Y_train), (X_test, Y_test) = cifar10.load_data()"
      ],
      "metadata": {
        "id": "bez7q0eiWQCK",
        "colab": {
          "base_uri": "https://localhost:8080/"
        },
        "outputId": "604e3e7c-09f6-416e-d475-2f9441b63f1e"
      },
      "execution_count": 2,
      "outputs": [
        {
          "output_type": "stream",
          "name": "stdout",
          "text": [
            "Downloading data from https://www.cs.toronto.edu/~kriz/cifar-10-python.tar.gz\n",
            "170498071/170498071 [==============================] - 3s 0us/step\n"
          ]
        }
      ]
    },
    {
      "cell_type": "code",
      "source": [
        "print(X_train.shape)\n",
        "print(X_test.shape)\n",
        "print(Y_train.shape)\n",
        "print(Y_test.shape)"
      ],
      "metadata": {
        "id": "2tJoRq5wXywi",
        "colab": {
          "base_uri": "https://localhost:8080/"
        },
        "outputId": "d946c451-80b3-412b-d6e0-8fbd9119dd17"
      },
      "execution_count": 3,
      "outputs": [
        {
          "output_type": "stream",
          "name": "stdout",
          "text": [
            "(50000, 32, 32, 3)\n",
            "(10000, 32, 32, 3)\n",
            "(50000, 1)\n",
            "(10000, 1)\n"
          ]
        }
      ]
    },
    {
      "cell_type": "markdown",
      "source": [
        "## 1.1. Exercise\n",
        "Display the first ten images of the training data. Hints:\n",
        "* Axis 0 refers to the separate images, e.g. X_train[0]\n",
        "* You can use the [Matplotlib Pyplot imshow function](https://matplotlib.org/stable/api/_as_gen/matplotlib.pyplot.imshow.html) for displaying the image. Just don't forget to import Plotly first!\n",
        "* A corresponding example, but you have to modify the code for your purpose: https://stackoverflow.com/questions/46615554/how-to-display-multiple-images-in-one-figure-correctly"
      ],
      "metadata": {
        "id": "zTCSGFyDlNvf"
      }
    },
    {
      "cell_type": "code",
      "source": [
        "import matplotlib.pyplot as plt\n",
        "\n",
        "fig = plt.figure(figsize=(8, 8))\n",
        "columns = 5\n",
        "rows = 2\n",
        "for i in range(1, columns*rows +1):\n",
        "    img = X_train[i]\n",
        "    fig.add_subplot(rows, columns, i)\n",
        "    plt.imshow(img)\n",
        "plt.show()"
      ],
      "metadata": {
        "id": "hIQhHTppmBdO",
        "colab": {
          "base_uri": "https://localhost:8080/",
          "height": 507
        },
        "outputId": "4699dba5-a8c3-48f9-f14a-804e5d3e61dc"
      },
      "execution_count": 4,
      "outputs": [
        {
          "output_type": "display_data",
          "data": {
            "text/plain": [
              "<Figure size 800x800 with 10 Axes>"
            ],
            "image/png": "[encoded data removed]"
          },
          "metadata": {}
        }
      ]
    },
    {
      "cell_type": "markdown",
      "source": [
        "Print the corresponding labels of the displayed images from the target variable (Y_train):"
      ],
      "metadata": {
        "id": "FAQkUWlmm-bc"
      }
    },
    {
      "cell_type": "code",
      "source": [
        "print(Y_train[0:10])"
      ],
      "metadata": {
        "id": "AkOrWzghnJ78",
        "colab": {
          "base_uri": "https://localhost:8080/"
        },
        "outputId": "afae9116-1c0f-46a1-b3fd-05b1a0cc2f81"
      },
      "execution_count": 5,
      "outputs": [
        {
          "output_type": "stream",
          "name": "stdout",
          "text": [
            "[[6]\n",
            " [9]\n",
            " [9]\n",
            " [4]\n",
            " [1]\n",
            " [1]\n",
            " [2]\n",
            " [7]\n",
            " [8]\n",
            " [3]]\n"
          ]
        }
      ]
    },
    {
      "cell_type": "markdown",
      "source": [
        "## 1.2. Exercise\n",
        "We will train a Multi-Layer Perceptron (MLP), which requires a 2 dimensional input: 0th axis refers to the datapoints (i.e. images), the 1th dimens to the input. As images are 3 dimensional (width, height, color channels), you have to reshape the images into vectors. We also call this flattening.\n",
        "\n",
        "In order to do so, calculate the size of the equivalent 1D vector of the image:"
      ],
      "metadata": {
        "id": "VX24g5FstsRU"
      }
    },
    {
      "cell_type": "code",
      "source": [
        "flattened_dim = 32 * 32 * 3"
      ],
      "metadata": {
        "id": "hdoMyxHzuXZG"
      },
      "execution_count": 6,
      "outputs": []
    },
    {
      "cell_type": "markdown",
      "source": [
        "After you calculated it, we can reshape the images, and covert the integer arrays into float arrays -- which are needed for the neural networks as input. Hint:\n",
        "* in the [reshape() function of Numpy](https://www.w3schools.com/python/numpy/numpy_array_reshape.asp) you can use -1 for one axis, to automatically calculate that value."
      ],
      "metadata": {
        "id": "WbqXJUSFubeC"
      }
    },
    {
      "cell_type": "code",
      "source": [
        "# reshape 3D tensors to 2D tensors\n",
        "X_train = X_train.reshape(-1, flattened_dim)\n",
        "X_test = X_test.reshape(-1, flattened_dim)\n",
        "\n",
        "# it is in int8 format, the neural network requires float32\n",
        "X_train = X_train.astype(\"float32\")\n",
        "X_test = X_test.astype(\"float32\")"
      ],
      "metadata": {
        "id": "vukOcBM0XzSj"
      },
      "execution_count": 7,
      "outputs": []
    },
    {
      "cell_type": "markdown",
      "source": [
        "## 1.3. Exercise\n",
        "As the next step, let's split the training data into training and validation data. 80% of the original training data should be the final training data, and 20% the validation.\n",
        "You should use Numpy indexing to select the first 80% of X_train as final X_train, and the last 20% as X_valid. Hints:\n",
        "* https://datascienceparichay.com/article/numpy-array-first-n-rows/\n",
        "* https://datascienceparichay.com/article/numpy-array-last-n-rows/"
      ],
      "metadata": {
        "id": "DO79AdIdvVfD"
      }
    },
    {
      "cell_type": "code",
      "source": [
        "train_ratio  = 0.8\n",
        "train_length = len(X_train) # length of the training data\n",
        "train_split = int(train_length * train_ratio) # where to split the training and validation data\n",
        "X_valid, Y_valid = X_train[train_split:], Y_train[train_split:]\n",
        "X_train, Y_train = X_train[:train_split], Y_train[:train_split]"
      ],
      "metadata": {
        "id": "mRwuWxxIxLgN"
      },
      "execution_count": 8,
      "outputs": []
    },
    {
      "cell_type": "markdown",
      "source": [
        "## 1.4. Exercise\n",
        "As the last step of input data preparation, the data should be standardized. Calculate the mean and variance of the training data (elementvise -- so for each value of the flattened image you should get a mean and variance for the training data along 0th axis). Hint:\n",
        "* https://stackoverflow.com/questions/70626231/how-to-calculate-mean-variance-standard-deviation-per-index-of-array"
      ],
      "metadata": {
        "id": "z05y_QWDxWER"
      }
    },
    {
      "cell_type": "code",
      "source": [
        "X_train_mean = X_train.mean(axis=0)\n",
        "X_train_std = X_train.std(axis=0)\n",
        "X_valid_mean = X_valid.mean(axis=0)\n",
        "X_valid_std = X_valid.std(axis=0)\n",
        "X_test_mean = X_test.mean(axis=0)\n",
        "X_test_std = X_test.std(axis=0)"
      ],
      "metadata": {
        "id": "TSZbvWCBx8Ea"
      },
      "execution_count": 9,
      "outputs": []
    },
    {
      "cell_type": "markdown",
      "source": [
        "Next, use the resulting values to standardize the training, validation and test data by substracting the mean and dividing the result with the standard deviation."
      ],
      "metadata": {
        "id": "6WRHKkkjyN1S"
      }
    },
    {
      "cell_type": "code",
      "source": [
        "X_train = (X_train - X_train_mean) / X_train_std\n",
        "X_valid = (X_valid - X_valid_mean) / X_valid_std\n",
        "X_test = (X_test - X_test_mean) / X_test_std"
      ],
      "metadata": {
        "id": "2ESLP1EIyB2J"
      },
      "execution_count": 10,
      "outputs": []
    },
    {
      "cell_type": "markdown",
      "source": [
        "## 1.5. Exercise\n",
        "And as the last step, convert the dense representation of the classes (i.e. 0,1,2,3...9) to one-hot encoding (0 = [1 0 0 0 0 0 0 0 0 0], 1 = [0 1 0 0 0 0 0 0 0 0] ... 9 = [0 0 0 0 0 0 0 0 0 1]). To do this, first, calculate the number of unique elements in the target training data. Hints:\n",
        "* use the [unique() function](https://numpy.org/doc/stable/reference/generated/numpy.unique.html) of Numpy to list the unique elements\n",
        "* you can count the number of elements in a list with the [len() function](https://www.w3schools.com/python/ref_func_len.asp)"
      ],
      "metadata": {
        "id": "ooHCnUin7r4o"
      }
    },
    {
      "cell_type": "code",
      "source": [
        "nb_classes = len(np.unique(Y_train))"
      ],
      "metadata": {
        "id": "i0LAO9cs8KEE"
      },
      "execution_count": 11,
      "outputs": []
    },
    {
      "cell_type": "markdown",
      "source": [
        "Doublecheck, if the same number of classes exists in the validation and test target data:"
      ],
      "metadata": {
        "id": "BvM6XhGe8JU9"
      }
    },
    {
      "cell_type": "code",
      "source": [
        "print(\"Validation data has the same number of classes, as the training data:\", nb_classes == len(np.unique(Y_valid)))\n",
        "print(\"Test data has the same number of classes, as the training data:\", nb_classes == len(np.unique(Y_test)))"
      ],
      "metadata": {
        "id": "eZFNSsyx_Py2",
        "colab": {
          "base_uri": "https://localhost:8080/"
        },
        "outputId": "c29e3da2-a6e0-4ec6-effd-909eb17cf6a1"
      },
      "execution_count": 12,
      "outputs": [
        {
          "output_type": "stream",
          "name": "stdout",
          "text": [
            "Validation data has the same number of classes, as the training data: True\n",
            "Test data has the same number of classes, as the training data: True\n"
          ]
        }
      ]
    },
    {
      "cell_type": "markdown",
      "source": [
        "And convert the dense representation into one-hot encoding. Hint:\n",
        "* use the [to_categorical function](https://www.tensorflow.org/api_docs/python/tf/keras/utils/to_categorical) with the calculated nb_classes\n"
      ],
      "metadata": {
        "id": "mJM-iBmR8dLe"
      }
    },
    {
      "cell_type": "code",
      "source": [
        "Y_train = to_categorical(Y_train, nb_classes)\n",
        "Y_valid = to_categorical(Y_valid, nb_classes)\n",
        "Y_test = to_categorical(Y_test, nb_classes)"
      ],
      "metadata": {
        "id": "xwZ4OJ6I8lba"
      },
      "execution_count": 13,
      "outputs": []
    },
    {
      "cell_type": "markdown",
      "source": [
        "## Final check of data preparation\n",
        "Now, lets check the shapes and mean and standard deviation of the training, validation and test data."
      ],
      "metadata": {
        "id": "LshN2OSsv3TZ"
      }
    },
    {
      "cell_type": "code",
      "source": [
        "print(\"Shapes of the training, validation and test input data:\", X_train.shape, X_valid.shape, X_test.shape)\n",
        "print(\"Shapes of the training, validation and test output data:\", Y_train.shape, Y_valid.shape, Y_test.shape)\n",
        "print(\"Mean values of the training, validation and test input data:\", X_train.mean(), X_valid.mean(), X_test.mean())\n",
        "print(\"Standard deviation of the training, validation and test input data:\", X_train.std(), X_valid.std(), X_test.std())"
      ],
      "metadata": {
        "id": "O_jdJVcvX0vi",
        "colab": {
          "base_uri": "https://localhost:8080/"
        },
        "outputId": "221c34d7-8474-472b-fe05-d9251c1eebde"
      },
      "execution_count": 14,
      "outputs": [
        {
          "output_type": "stream",
          "name": "stdout",
          "text": [
            "Shapes of the training, validation and test input data: (40000, 3072) (10000, 3072) (10000, 3072)\n",
            "Shapes of the training, validation and test output data: (40000, 10) (10000, 10) (10000, 10)\n",
            "Mean values of the training, validation and test input data: -2.4725992e-09 -8.1857043e-10 -1.5187263e-08\n",
            "Standard deviation of the training, validation and test input data: 1.0000038 1.0000011 1.0\n"
          ]
        }
      ]
    },
    {
      "cell_type": "markdown",
      "source": [
        "Don't worry, if the mean and standard deviation of the validation and test data are not exactly 0 and 1, but these might be very mear to it (e.g. 0.01 mean, 0.99 variance)."
      ],
      "metadata": {
        "id": "5GtAOOoezmZY"
      }
    },
    {
      "cell_type": "markdown",
      "metadata": {
        "id": "cJ14oyZExpqj"
      },
      "source": [
        "# 2. Training"
      ]
    },
    {
      "cell_type": "markdown",
      "metadata": {
        "id": "s4ZXYRMBxpql"
      },
      "source": [
        "Let us begin with a simple example of creating a small neural network without regularization and training it with actual data. The purpose of this is to provide you with an example as to how to proceed with the next exercise."
      ]
    },
    {
      "cell_type": "code",
      "source": [
        "# imports\n",
        "import numpy as np\n",
        "import matplotlib.pyplot as plt\n",
        "from tensorflow.keras.models import Sequential\n",
        "from tensorflow.keras.layers import Dense, Embedding, Flatten, Dropout\n",
        "from tensorflow.keras.initializers import HeNormal\n",
        "from tensorflow.keras.callbacks import EarlyStopping"
      ],
      "metadata": {
        "id": "6-8Q6ll7ZDgq"
      },
      "execution_count": 15,
      "outputs": []
    },
    {
      "cell_type": "code",
      "source": [
        "# model definition\n",
        "model = Sequential()\n",
        "model.add(Dense(128, activation='tanh', input_shape=(flattened_dim,)))\n",
        "model.add(Dense(128, activation='tanh'))\n",
        "model.add(Dense(nb_classes, activation='softmax'))\n",
        "\n",
        "# loss function and optimizer\n",
        "model.compile(loss='categorical_crossentropy', optimizer='adam', metrics=['accuracy'])"
      ],
      "metadata": {
        "id": "pke6w3CD8DHp"
      },
      "execution_count": 16,
      "outputs": []
    },
    {
      "cell_type": "code",
      "metadata": {
        "id": "CZbOR76QxprC",
        "colab": {
          "base_uri": "https://localhost:8080/"
        },
        "outputId": "293f1dd2-6cee-48dc-c9dd-04c7c8d0d1a4"
      },
      "source": [
        "# training\n",
        "network_history = model.fit(X_train, Y_train,\n",
        "                            validation_data=(X_valid,Y_valid),\n",
        "                            batch_size=128,\n",
        "                            epochs=40,\n",
        "                            verbose=1)"
      ],
      "execution_count": 17,
      "outputs": [
        {
          "output_type": "stream",
          "name": "stdout",
          "text": [
            "Epoch 1/40\n",
            "313/313 [==============================] - 4s 6ms/step - loss: 1.8188 - accuracy: 0.3628 - val_loss: 1.7754 - val_accuracy: 0.3863\n",
            "Epoch 2/40\n",
            "313/313 [==============================] - 1s 4ms/step - loss: 1.6947 - accuracy: 0.4094 - val_loss: 1.7297 - val_accuracy: 0.4044\n",
            "Epoch 3/40\n",
            "313/313 [==============================] - 1s 4ms/step - loss: 1.6390 - accuracy: 0.4315 - val_loss: 1.7047 - val_accuracy: 0.4078\n",
            "Epoch 4/40\n",
            "313/313 [==============================] - 1s 5ms/step - loss: 1.5999 - accuracy: 0.4457 - val_loss: 1.6797 - val_accuracy: 0.4169\n",
            "Epoch 5/40\n",
            "313/313 [==============================] - 1s 4ms/step - loss: 1.5581 - accuracy: 0.4621 - val_loss: 1.6649 - val_accuracy: 0.4230\n",
            "Epoch 6/40\n",
            "313/313 [==============================] - 1s 5ms/step - loss: 1.5285 - accuracy: 0.4711 - val_loss: 1.6694 - val_accuracy: 0.4208\n",
            "Epoch 7/40\n",
            "313/313 [==============================] - 2s 6ms/step - loss: 1.5054 - accuracy: 0.4770 - val_loss: 1.6489 - val_accuracy: 0.4302\n",
            "Epoch 8/40\n",
            "313/313 [==============================] - 2s 5ms/step - loss: 1.4755 - accuracy: 0.4906 - val_loss: 1.6526 - val_accuracy: 0.4323\n",
            "Epoch 9/40\n",
            "313/313 [==============================] - 1s 5ms/step - loss: 1.4560 - accuracy: 0.4952 - val_loss: 1.6540 - val_accuracy: 0.4292\n",
            "Epoch 10/40\n",
            "313/313 [==============================] - 1s 4ms/step - loss: 1.4312 - accuracy: 0.5037 - val_loss: 1.6489 - val_accuracy: 0.4295\n",
            "Epoch 11/40\n",
            "313/313 [==============================] - 1s 4ms/step - loss: 1.4078 - accuracy: 0.5115 - val_loss: 1.6392 - val_accuracy: 0.4343\n",
            "Epoch 12/40\n",
            "313/313 [==============================] - 1s 4ms/step - loss: 1.3850 - accuracy: 0.5216 - val_loss: 1.6493 - val_accuracy: 0.4299\n",
            "Epoch 13/40\n",
            "313/313 [==============================] - 1s 4ms/step - loss: 1.3603 - accuracy: 0.5279 - val_loss: 1.6311 - val_accuracy: 0.4451\n",
            "Epoch 14/40\n",
            "313/313 [==============================] - 1s 4ms/step - loss: 1.3434 - accuracy: 0.5327 - val_loss: 1.6285 - val_accuracy: 0.4449\n",
            "Epoch 15/40\n",
            "313/313 [==============================] - 2s 6ms/step - loss: 1.3217 - accuracy: 0.5413 - val_loss: 1.6350 - val_accuracy: 0.4408\n",
            "Epoch 16/40\n",
            "313/313 [==============================] - 2s 6ms/step - loss: 1.3059 - accuracy: 0.5495 - val_loss: 1.6252 - val_accuracy: 0.4441\n",
            "Epoch 17/40\n",
            "313/313 [==============================] - 1s 4ms/step - loss: 1.2885 - accuracy: 0.5529 - val_loss: 1.6279 - val_accuracy: 0.4449\n",
            "Epoch 18/40\n",
            "313/313 [==============================] - 1s 4ms/step - loss: 1.2654 - accuracy: 0.5619 - val_loss: 1.6329 - val_accuracy: 0.4423\n",
            "Epoch 19/40\n",
            "313/313 [==============================] - 1s 4ms/step - loss: 1.2442 - accuracy: 0.5683 - val_loss: 1.6350 - val_accuracy: 0.4476\n",
            "Epoch 20/40\n",
            "313/313 [==============================] - 1s 4ms/step - loss: 1.2293 - accuracy: 0.5742 - val_loss: 1.6408 - val_accuracy: 0.4453\n",
            "Epoch 21/40\n",
            "313/313 [==============================] - 1s 4ms/step - loss: 1.2121 - accuracy: 0.5782 - val_loss: 1.6426 - val_accuracy: 0.4462\n",
            "Epoch 22/40\n",
            "313/313 [==============================] - 1s 5ms/step - loss: 1.1923 - accuracy: 0.5867 - val_loss: 1.6530 - val_accuracy: 0.4464\n",
            "Epoch 23/40\n",
            "313/313 [==============================] - 2s 5ms/step - loss: 1.1781 - accuracy: 0.5902 - val_loss: 1.6560 - val_accuracy: 0.4420\n",
            "Epoch 24/40\n",
            "313/313 [==============================] - 2s 6ms/step - loss: 1.1565 - accuracy: 0.6001 - val_loss: 1.6572 - val_accuracy: 0.4482\n",
            "Epoch 25/40\n",
            "313/313 [==============================] - 1s 5ms/step - loss: 1.1390 - accuracy: 0.6057 - val_loss: 1.6573 - val_accuracy: 0.4476\n",
            "Epoch 26/40\n",
            "313/313 [==============================] - 1s 4ms/step - loss: 1.1238 - accuracy: 0.6126 - val_loss: 1.6829 - val_accuracy: 0.4439\n",
            "Epoch 27/40\n",
            "313/313 [==============================] - 1s 5ms/step - loss: 1.1046 - accuracy: 0.6179 - val_loss: 1.6889 - val_accuracy: 0.4478\n",
            "Epoch 28/40\n",
            "313/313 [==============================] - 1s 4ms/step - loss: 1.0978 - accuracy: 0.6227 - val_loss: 1.6859 - val_accuracy: 0.4472\n",
            "Epoch 29/40\n",
            "313/313 [==============================] - 1s 4ms/step - loss: 1.0717 - accuracy: 0.6310 - val_loss: 1.7036 - val_accuracy: 0.4404\n",
            "Epoch 30/40\n",
            "313/313 [==============================] - 1s 4ms/step - loss: 1.0614 - accuracy: 0.6334 - val_loss: 1.7074 - val_accuracy: 0.4526\n",
            "Epoch 31/40\n",
            "313/313 [==============================] - 1s 4ms/step - loss: 1.0375 - accuracy: 0.6418 - val_loss: 1.7176 - val_accuracy: 0.4479\n",
            "Epoch 32/40\n",
            "313/313 [==============================] - 2s 6ms/step - loss: 1.0180 - accuracy: 0.6482 - val_loss: 1.7395 - val_accuracy: 0.4474\n",
            "Epoch 33/40\n",
            "313/313 [==============================] - 1s 4ms/step - loss: 1.0180 - accuracy: 0.6506 - val_loss: 1.7419 - val_accuracy: 0.4428\n",
            "Epoch 34/40\n",
            "313/313 [==============================] - 1s 4ms/step - loss: 0.9963 - accuracy: 0.6576 - val_loss: 1.7513 - val_accuracy: 0.4419\n",
            "Epoch 35/40\n",
            "313/313 [==============================] - 1s 5ms/step - loss: 0.9817 - accuracy: 0.6611 - val_loss: 1.7711 - val_accuracy: 0.4388\n",
            "Epoch 36/40\n",
            "313/313 [==============================] - 1s 5ms/step - loss: 0.9703 - accuracy: 0.6654 - val_loss: 1.7658 - val_accuracy: 0.4398\n",
            "Epoch 37/40\n",
            "313/313 [==============================] - 1s 5ms/step - loss: 0.9644 - accuracy: 0.6683 - val_loss: 1.8003 - val_accuracy: 0.4356\n",
            "Epoch 38/40\n",
            "313/313 [==============================] - 2s 5ms/step - loss: 0.9423 - accuracy: 0.6765 - val_loss: 1.8049 - val_accuracy: 0.4410\n",
            "Epoch 39/40\n",
            "313/313 [==============================] - 1s 4ms/step - loss: 0.9215 - accuracy: 0.6836 - val_loss: 1.8456 - val_accuracy: 0.4392\n",
            "Epoch 40/40\n",
            "313/313 [==============================] - 2s 6ms/step - loss: 0.9115 - accuracy: 0.6877 - val_loss: 1.8332 - val_accuracy: 0.4452\n"
          ]
        }
      ]
    },
    {
      "cell_type": "markdown",
      "metadata": {
        "id": "uFqhzV85xprJ"
      },
      "source": [
        "Let's plot the training and validation loss and accuracy curves:"
      ]
    },
    {
      "cell_type": "code",
      "metadata": {
        "id": "BYmXGkLCxprK",
        "colab": {
          "base_uri": "https://localhost:8080/",
          "height": 883
        },
        "outputId": "2e4f0b27-0032-407b-cb4a-cac4fe7921d0"
      },
      "source": [
        "def plot_history(network_history):\n",
        "    plt.figure()\n",
        "    plt.xlabel('Epochs')\n",
        "    plt.ylabel('Loss')\n",
        "    plt.plot(network_history.history['loss'])\n",
        "    plt.plot(network_history.history['val_loss'])\n",
        "    plt.legend(['Training', 'Validation'])\n",
        "\n",
        "    plt.figure()\n",
        "    plt.xlabel('Epochs')\n",
        "    plt.ylabel('Accuracy')\n",
        "    plt.plot(network_history.history['accuracy'])\n",
        "    plt.plot(network_history.history['val_accuracy'])\n",
        "    plt.legend(['Training', 'Validation'], loc='lower right')\n",
        "    plt.show()\n",
        "\n",
        "plot_history(network_history)"
      ],
      "execution_count": 18,
      "outputs": [
        {
          "output_type": "display_data",
          "data": {
            "text/plain": [
              "<Figure size 640x480 with 1 Axes>"
            ],
            "image/png": "[encoded data removed]"
          },
          "metadata": {}
        },
        {
          "output_type": "display_data",
          "data": {
            "text/plain": [
              "<Figure size 640x480 with 1 Axes>"
            ],
            "image/png": "[encoded data removed]"
          },
          "metadata": {}
        }
      ]
    },
    {
      "cell_type": "markdown",
      "source": [
        "What do you think? Does it overfit?\n",
        "\n",
        "I think there is overfitting because the training accuracy is significantly more than the validation accuracy especially in the later epochs."
      ],
      "metadata": {
        "id": "tgG7QeXF-dx6"
      }
    },
    {
      "cell_type": "markdown",
      "metadata": {
        "id": "_Q9rIeBBxprO"
      },
      "source": [
        "# Inspecting the model"
      ]
    },
    {
      "cell_type": "code",
      "metadata": {
        "id": "6r2AmmoMxprP",
        "colab": {
          "base_uri": "https://localhost:8080/"
        },
        "outputId": "7f568d9f-42ab-4fd8-c04b-432cd7418b8a"
      },
      "source": [
        "model.summary()"
      ],
      "execution_count": 19,
      "outputs": [
        {
          "output_type": "stream",
          "name": "stdout",
          "text": [
            "Model: \"sequential\"\n",
            "_________________________________________________________________\n",
            " Layer (type)                Output Shape              Param #   \n",
            "=================================================================\n",
            " dense (Dense)               (None, 128)               393344    \n",
            "                                                                 \n",
            " dense_1 (Dense)             (None, 128)               16512     \n",
            "                                                                 \n",
            " dense_2 (Dense)             (None, 10)                1290      \n",
            "                                                                 \n",
            "=================================================================\n",
            "Total params: 411146 (1.57 MB)\n",
            "Trainable params: 411146 (1.57 MB)\n",
            "Non-trainable params: 0 (0.00 Byte)\n",
            "_________________________________________________________________\n"
          ]
        }
      ]
    },
    {
      "cell_type": "code",
      "metadata": {
        "id": "D3-bVDVuxprS",
        "colab": {
          "base_uri": "https://localhost:8080/"
        },
        "outputId": "6c00f119-bff9-4b7e-d3ef-b44a29af6ff9"
      },
      "source": [
        "print('Input: ', model.input)"
      ],
      "execution_count": 20,
      "outputs": [
        {
          "output_type": "stream",
          "name": "stdout",
          "text": [
            "Input:  KerasTensor(type_spec=TensorSpec(shape=(None, 3072), dtype=tf.float32, name='dense_input'), name='dense_input', description=\"created by layer 'dense_input'\")\n"
          ]
        }
      ]
    },
    {
      "cell_type": "code",
      "metadata": {
        "id": "Da2OJ3DmxprX",
        "colab": {
          "base_uri": "https://localhost:8080/"
        },
        "outputId": "18bee564-8d5a-4324-bc2b-8fcf48d57563"
      },
      "source": [
        "print('Layers:\\n')\n",
        "for layer in model.layers:\n",
        "    print(\"Layer's name: \", layer.name, ', trainable: ', layer.trainable)\n",
        "    print(layer.get_config(),'\\n')"
      ],
      "execution_count": 21,
      "outputs": [
        {
          "output_type": "stream",
          "name": "stdout",
          "text": [
            "Layers:\n",
            "\n",
            "Layer's name:  dense , trainable:  True\n",
            "{'name': 'dense', 'trainable': True, 'dtype': 'float32', 'batch_input_shape': (None, 3072), 'units': 128, 'activation': 'tanh', 'use_bias': True, 'kernel_initializer': {'module': 'keras.initializers', 'class_name': 'GlorotUniform', 'config': {'seed': None}, 'registered_name': None}, 'bias_initializer': {'module': 'keras.initializers', 'class_name': 'Zeros', 'config': {}, 'registered_name': None}, 'kernel_regularizer': None, 'bias_regularizer': None, 'activity_regularizer': None, 'kernel_constraint': None, 'bias_constraint': None} \n",
            "\n",
            "Layer's name:  dense_1 , trainable:  True\n",
            "{'name': 'dense_1', 'trainable': True, 'dtype': 'float32', 'units': 128, 'activation': 'tanh', 'use_bias': True, 'kernel_initializer': {'module': 'keras.initializers', 'class_name': 'GlorotUniform', 'config': {'seed': None}, 'registered_name': None}, 'bias_initializer': {'module': 'keras.initializers', 'class_name': 'Zeros', 'config': {}, 'registered_name': None}, 'kernel_regularizer': None, 'bias_regularizer': None, 'activity_regularizer': None, 'kernel_constraint': None, 'bias_constraint': None} \n",
            "\n",
            "Layer's name:  dense_2 , trainable:  True\n",
            "{'name': 'dense_2', 'trainable': True, 'dtype': 'float32', 'units': 10, 'activation': 'softmax', 'use_bias': True, 'kernel_initializer': {'module': 'keras.initializers', 'class_name': 'GlorotUniform', 'config': {'seed': None}, 'registered_name': None}, 'bias_initializer': {'module': 'keras.initializers', 'class_name': 'Zeros', 'config': {}, 'registered_name': None}, 'kernel_regularizer': None, 'bias_regularizer': None, 'activity_regularizer': None, 'kernel_constraint': None, 'bias_constraint': None} \n",
            "\n"
          ]
        }
      ]
    },
    {
      "cell_type": "code",
      "metadata": {
        "id": "AtVX3M3lxprc",
        "colab": {
          "base_uri": "https://localhost:8080/"
        },
        "outputId": "459e6a98-f6c4-4002-d7ee-15fbc675ff36"
      },
      "source": [
        "print('Output: ', model.output)"
      ],
      "execution_count": 22,
      "outputs": [
        {
          "output_type": "stream",
          "name": "stdout",
          "text": [
            "Output:  KerasTensor(type_spec=TensorSpec(shape=(None, 10), dtype=tf.float32, name=None), name='dense_2/Softmax:0', description=\"created by layer 'dense_2'\")\n"
          ]
        }
      ]
    },
    {
      "cell_type": "markdown",
      "source": [
        "## 2.1. Exercise\n",
        "Introduce [early stopping](https://www.tensorflow.org/api_docs/python/tf/keras/callbacks/EarlyStopping) and [dropout](https://www.tensorflow.org/api_docs/python/tf/keras/layers/Dropout) with a rate between 0.1..0.5. Tips:\n",
        "\n",
        "* Insert the dropout layer between the two Dense layers.\n",
        "* Set the patience of early stopping to 5.\n",
        "* Set the number of epochs to a very high number.\n",
        "* Don't forget to restore best weights after early stopping.\n",
        "* And also set early stopping to monitor validation accuracy (the default value is validation loss -- which is categorical crossentropy now).\n",
        "\n",
        "Compile and train the model. Attempt to increase the validation accuracy as much as possible by making changes to the dropout rate. Inspect the effects of the modifications."
      ],
      "metadata": {
        "id": "E-hHfs9qA_iO"
      }
    },
    {
      "cell_type": "code",
      "source": [
        "es = EarlyStopping(monitor='val_accuracy', patience=5, restore_best_weights=True)"
      ],
      "metadata": {
        "id": "NwXrPzOgEBG-"
      },
      "execution_count": 23,
      "outputs": []
    },
    {
      "cell_type": "code",
      "source": [
        "# model definition with dropout\n",
        "model = Sequential()\n",
        "model.add(Dense(128, activation='tanh', input_shape=(flattened_dim,)))\n",
        "model.add(Dropout(0.3))  # I consider a dropout rate of 0.3\n",
        "model.add(Dense(128, activation='tanh'))\n",
        "model.add(Dense(nb_classes, activation='softmax'))\n",
        "\n",
        "# loss function and optimizer\n",
        "model.compile(loss='categorical_crossentropy', optimizer='adam', metrics=['accuracy'])"
      ],
      "metadata": {
        "id": "7hZEGzj8GFwP"
      },
      "execution_count": 24,
      "outputs": []
    },
    {
      "cell_type": "code",
      "source": [
        "# training with early stopping\n",
        "network_history = model.fit(X_train, Y_train,\n",
        "                            validation_data=(X_valid, Y_valid),\n",
        "                            batch_size=128,\n",
        "                            epochs=1000000,\n",
        "                            verbose=1,\n",
        "                            callbacks=[es])"
      ],
      "metadata": {
        "id": "GCG54R-vGGWj",
        "colab": {
          "base_uri": "https://localhost:8080/"
        },
        "outputId": "5d66f6b6-aa08-4421-e0e6-1be827899459"
      },
      "execution_count": 25,
      "outputs": [
        {
          "output_type": "stream",
          "name": "stdout",
          "text": [
            "Epoch 1/1000000\n",
            "313/313 [==============================] - 4s 6ms/step - loss: 1.8945 - accuracy: 0.3304 - val_loss: 1.7945 - val_accuracy: 0.3758\n",
            "Epoch 2/1000000\n",
            "313/313 [==============================] - 1s 5ms/step - loss: 1.7917 - accuracy: 0.3728 - val_loss: 1.7421 - val_accuracy: 0.3958\n",
            "Epoch 3/1000000\n",
            "313/313 [==============================] - 2s 6ms/step - loss: 1.7443 - accuracy: 0.3915 - val_loss: 1.7186 - val_accuracy: 0.4032\n",
            "Epoch 4/1000000\n",
            "313/313 [==============================] - 2s 5ms/step - loss: 1.7100 - accuracy: 0.4020 - val_loss: 1.7015 - val_accuracy: 0.4089\n",
            "Epoch 5/1000000\n",
            "313/313 [==============================] - 2s 5ms/step - loss: 1.6875 - accuracy: 0.4095 - val_loss: 1.6867 - val_accuracy: 0.4144\n",
            "Epoch 6/1000000\n",
            "313/313 [==============================] - 2s 5ms/step - loss: 1.6646 - accuracy: 0.4200 - val_loss: 1.6712 - val_accuracy: 0.4179\n",
            "Epoch 7/1000000\n",
            "313/313 [==============================] - 2s 5ms/step - loss: 1.6405 - accuracy: 0.4284 - val_loss: 1.6585 - val_accuracy: 0.4207\n",
            "Epoch 8/1000000\n",
            "313/313 [==============================] - 1s 4ms/step - loss: 1.6279 - accuracy: 0.4313 - val_loss: 1.6472 - val_accuracy: 0.4269\n",
            "Epoch 9/1000000\n",
            "313/313 [==============================] - 1s 4ms/step - loss: 1.6127 - accuracy: 0.4383 - val_loss: 1.6389 - val_accuracy: 0.4331\n",
            "Epoch 10/1000000\n",
            "313/313 [==============================] - 1s 5ms/step - loss: 1.6012 - accuracy: 0.4409 - val_loss: 1.6230 - val_accuracy: 0.4395\n",
            "Epoch 11/1000000\n",
            "313/313 [==============================] - 2s 6ms/step - loss: 1.5814 - accuracy: 0.4489 - val_loss: 1.6089 - val_accuracy: 0.4373\n",
            "Epoch 12/1000000\n",
            "313/313 [==============================] - 2s 5ms/step - loss: 1.5606 - accuracy: 0.4539 - val_loss: 1.6073 - val_accuracy: 0.4414\n",
            "Epoch 13/1000000\n",
            "313/313 [==============================] - 1s 4ms/step - loss: 1.5576 - accuracy: 0.4566 - val_loss: 1.5991 - val_accuracy: 0.4444\n",
            "Epoch 14/1000000\n",
            "313/313 [==============================] - 2s 5ms/step - loss: 1.5429 - accuracy: 0.4606 - val_loss: 1.5887 - val_accuracy: 0.4490\n",
            "Epoch 15/1000000\n",
            "313/313 [==============================] - 1s 4ms/step - loss: 1.5273 - accuracy: 0.4663 - val_loss: 1.5956 - val_accuracy: 0.4476\n",
            "Epoch 16/1000000\n",
            "313/313 [==============================] - 2s 5ms/step - loss: 1.5173 - accuracy: 0.4694 - val_loss: 1.5710 - val_accuracy: 0.4493\n",
            "Epoch 17/1000000\n",
            "313/313 [==============================] - 1s 4ms/step - loss: 1.5088 - accuracy: 0.4701 - val_loss: 1.5695 - val_accuracy: 0.4566\n",
            "Epoch 18/1000000\n",
            "313/313 [==============================] - 2s 5ms/step - loss: 1.4994 - accuracy: 0.4736 - val_loss: 1.5599 - val_accuracy: 0.4544\n",
            "Epoch 19/1000000\n",
            "313/313 [==============================] - 2s 6ms/step - loss: 1.4938 - accuracy: 0.4729 - val_loss: 1.5596 - val_accuracy: 0.4543\n",
            "Epoch 20/1000000\n",
            "313/313 [==============================] - 2s 5ms/step - loss: 1.4844 - accuracy: 0.4796 - val_loss: 1.5600 - val_accuracy: 0.4544\n",
            "Epoch 21/1000000\n",
            "313/313 [==============================] - 2s 6ms/step - loss: 1.4779 - accuracy: 0.4818 - val_loss: 1.5552 - val_accuracy: 0.4561\n",
            "Epoch 22/1000000\n",
            "313/313 [==============================] - 2s 6ms/step - loss: 1.4687 - accuracy: 0.4835 - val_loss: 1.5566 - val_accuracy: 0.4555\n"
          ]
        }
      ]
    },
    {
      "cell_type": "markdown",
      "source": [
        "## 2.2 Exercise\n",
        "Change the [activation function of the dense layers (except the last one)](https://www.tensorflow.org/api_docs/python/tf/keras/layers/Dense) to rectified linear unit (ReLU) and the [weight initialization](https://www.tensorflow.org/api_docs/python/tf/keras/initializers) to the theoretically best one. Use the original model's code.\n",
        "\n",
        "Compile and train the model. Inspect the effects of the modifications."
      ],
      "metadata": {
        "id": "zQCDM1o1BBtF"
      }
    },
    {
      "cell_type": "code",
      "source": [
        "# model definition with relu\n",
        "model = Sequential()\n",
        "model.add(Dense(128, activation='relu', kernel_initializer=HeNormal(), input_shape=(flattened_dim,)))\n",
        "model.add(Dense(128, activation='relu', kernel_initializer=HeNormal()))\n",
        "model.add(Dense(nb_classes, activation='softmax'))\n",
        "\n",
        "# loss function and optimizer\n",
        "model.compile(loss='categorical_crossentropy', optimizer='adam', metrics=['accuracy'])"
      ],
      "metadata": {
        "id": "YjHAAh-wGu9O"
      },
      "execution_count": 26,
      "outputs": []
    },
    {
      "cell_type": "code",
      "source": [
        "# training\n",
        "network_history = model.fit(X_train, Y_train,\n",
        "                            validation_data=(X_valid, Y_valid),\n",
        "                            batch_size=128,\n",
        "                            epochs=40,\n",
        "                            verbose=1)"
      ],
      "metadata": {
        "id": "rarwKM1wGxMz",
        "colab": {
          "base_uri": "https://localhost:8080/"
        },
        "outputId": "ad2bb061-7fd5-46f2-e8d1-06d73f588867"
      },
      "execution_count": 27,
      "outputs": [
        {
          "output_type": "stream",
          "name": "stdout",
          "text": [
            "Epoch 1/40\n",
            "313/313 [==============================] - 3s 6ms/step - loss: 1.8198 - accuracy: 0.3836 - val_loss: 1.7005 - val_accuracy: 0.4138\n",
            "Epoch 2/40\n",
            "313/313 [==============================] - 1s 5ms/step - loss: 1.5453 - accuracy: 0.4584 - val_loss: 1.6104 - val_accuracy: 0.4495\n",
            "Epoch 3/40\n",
            "313/313 [==============================] - 1s 5ms/step - loss: 1.4224 - accuracy: 0.5045 - val_loss: 1.5345 - val_accuracy: 0.4728\n",
            "Epoch 4/40\n",
            "313/313 [==============================] - 1s 4ms/step - loss: 1.3378 - accuracy: 0.5310 - val_loss: 1.5247 - val_accuracy: 0.4821\n",
            "Epoch 5/40\n",
            "313/313 [==============================] - 2s 5ms/step - loss: 1.2683 - accuracy: 0.5555 - val_loss: 1.5058 - val_accuracy: 0.4849\n",
            "Epoch 6/40\n",
            "313/313 [==============================] - 2s 6ms/step - loss: 1.2065 - accuracy: 0.5759 - val_loss: 1.5089 - val_accuracy: 0.4931\n",
            "Epoch 7/40\n",
            "313/313 [==============================] - 1s 5ms/step - loss: 1.1506 - accuracy: 0.5964 - val_loss: 1.5206 - val_accuracy: 0.4942\n",
            "Epoch 8/40\n",
            "313/313 [==============================] - 1s 5ms/step - loss: 1.1036 - accuracy: 0.6126 - val_loss: 1.5353 - val_accuracy: 0.4981\n",
            "Epoch 9/40\n",
            "313/313 [==============================] - 1s 4ms/step - loss: 1.0502 - accuracy: 0.6311 - val_loss: 1.5363 - val_accuracy: 0.5025\n",
            "Epoch 10/40\n",
            "313/313 [==============================] - 1s 5ms/step - loss: 1.0091 - accuracy: 0.6444 - val_loss: 1.5349 - val_accuracy: 0.4954\n",
            "Epoch 11/40\n",
            "313/313 [==============================] - 1s 4ms/step - loss: 0.9638 - accuracy: 0.6560 - val_loss: 1.5993 - val_accuracy: 0.4943\n",
            "Epoch 12/40\n",
            "313/313 [==============================] - 2s 5ms/step - loss: 0.9297 - accuracy: 0.6732 - val_loss: 1.6387 - val_accuracy: 0.4899\n",
            "Epoch 13/40\n",
            "313/313 [==============================] - 2s 6ms/step - loss: 0.8957 - accuracy: 0.6849 - val_loss: 1.6591 - val_accuracy: 0.5011\n",
            "Epoch 14/40\n",
            "313/313 [==============================] - 2s 6ms/step - loss: 0.8563 - accuracy: 0.6986 - val_loss: 1.7026 - val_accuracy: 0.4907\n",
            "Epoch 15/40\n",
            "313/313 [==============================] - 1s 5ms/step - loss: 0.8175 - accuracy: 0.7122 - val_loss: 1.7401 - val_accuracy: 0.5008\n",
            "Epoch 16/40\n",
            "313/313 [==============================] - 1s 5ms/step - loss: 0.7873 - accuracy: 0.7227 - val_loss: 1.7702 - val_accuracy: 0.4906\n",
            "Epoch 17/40\n",
            "313/313 [==============================] - 1s 4ms/step - loss: 0.7522 - accuracy: 0.7364 - val_loss: 1.8178 - val_accuracy: 0.4930\n",
            "Epoch 18/40\n",
            "313/313 [==============================] - 1s 4ms/step - loss: 0.7213 - accuracy: 0.7462 - val_loss: 1.8700 - val_accuracy: 0.4868\n",
            "Epoch 19/40\n",
            "313/313 [==============================] - 1s 4ms/step - loss: 0.6992 - accuracy: 0.7538 - val_loss: 1.8610 - val_accuracy: 0.4929\n",
            "Epoch 20/40\n",
            "313/313 [==============================] - 1s 4ms/step - loss: 0.6673 - accuracy: 0.7648 - val_loss: 1.9586 - val_accuracy: 0.4883\n",
            "Epoch 21/40\n",
            "313/313 [==============================] - 1s 5ms/step - loss: 0.6447 - accuracy: 0.7742 - val_loss: 1.9949 - val_accuracy: 0.4886\n",
            "Epoch 22/40\n",
            "313/313 [==============================] - 2s 6ms/step - loss: 0.6060 - accuracy: 0.7871 - val_loss: 2.0320 - val_accuracy: 0.4910\n",
            "Epoch 23/40\n",
            "313/313 [==============================] - 1s 5ms/step - loss: 0.5953 - accuracy: 0.7918 - val_loss: 2.1173 - val_accuracy: 0.4863\n",
            "Epoch 24/40\n",
            "313/313 [==============================] - 1s 4ms/step - loss: 0.5614 - accuracy: 0.8025 - val_loss: 2.1596 - val_accuracy: 0.4869\n",
            "Epoch 25/40\n",
            "313/313 [==============================] - 1s 4ms/step - loss: 0.5466 - accuracy: 0.8082 - val_loss: 2.2380 - val_accuracy: 0.4829\n",
            "Epoch 26/40\n",
            "313/313 [==============================] - 1s 5ms/step - loss: 0.5273 - accuracy: 0.8139 - val_loss: 2.2890 - val_accuracy: 0.4837\n",
            "Epoch 27/40\n",
            "313/313 [==============================] - 1s 4ms/step - loss: 0.5118 - accuracy: 0.8205 - val_loss: 2.3389 - val_accuracy: 0.4764\n",
            "Epoch 28/40\n",
            "313/313 [==============================] - 1s 4ms/step - loss: 0.4792 - accuracy: 0.8325 - val_loss: 2.4062 - val_accuracy: 0.4778\n",
            "Epoch 29/40\n",
            "313/313 [==============================] - 1s 4ms/step - loss: 0.4808 - accuracy: 0.8328 - val_loss: 2.4612 - val_accuracy: 0.4778\n",
            "Epoch 30/40\n",
            "313/313 [==============================] - 2s 6ms/step - loss: 0.4498 - accuracy: 0.8413 - val_loss: 2.5240 - val_accuracy: 0.4837\n",
            "Epoch 31/40\n",
            "313/313 [==============================] - 2s 5ms/step - loss: 0.4375 - accuracy: 0.8498 - val_loss: 2.6207 - val_accuracy: 0.4787\n",
            "Epoch 32/40\n",
            "313/313 [==============================] - 1s 5ms/step - loss: 0.4293 - accuracy: 0.8500 - val_loss: 2.6149 - val_accuracy: 0.4869\n",
            "Epoch 33/40\n",
            "313/313 [==============================] - 1s 5ms/step - loss: 0.4082 - accuracy: 0.8554 - val_loss: 2.6886 - val_accuracy: 0.4824\n",
            "Epoch 34/40\n",
            "313/313 [==============================] - 1s 4ms/step - loss: 0.3917 - accuracy: 0.8626 - val_loss: 2.7708 - val_accuracy: 0.4796\n",
            "Epoch 35/40\n",
            "313/313 [==============================] - 1s 4ms/step - loss: 0.3798 - accuracy: 0.8661 - val_loss: 2.8207 - val_accuracy: 0.4867\n",
            "Epoch 36/40\n",
            "313/313 [==============================] - 1s 4ms/step - loss: 0.3628 - accuracy: 0.8723 - val_loss: 2.8891 - val_accuracy: 0.4764\n",
            "Epoch 37/40\n",
            "313/313 [==============================] - 1s 5ms/step - loss: 0.3723 - accuracy: 0.8700 - val_loss: 2.9996 - val_accuracy: 0.4754\n",
            "Epoch 38/40\n",
            "313/313 [==============================] - 2s 5ms/step - loss: 0.3397 - accuracy: 0.8828 - val_loss: 3.0247 - val_accuracy: 0.4807\n",
            "Epoch 39/40\n",
            "313/313 [==============================] - 2s 6ms/step - loss: 0.3377 - accuracy: 0.8821 - val_loss: 3.1310 - val_accuracy: 0.4689\n",
            "Epoch 40/40\n",
            "313/313 [==============================] - 1s 4ms/step - loss: 0.3322 - accuracy: 0.8850 - val_loss: 3.1759 - val_accuracy: 0.4721\n"
          ]
        }
      ]
    },
    {
      "cell_type": "markdown",
      "source": [
        "After the modification, we can see that the validation accuracy is slightly on the higher end."
      ],
      "metadata": {
        "id": "xn6_RGi1MXYr"
      }
    },
    {
      "cell_type": "markdown",
      "source": [
        "# 2.3. Exercise\n",
        "Based on the modifications above, and by any further modifications (e.g. more layers, less layers, more neurons/layer, etc.) to the model design, find a combination that is able to achieve **validation accuracy, that is higher than 53%**.\n"
      ],
      "metadata": {
        "id": "j1tGVPdD-pp3"
      }
    },
    {
      "cell_type": "code",
      "source": [
        "es = EarlyStopping(monitor='val_accuracy', patience=5, restore_best_weights=True)"
      ],
      "metadata": {
        "id": "5dBQxJHIHrbd"
      },
      "execution_count": 31,
      "outputs": []
    },
    {
      "cell_type": "code",
      "source": [
        "from tensorflow.keras.layers import BatchNormalization\n",
        "\n",
        "# model definition\n",
        "model = Sequential([\n",
        "    Dense(512, activation='relu', kernel_initializer=HeNormal(), input_shape=(flattened_dim,)),\n",
        "    BatchNormalization(),\n",
        "    Dropout(0.25),\n",
        "    Dense(256, activation='relu', kernel_initializer=HeNormal()),\n",
        "    BatchNormalization(),\n",
        "    Dropout(0.25),\n",
        "    Dense(128, activation='relu', kernel_initializer=HeNormal()),\n",
        "    BatchNormalization(),\n",
        "    Dropout(0.25),\n",
        "    Dense(64, activation='relu', kernel_initializer=HeNormal()),\n",
        "    BatchNormalization(),\n",
        "    Dropout(0.25),\n",
        "    Dense(32, activation='relu', kernel_initializer=HeNormal()),\n",
        "    BatchNormalization(),\n",
        "    Dropout(0.25),\n",
        "    Dense(nb_classes, activation='softmax')\n",
        "])\n",
        "\n",
        "# loss function and optimizer\n",
        "model.compile(loss='categorical_crossentropy', optimizer = 'adam', metrics=['accuracy'])\n"
      ],
      "metadata": {
        "id": "PuxHOqLt-3Nd"
      },
      "execution_count": 32,
      "outputs": []
    },
    {
      "cell_type": "code",
      "source": [
        "# training\n",
        "network_history = model.fit(X_train, Y_train, validation_data=(X_valid, Y_valid),\n",
        "                            batch_size=128, epochs=100, verbose=1, callbacks=[es])"
      ],
      "metadata": {
        "id": "u8tFNCNVHyt9",
        "colab": {
          "base_uri": "https://localhost:8080/"
        },
        "outputId": "e3445039-0b2c-4104-8093-c4a3bcd31e45"
      },
      "execution_count": 33,
      "outputs": [
        {
          "output_type": "stream",
          "name": "stdout",
          "text": [
            "Epoch 1/100\n",
            "313/313 [==============================] - 8s 13ms/step - loss: 2.1273 - accuracy: 0.2558 - val_loss: 1.7429 - val_accuracy: 0.3777\n",
            "Epoch 2/100\n",
            "313/313 [==============================] - 3s 10ms/step - loss: 1.7871 - accuracy: 0.3557 - val_loss: 1.5996 - val_accuracy: 0.4278\n",
            "Epoch 3/100\n",
            "313/313 [==============================] - 3s 9ms/step - loss: 1.6710 - accuracy: 0.4039 - val_loss: 1.5331 - val_accuracy: 0.4537\n",
            "Epoch 4/100\n",
            "313/313 [==============================] - 3s 9ms/step - loss: 1.5987 - accuracy: 0.4320 - val_loss: 1.5020 - val_accuracy: 0.4636\n",
            "Epoch 5/100\n",
            "313/313 [==============================] - 4s 11ms/step - loss: 1.5398 - accuracy: 0.4549 - val_loss: 1.4601 - val_accuracy: 0.4822\n",
            "Epoch 6/100\n",
            "313/313 [==============================] - 3s 9ms/step - loss: 1.4969 - accuracy: 0.4750 - val_loss: 1.4267 - val_accuracy: 0.4969\n",
            "Epoch 7/100\n",
            "313/313 [==============================] - 3s 9ms/step - loss: 1.4618 - accuracy: 0.4856 - val_loss: 1.4134 - val_accuracy: 0.4978\n",
            "Epoch 8/100\n",
            "313/313 [==============================] - 3s 10ms/step - loss: 1.4260 - accuracy: 0.4995 - val_loss: 1.3735 - val_accuracy: 0.5137\n",
            "Epoch 9/100\n",
            "313/313 [==============================] - 4s 12ms/step - loss: 1.3933 - accuracy: 0.5131 - val_loss: 1.3646 - val_accuracy: 0.5193\n",
            "Epoch 10/100\n",
            "313/313 [==============================] - 3s 10ms/step - loss: 1.3703 - accuracy: 0.5239 - val_loss: 1.3577 - val_accuracy: 0.5277\n",
            "Epoch 11/100\n",
            "313/313 [==============================] - 3s 10ms/step - loss: 1.3423 - accuracy: 0.5327 - val_loss: 1.3533 - val_accuracy: 0.5297\n",
            "Epoch 12/100\n",
            "313/313 [==============================] - 3s 9ms/step - loss: 1.3137 - accuracy: 0.5437 - val_loss: 1.3499 - val_accuracy: 0.5294\n",
            "Epoch 13/100\n",
            "313/313 [==============================] - 4s 11ms/step - loss: 1.2947 - accuracy: 0.5523 - val_loss: 1.3291 - val_accuracy: 0.5342\n",
            "Epoch 14/100\n",
            "313/313 [==============================] - 3s 9ms/step - loss: 1.2771 - accuracy: 0.5578 - val_loss: 1.3302 - val_accuracy: 0.5326\n",
            "Epoch 15/100\n",
            "313/313 [==============================] - 3s 9ms/step - loss: 1.2546 - accuracy: 0.5668 - val_loss: 1.3103 - val_accuracy: 0.5420\n",
            "Epoch 16/100\n",
            "313/313 [==============================] - 3s 9ms/step - loss: 1.2346 - accuracy: 0.5703 - val_loss: 1.3137 - val_accuracy: 0.5410\n",
            "Epoch 17/100\n",
            "313/313 [==============================] - 4s 11ms/step - loss: 1.2117 - accuracy: 0.5820 - val_loss: 1.3017 - val_accuracy: 0.5498\n",
            "Epoch 18/100\n",
            "313/313 [==============================] - 3s 9ms/step - loss: 1.1939 - accuracy: 0.5853 - val_loss: 1.3193 - val_accuracy: 0.5390\n",
            "Epoch 19/100\n",
            "313/313 [==============================] - 3s 9ms/step - loss: 1.1818 - accuracy: 0.5947 - val_loss: 1.2946 - val_accuracy: 0.5557\n",
            "Epoch 20/100\n",
            "313/313 [==============================] - 3s 9ms/step - loss: 1.1531 - accuracy: 0.6034 - val_loss: 1.3070 - val_accuracy: 0.5482\n",
            "Epoch 21/100\n",
            "313/313 [==============================] - 4s 12ms/step - loss: 1.1436 - accuracy: 0.6065 - val_loss: 1.2842 - val_accuracy: 0.5563\n",
            "Epoch 22/100\n",
            "313/313 [==============================] - 3s 9ms/step - loss: 1.1211 - accuracy: 0.6162 - val_loss: 1.2827 - val_accuracy: 0.5557\n",
            "Epoch 23/100\n",
            "313/313 [==============================] - 3s 10ms/step - loss: 1.1069 - accuracy: 0.6221 - val_loss: 1.2885 - val_accuracy: 0.5580\n",
            "Epoch 24/100\n",
            "313/313 [==============================] - 3s 9ms/step - loss: 1.0906 - accuracy: 0.6284 - val_loss: 1.2840 - val_accuracy: 0.5602\n",
            "Epoch 25/100\n",
            "313/313 [==============================] - 4s 11ms/step - loss: 1.0766 - accuracy: 0.6301 - val_loss: 1.3037 - val_accuracy: 0.5567\n",
            "Epoch 26/100\n",
            "313/313 [==============================] - 3s 9ms/step - loss: 1.0626 - accuracy: 0.6353 - val_loss: 1.2888 - val_accuracy: 0.5622\n",
            "Epoch 27/100\n",
            "313/313 [==============================] - 3s 9ms/step - loss: 1.0490 - accuracy: 0.6416 - val_loss: 1.2921 - val_accuracy: 0.5612\n",
            "Epoch 28/100\n",
            "313/313 [==============================] - 3s 9ms/step - loss: 1.0284 - accuracy: 0.6532 - val_loss: 1.2855 - val_accuracy: 0.5639\n",
            "Epoch 29/100\n",
            "313/313 [==============================] - 3s 11ms/step - loss: 1.0170 - accuracy: 0.6526 - val_loss: 1.2928 - val_accuracy: 0.5637\n",
            "Epoch 30/100\n",
            "313/313 [==============================] - 3s 9ms/step - loss: 1.0045 - accuracy: 0.6576 - val_loss: 1.2887 - val_accuracy: 0.5609\n",
            "Epoch 31/100\n",
            "313/313 [==============================] - 3s 9ms/step - loss: 0.9918 - accuracy: 0.6636 - val_loss: 1.3044 - val_accuracy: 0.5633\n",
            "Epoch 32/100\n",
            "313/313 [==============================] - 3s 10ms/step - loss: 0.9738 - accuracy: 0.6703 - val_loss: 1.2978 - val_accuracy: 0.5647\n",
            "Epoch 33/100\n",
            "313/313 [==============================] - 4s 11ms/step - loss: 0.9639 - accuracy: 0.6734 - val_loss: 1.3084 - val_accuracy: 0.5667\n",
            "Epoch 34/100\n",
            "313/313 [==============================] - 3s 9ms/step - loss: 0.9562 - accuracy: 0.6781 - val_loss: 1.3094 - val_accuracy: 0.5616\n",
            "Epoch 35/100\n",
            "313/313 [==============================] - 3s 9ms/step - loss: 0.9369 - accuracy: 0.6827 - val_loss: 1.3186 - val_accuracy: 0.5644\n",
            "Epoch 36/100\n",
            "313/313 [==============================] - 3s 10ms/step - loss: 0.9340 - accuracy: 0.6852 - val_loss: 1.3047 - val_accuracy: 0.5658\n",
            "Epoch 37/100\n",
            "313/313 [==============================] - 3s 11ms/step - loss: 0.9196 - accuracy: 0.6876 - val_loss: 1.3093 - val_accuracy: 0.5708\n",
            "Epoch 38/100\n",
            "313/313 [==============================] - 3s 9ms/step - loss: 0.9102 - accuracy: 0.6936 - val_loss: 1.3143 - val_accuracy: 0.5692\n",
            "Epoch 39/100\n",
            "313/313 [==============================] - 3s 9ms/step - loss: 0.9009 - accuracy: 0.6962 - val_loss: 1.3176 - val_accuracy: 0.5684\n",
            "Epoch 40/100\n",
            "313/313 [==============================] - 3s 10ms/step - loss: 0.8762 - accuracy: 0.7041 - val_loss: 1.3118 - val_accuracy: 0.5724\n",
            "Epoch 41/100\n",
            "313/313 [==============================] - 3s 10ms/step - loss: 0.8706 - accuracy: 0.7061 - val_loss: 1.3195 - val_accuracy: 0.5744\n",
            "Epoch 42/100\n",
            "313/313 [==============================] - 3s 9ms/step - loss: 0.8602 - accuracy: 0.7101 - val_loss: 1.3215 - val_accuracy: 0.5709\n",
            "Epoch 43/100\n",
            "313/313 [==============================] - 3s 9ms/step - loss: 0.8499 - accuracy: 0.7120 - val_loss: 1.3319 - val_accuracy: 0.5691\n",
            "Epoch 44/100\n",
            "313/313 [==============================] - 3s 10ms/step - loss: 0.8438 - accuracy: 0.7168 - val_loss: 1.3118 - val_accuracy: 0.5755\n",
            "Epoch 45/100\n",
            "313/313 [==============================] - 3s 10ms/step - loss: 0.8232 - accuracy: 0.7215 - val_loss: 1.3450 - val_accuracy: 0.5736\n",
            "Epoch 46/100\n",
            "313/313 [==============================] - 3s 10ms/step - loss: 0.8307 - accuracy: 0.7207 - val_loss: 1.3242 - val_accuracy: 0.5719\n",
            "Epoch 47/100\n",
            "313/313 [==============================] - 3s 9ms/step - loss: 0.8109 - accuracy: 0.7272 - val_loss: 1.3341 - val_accuracy: 0.5736\n",
            "Epoch 48/100\n",
            "313/313 [==============================] - 3s 10ms/step - loss: 0.8054 - accuracy: 0.7299 - val_loss: 1.3304 - val_accuracy: 0.5742\n",
            "Epoch 49/100\n",
            "313/313 [==============================] - 3s 10ms/step - loss: 0.7899 - accuracy: 0.7347 - val_loss: 1.3359 - val_accuracy: 0.5728\n"
          ]
        }
      ]
    },
    {
      "cell_type": "markdown",
      "source": [
        "# 3. Evaluation on test data and inference\n",
        "At this point, we will perform a basic evaluation and inference. With the model.evaluate function, the same metrics are calculated, that were used during training:"
      ],
      "metadata": {
        "id": "2FtKp-a2-A9m"
      }
    },
    {
      "cell_type": "code",
      "source": [
        "print(model.evaluate(X_test, Y_test))"
      ],
      "metadata": {
        "id": "I3_9wgDREUna",
        "colab": {
          "base_uri": "https://localhost:8080/"
        },
        "outputId": "9ea61ec8-ea8c-414f-a78f-f01d8857ae11"
      },
      "execution_count": 34,
      "outputs": [
        {
          "output_type": "stream",
          "name": "stdout",
          "text": [
            "313/313 [==============================] - 1s 3ms/step - loss: 1.3193 - accuracy: 0.5702\n",
            "[1.3192588090896606, 0.5702000260353088]\n"
          ]
        }
      ]
    },
    {
      "cell_type": "markdown",
      "source": [
        "we would like to see similar values, as in the validation set. If those are close to each other, then the generalization ability of the model is good (in case of an independent test-set)."
      ],
      "metadata": {
        "id": "ECHguBFtGL7f"
      }
    },
    {
      "cell_type": "markdown",
      "source": [
        "## 3.1. Exercise\n",
        "Predict the class of the first 10 elements in the test set, and compare the predicted values with the actual, target values in the test set. Hints:\n",
        "* you can use [model.predict](https://www.activestate.com/resources/quick-reads/how-to-use-a-model-to-do-predictions-with-keras/) for prediction\n",
        "* from the output you can select the largest value with the [argmax() function of Numpy](https://stackoverflow.com/questions/62358642/convert-one-hot-encoding-back-to-number-label). As there are multiple values, you have to call it with axis=1 parameter.\n",
        "* it is enought to compare the predictions and the targets by printing the values out and inspecting them."
      ],
      "metadata": {
        "id": "0Io4zYJeHjz6"
      }
    },
    {
      "cell_type": "code",
      "source": [
        "preds = model.predict(X_test[:10])\n",
        "preds_dense = np.argmax(preds, axis=1)"
      ],
      "metadata": {
        "id": "XEEyU7exILqF",
        "colab": {
          "base_uri": "https://localhost:8080/"
        },
        "outputId": "a93e1556-cf80-41fe-a253-3512d5344c92"
      },
      "execution_count": 35,
      "outputs": [
        {
          "output_type": "stream",
          "name": "stdout",
          "text": [
            "1/1 [==============================] - 0s 184ms/step\n"
          ]
        }
      ]
    },
    {
      "cell_type": "markdown",
      "source": [
        "Before comparision, you have to convert back the one-hot encoded target values the same way, as you converted the output of the neural network to class values with argmax() function."
      ],
      "metadata": {
        "id": "seZTEFI-I5cZ"
      }
    },
    {
      "cell_type": "code",
      "source": [
        "print(\"Target labels:   \", np.argmax(Y_test[:10],axis=1))\n",
        "print(\"Predicted labels:\", preds_dense)"
      ],
      "metadata": {
        "id": "PHLvoMuIIkJ6",
        "colab": {
          "base_uri": "https://localhost:8080/"
        },
        "outputId": "b6ee9ead-1179-43fc-d9c8-51fd43a7c648"
      },
      "execution_count": 37,
      "outputs": [
        {
          "output_type": "stream",
          "name": "stdout",
          "text": [
            "Target labels:    [3 8 8 0 6 6 1 6 3 1]\n",
            "Predicted labels: [3 8 0 8 4 6 1 6 3 1]\n"
          ]
        }
      ]
    },
    {
      "cell_type": "markdown",
      "source": [
        "As we can see in our output above that our model predicts the target labels of all the entries in our test set except the thried, fourth, and fifth one, where we predict the label to be 0 (but the actual label is 8), 8 (but the actual label is 0), and 4 (but the actual label is 6) respectively."
      ],
      "metadata": {
        "id": "lQRMreF5Og1D"
      }
    }
  ]
}