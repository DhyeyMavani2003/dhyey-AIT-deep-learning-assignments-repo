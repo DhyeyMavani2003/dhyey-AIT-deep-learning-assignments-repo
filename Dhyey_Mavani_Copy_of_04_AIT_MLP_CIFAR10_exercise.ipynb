{
  "nbformat": 4,
  "nbformat_minor": 0,
  "metadata": {
    "anaconda-cloud": {},
    "kernelspec": {
      "display_name": "Python 3",
      "language": "python",
      "name": "python3"
    },
    "language_info": {
      "codemirror_mode": {
        "name": "ipython",
        "version": 3
      },
      "file_extension": ".py",
      "mimetype": "text/x-python",
      "name": "python",
      "nbconvert_exporter": "python",
      "pygments_lexer": "ipython3",
      "version": "3.6.6"
    },
    "colab": {
      "provenance": [],
      "include_colab_link": true
    },
    "accelerator": "GPU"
  },
  "cells": [
    {
      "cell_type": "markdown",
      "metadata": {
        "id": "view-in-github",
        "colab_type": "text"
      },
      "source": [
        "<a href=\"https://colab.research.google.com/github/DhyeyMavani2003/dhyey-AIT-deep-learning-assignments-repo/blob/main/Dhyey_Mavani_Copy_of_04_AIT_MLP_CIFAR10_exercise.ipynb\" target=\"_parent\"><img src=\"https://colab.research.google.com/assets/colab-badge.svg\" alt=\"Open In Colab\"/></a>"
      ]
    },
    {
      "cell_type": "markdown",
      "metadata": {
        "id": "cW-EyI5Lxpqi"
      },
      "source": [
        "# Copyright\n",
        "\n",
        "<PRE>\n",
        "Copyright (c) 2024 Bálint Gyires-Tóth - All Rights Reserved\n",
        "You may use and modify this code for research and development purpuses.\n",
        "Using this code for educational purposes (self-paced or instructor led) without the permission of the author is prohibited.\n",
        "</PRE>"
      ]
    },
    {
      "cell_type": "markdown",
      "source": [
        "# Example of data exploration, modeling, regulartion and prediction\n",
        "Our exercise today involves loading a standard dataset using TensorFlow Keras API, exploring the data, building a simple neural network, and evaluating the effects of basic methods (activation functions, regularization, weight initialization, etc.). We then perform predictions on the test set and inspect the results."
      ],
      "metadata": {
        "id": "3EX4cCa4WKJu"
      }
    },
    {
      "cell_type": "markdown",
      "source": [
        "# 1. Data\n",
        "The dataset we will use is the well-known CIFAR10 (Canadian Institute For Advanced Research). Explore the details on the Keras website first: https://keras.io/api/datasets/cifar10/\n",
        "\n",
        "After you explored the basic features of the data, let's load it into the memory and explore the shapes:"
      ],
      "metadata": {
        "id": "yY9fztIeWIKt"
      }
    },
    {
      "cell_type": "code",
      "source": [
        "from tensorflow.keras.datasets import cifar10\n",
        "from tensorflow.keras.utils import to_categorical\n",
        "import numpy as np"
      ],
      "metadata": {
        "id": "giRZKTjzX_7l"
      },
      "execution_count": 1,
      "outputs": []
    },
    {
      "cell_type": "code",
      "source": [
        "(X_train, Y_train), (X_test, Y_test) = cifar10.load_data()"
      ],
      "metadata": {
        "id": "bez7q0eiWQCK",
        "colab": {
          "base_uri": "https://localhost:8080/"
        },
        "outputId": "5c8fd944-a681-4272-fbde-e2e9234f337c"
      },
      "execution_count": 2,
      "outputs": [
        {
          "output_type": "stream",
          "name": "stdout",
          "text": [
            "Downloading data from https://www.cs.toronto.edu/~kriz/cifar-10-python.tar.gz\n",
            "170498071/170498071 [==============================] - 5s 0us/step\n"
          ]
        }
      ]
    },
    {
      "cell_type": "code",
      "source": [
        "print(X_train.shape)\n",
        "print(X_test.shape)\n",
        "print(Y_train.shape)\n",
        "print(Y_test.shape)"
      ],
      "metadata": {
        "id": "2tJoRq5wXywi",
        "colab": {
          "base_uri": "https://localhost:8080/"
        },
        "outputId": "0e3526de-977e-4851-ab9a-e4ae2d374fe0"
      },
      "execution_count": 3,
      "outputs": [
        {
          "output_type": "stream",
          "name": "stdout",
          "text": [
            "(50000, 32, 32, 3)\n",
            "(10000, 32, 32, 3)\n",
            "(50000, 1)\n",
            "(10000, 1)\n"
          ]
        }
      ]
    },
    {
      "cell_type": "markdown",
      "source": [
        "## 1.1. Exercise\n",
        "Display the first ten images of the training data. Hints:\n",
        "* Axis 0 refers to the separate images, e.g. X_train[0]\n",
        "* You can use the [Matplotlib Pyplot imshow function](https://matplotlib.org/stable/api/_as_gen/matplotlib.pyplot.imshow.html) for displaying the image. Just don't forget to import Plotly first!\n",
        "* A corresponding example, but you have to modify the code for your purpose: https://stackoverflow.com/questions/46615554/how-to-display-multiple-images-in-one-figure-correctly"
      ],
      "metadata": {
        "id": "zTCSGFyDlNvf"
      }
    },
    {
      "cell_type": "code",
      "source": [
        "import matplotlib.pyplot as plt\n",
        "\n",
        "fig = plt.figure(figsize=(8, 8))\n",
        "columns = 5\n",
        "rows = 2\n",
        "for i in range(1, columns*rows +1):\n",
        "    img = X_train[i]\n",
        "    fig.add_subplot(rows, columns, i)\n",
        "    plt.imshow(img)\n",
        "plt.show()"
      ],
      "metadata": {
        "id": "hIQhHTppmBdO",
        "colab": {
          "base_uri": "https://localhost:8080/",
          "height": 507
        },
        "outputId": "54a264e1-903d-4d67-8d5a-e55a97da0a8d"
      },
      "execution_count": 4,
      "outputs": [
        {
          "output_type": "display_data",
          "data": {
            "text/plain": [
              "<Figure size 800x800 with 10 Axes>"
            ],
            "image/png": "[encoded data removed]"
          },
          "metadata": {}
        }
      ]
    },
    {
      "cell_type": "markdown",
      "source": [
        "Print the corresponding labels of the displayed images from the target variable (Y_train):"
      ],
      "metadata": {
        "id": "FAQkUWlmm-bc"
      }
    },
    {
      "cell_type": "code",
      "source": [
        "print(Y_train[0:10])"
      ],
      "metadata": {
        "id": "AkOrWzghnJ78",
        "colab": {
          "base_uri": "https://localhost:8080/"
        },
        "outputId": "cec93eda-3086-43fc-fcda-f17e6292a2e2"
      },
      "execution_count": 6,
      "outputs": [
        {
          "output_type": "stream",
          "name": "stdout",
          "text": [
            "[[6]\n",
            " [9]\n",
            " [9]\n",
            " [4]\n",
            " [1]\n",
            " [1]\n",
            " [2]\n",
            " [7]\n",
            " [8]\n",
            " [3]]\n"
          ]
        }
      ]
    },
    {
      "cell_type": "markdown",
      "source": [
        "## 1.2. Exercise\n",
        "We will train a Multi-Layer Perceptron (MLP), which requires a 2 dimensional input: 0th axis refers to the datapoints (i.e. images), the 1th dimens to the input. As images are 3 dimensional (width, height, color channels), you have to reshape the images into vectors. We also call this flattening.\n",
        "\n",
        "In order to do so, calculate the size of the equivalent 1D vector of the image:"
      ],
      "metadata": {
        "id": "VX24g5FstsRU"
      }
    },
    {
      "cell_type": "code",
      "source": [
        "flattened_dim = 32 * 32 * 3"
      ],
      "metadata": {
        "id": "hdoMyxHzuXZG"
      },
      "execution_count": 7,
      "outputs": []
    },
    {
      "cell_type": "markdown",
      "source": [
        "After you calculated it, we can reshape the images, and covert the integer arrays into float arrays -- which are needed for the neural networks as input. Hint:\n",
        "* in the [reshape() function of Numpy](https://www.w3schools.com/python/numpy/numpy_array_reshape.asp) you can use -1 for one axis, to automatically calculate that value."
      ],
      "metadata": {
        "id": "WbqXJUSFubeC"
      }
    },
    {
      "cell_type": "code",
      "source": [
        "# reshape 3D tensors to 2D tensors\n",
        "X_train = X_train.reshape(-1, flattened_dim)\n",
        "X_test = X_test.reshape(-1, flattened_dim)\n",
        "\n",
        "# it is in int8 format, the neural network requires float32\n",
        "X_train = X_train.astype(\"float32\")\n",
        "X_test = X_test.astype(\"float32\")"
      ],
      "metadata": {
        "id": "vukOcBM0XzSj"
      },
      "execution_count": 8,
      "outputs": []
    },
    {
      "cell_type": "markdown",
      "source": [
        "## 1.3. Exercise\n",
        "As the next step, let's split the training data into training and validation data. 80% of the original training data should be the final training data, and 20% the validation.\n",
        "You should use Numpy indexing to select the first 80% of X_train as final X_train, and the last 20% as X_valid. Hints:\n",
        "* https://datascienceparichay.com/article/numpy-array-first-n-rows/\n",
        "* https://datascienceparichay.com/article/numpy-array-last-n-rows/"
      ],
      "metadata": {
        "id": "DO79AdIdvVfD"
      }
    },
    {
      "cell_type": "code",
      "source": [
        "train_ratio  = 0.8\n",
        "train_length = len(X_train) # length of the training data\n",
        "train_split = int(train_length * train_ratio) # where to split the training and validation data\n",
        "X_valid, Y_valid = X_train[train_split:], Y_train[train_split:]\n",
        "X_train, Y_train = X_train[:train_split], Y_train[:train_split]"
      ],
      "metadata": {
        "id": "mRwuWxxIxLgN"
      },
      "execution_count": 9,
      "outputs": []
    },
    {
      "cell_type": "markdown",
      "source": [
        "## 1.4. Exercise\n",
        "As the last step of input data preparation, the data should be standardized. Calculate the mean and variance of the training data (elementvise -- so for each value of the flattened image you should get a mean and variance for the training data along 0th axis). Hint:\n",
        "* https://stackoverflow.com/questions/70626231/how-to-calculate-mean-variance-standard-deviation-per-index-of-array"
      ],
      "metadata": {
        "id": "z05y_QWDxWER"
      }
    },
    {
      "cell_type": "code",
      "source": [
        "mean = X_train.mean(axis=0)\n",
        "std = X_train.std(axis=0)"
      ],
      "metadata": {
        "id": "TSZbvWCBx8Ea"
      },
      "execution_count": 10,
      "outputs": []
    },
    {
      "cell_type": "markdown",
      "source": [
        "Next, use the resulting values to standardize the training, validation and test data by substracting the mean and dividing the result with the standard deviation."
      ],
      "metadata": {
        "id": "6WRHKkkjyN1S"
      }
    },
    {
      "cell_type": "code",
      "source": [
        "X_train = (X_train - mean) / std\n",
        "X_valid = (X_valid - mean) / std\n",
        "X_test = (X_test - mean) / std"
      ],
      "metadata": {
        "id": "2ESLP1EIyB2J"
      },
      "execution_count": 11,
      "outputs": []
    },
    {
      "cell_type": "markdown",
      "source": [
        "## 1.5. Exercise\n",
        "And as the last step, convert the dense representation of the classes (i.e. 0,1,2,3...9) to one-hot encoding (0 = [1 0 0 0 0 0 0 0 0 0], 1 = [0 1 0 0 0 0 0 0 0 0] ... 9 = [0 0 0 0 0 0 0 0 0 1]). To do this, first, calculate the number of unique elements in the target training data. Hints:\n",
        "* use the [unique() function](https://numpy.org/doc/stable/reference/generated/numpy.unique.html) of Numpy to list the unique elements\n",
        "* you can count the number of elements in a list with the [len() function](https://www.w3schools.com/python/ref_func_len.asp)"
      ],
      "metadata": {
        "id": "ooHCnUin7r4o"
      }
    },
    {
      "cell_type": "code",
      "source": [
        "nb_classes = len(np.unique(Y_train))"
      ],
      "metadata": {
        "id": "i0LAO9cs8KEE"
      },
      "execution_count": 12,
      "outputs": []
    },
    {
      "cell_type": "markdown",
      "source": [
        "Doublecheck, if the same number of classes exists in the validation and test target data:"
      ],
      "metadata": {
        "id": "BvM6XhGe8JU9"
      }
    },
    {
      "cell_type": "code",
      "source": [
        "print(\"Validation data has the same number of classes, as the training data:\", nb_classes == len(np.unique(Y_valid)))\n",
        "print(\"Test data has the same number of classes, as the training data:\", nb_classes == len(np.unique(Y_test)))"
      ],
      "metadata": {
        "id": "eZFNSsyx_Py2",
        "colab": {
          "base_uri": "https://localhost:8080/"
        },
        "outputId": "bedbd293-018b-46d4-cda7-89c487ea30ff"
      },
      "execution_count": 13,
      "outputs": [
        {
          "output_type": "stream",
          "name": "stdout",
          "text": [
            "Validation data has the same number of classes, as the training data: True\n",
            "Test data has the same number of classes, as the training data: True\n"
          ]
        }
      ]
    },
    {
      "cell_type": "markdown",
      "source": [
        "And convert the dense representation into one-hot encoding. Hint:\n",
        "* use the [to_categorical function](https://www.tensorflow.org/api_docs/python/tf/keras/utils/to_categorical) with the calculated nb_classes\n"
      ],
      "metadata": {
        "id": "mJM-iBmR8dLe"
      }
    },
    {
      "cell_type": "code",
      "source": [
        "Y_train = to_categorical(Y_train, nb_classes)\n",
        "Y_valid = to_categorical(Y_valid, nb_classes)\n",
        "Y_test = to_categorical(Y_test, nb_classes)"
      ],
      "metadata": {
        "id": "xwZ4OJ6I8lba"
      },
      "execution_count": 14,
      "outputs": []
    },
    {
      "cell_type": "markdown",
      "source": [
        "## Final check of data preparation\n",
        "Now, lets check the shapes and mean and standard deviation of the training, validation and test data."
      ],
      "metadata": {
        "id": "LshN2OSsv3TZ"
      }
    },
    {
      "cell_type": "code",
      "source": [
        "print(\"Shapes of the training, validation and test input data:\", X_train.shape, X_valid.shape, X_test.shape)\n",
        "print(\"Shapes of the training, validation and test output data:\", Y_train.shape, Y_valid.shape, Y_test.shape)\n",
        "print(\"Mean values of the training, validation and test input data:\", X_train.mean(), X_valid.mean(), X_test.mean())\n",
        "print(\"Standard deviation of the training, validation and test input data:\", X_train.std(), X_valid.std(), X_test.std())"
      ],
      "metadata": {
        "id": "O_jdJVcvX0vi",
        "colab": {
          "base_uri": "https://localhost:8080/"
        },
        "outputId": "57ea7d63-50b5-407c-8211-a50f9dc1d02a"
      },
      "execution_count": 15,
      "outputs": [
        {
          "output_type": "stream",
          "name": "stdout",
          "text": [
            "Shapes of the training, validation and test input data: (40000, 3072) (10000, 3072) (10000, 3072)\n",
            "Shapes of the training, validation and test output data: (40000, 10) (10000, 10) (10000, 10)\n",
            "Mean values of the training, validation and test input data: -2.4725992e-09 0.0023437182 0.013331188\n",
            "Standard deviation of the training, validation and test input data: 1.0000038 0.99656224 0.9978297\n"
          ]
        }
      ]
    },
    {
      "cell_type": "markdown",
      "source": [
        "Don't worry, if the mean and standard deviation of the validation and test data are not exactly 0 and 1, but these might be very mear to it (e.g. 0.01 mean, 0.99 variance)."
      ],
      "metadata": {
        "id": "5GtAOOoezmZY"
      }
    },
    {
      "cell_type": "markdown",
      "metadata": {
        "id": "cJ14oyZExpqj"
      },
      "source": [
        "# 2. Training"
      ]
    },
    {
      "cell_type": "markdown",
      "metadata": {
        "id": "s4ZXYRMBxpql"
      },
      "source": [
        "Let us begin with a simple example of creating a small neural network without regularization and training it with actual data. The purpose of this is to provide you with an example as to how to proceed with the next exercise."
      ]
    },
    {
      "cell_type": "code",
      "source": [
        "# imports\n",
        "import numpy as np\n",
        "import matplotlib.pyplot as plt\n",
        "from tensorflow.keras.models import Sequential\n",
        "from tensorflow.keras.layers import Dense, Embedding, Flatten, Dropout\n",
        "from tensorflow.keras.initializers import HeNormal\n",
        "from tensorflow.keras.callbacks import EarlyStopping"
      ],
      "metadata": {
        "id": "6-8Q6ll7ZDgq"
      },
      "execution_count": 16,
      "outputs": []
    },
    {
      "cell_type": "code",
      "source": [
        "# model definition\n",
        "model = Sequential()\n",
        "model.add(Dense(128, activation='tanh', input_shape=(flattened_dim,)))\n",
        "model.add(Dense(128, activation='tanh'))\n",
        "model.add(Dense(nb_classes, activation='softmax'))\n",
        "\n",
        "# loss function and optimizer\n",
        "model.compile(loss='categorical_crossentropy', optimizer='adam', metrics=['accuracy'])"
      ],
      "metadata": {
        "id": "pke6w3CD8DHp"
      },
      "execution_count": 17,
      "outputs": []
    },
    {
      "cell_type": "code",
      "metadata": {
        "id": "CZbOR76QxprC",
        "colab": {
          "base_uri": "https://localhost:8080/"
        },
        "outputId": "4649d9fe-0e29-4764-adc6-f80914a0aad6"
      },
      "source": [
        "# training\n",
        "network_history = model.fit(X_train, Y_train,\n",
        "                            validation_data=(X_valid,Y_valid),\n",
        "                            batch_size=128,\n",
        "                            epochs=40,\n",
        "                            verbose=1)"
      ],
      "execution_count": 18,
      "outputs": [
        {
          "output_type": "stream",
          "name": "stdout",
          "text": [
            "Epoch 1/40\n",
            "313/313 [==============================] - 5s 7ms/step - loss: 1.8180 - accuracy: 0.3643 - val_loss: 1.7860 - val_accuracy: 0.3787\n",
            "Epoch 2/40\n",
            "313/313 [==============================] - 1s 4ms/step - loss: 1.6916 - accuracy: 0.4093 - val_loss: 1.7189 - val_accuracy: 0.4034\n",
            "Epoch 3/40\n",
            "313/313 [==============================] - 1s 4ms/step - loss: 1.6363 - accuracy: 0.4326 - val_loss: 1.7144 - val_accuracy: 0.4001\n",
            "Epoch 4/40\n",
            "313/313 [==============================] - 1s 4ms/step - loss: 1.5977 - accuracy: 0.4474 - val_loss: 1.6816 - val_accuracy: 0.4213\n",
            "Epoch 5/40\n",
            "313/313 [==============================] - 1s 5ms/step - loss: 1.5624 - accuracy: 0.4600 - val_loss: 1.6736 - val_accuracy: 0.4191\n",
            "Epoch 6/40\n",
            "313/313 [==============================] - 1s 4ms/step - loss: 1.5322 - accuracy: 0.4720 - val_loss: 1.6714 - val_accuracy: 0.4232\n",
            "Epoch 7/40\n",
            "313/313 [==============================] - 2s 5ms/step - loss: 1.5055 - accuracy: 0.4798 - val_loss: 1.6561 - val_accuracy: 0.4314\n",
            "Epoch 8/40\n",
            "313/313 [==============================] - 2s 5ms/step - loss: 1.4774 - accuracy: 0.4892 - val_loss: 1.6453 - val_accuracy: 0.4348\n",
            "Epoch 9/40\n",
            "313/313 [==============================] - 1s 5ms/step - loss: 1.4525 - accuracy: 0.4982 - val_loss: 1.6283 - val_accuracy: 0.4409\n",
            "Epoch 10/40\n",
            "313/313 [==============================] - 1s 4ms/step - loss: 1.4274 - accuracy: 0.5042 - val_loss: 1.6301 - val_accuracy: 0.4371\n",
            "Epoch 11/40\n",
            "313/313 [==============================] - 1s 4ms/step - loss: 1.3947 - accuracy: 0.5155 - val_loss: 1.6315 - val_accuracy: 0.4432\n",
            "Epoch 12/40\n",
            "313/313 [==============================] - 1s 4ms/step - loss: 1.3804 - accuracy: 0.5220 - val_loss: 1.6163 - val_accuracy: 0.4513\n",
            "Epoch 13/40\n",
            "313/313 [==============================] - 1s 4ms/step - loss: 1.3541 - accuracy: 0.5299 - val_loss: 1.6298 - val_accuracy: 0.4472\n",
            "Epoch 14/40\n",
            "313/313 [==============================] - 1s 4ms/step - loss: 1.3424 - accuracy: 0.5325 - val_loss: 1.6126 - val_accuracy: 0.4454\n",
            "Epoch 15/40\n",
            "313/313 [==============================] - 1s 5ms/step - loss: 1.3210 - accuracy: 0.5403 - val_loss: 1.6268 - val_accuracy: 0.4386\n",
            "Epoch 16/40\n",
            "313/313 [==============================] - 2s 6ms/step - loss: 1.2978 - accuracy: 0.5480 - val_loss: 1.6415 - val_accuracy: 0.4419\n",
            "Epoch 17/40\n",
            "313/313 [==============================] - 2s 5ms/step - loss: 1.2842 - accuracy: 0.5536 - val_loss: 1.6272 - val_accuracy: 0.4426\n",
            "Epoch 18/40\n",
            "313/313 [==============================] - 1s 5ms/step - loss: 1.2559 - accuracy: 0.5631 - val_loss: 1.6235 - val_accuracy: 0.4562\n",
            "Epoch 19/40\n",
            "313/313 [==============================] - 1s 4ms/step - loss: 1.2402 - accuracy: 0.5681 - val_loss: 1.6221 - val_accuracy: 0.4484\n",
            "Epoch 20/40\n",
            "313/313 [==============================] - 1s 4ms/step - loss: 1.2157 - accuracy: 0.5774 - val_loss: 1.6210 - val_accuracy: 0.4519\n",
            "Epoch 21/40\n",
            "313/313 [==============================] - 1s 4ms/step - loss: 1.1951 - accuracy: 0.5861 - val_loss: 1.6399 - val_accuracy: 0.4441\n",
            "Epoch 22/40\n",
            "313/313 [==============================] - 1s 4ms/step - loss: 1.1761 - accuracy: 0.5909 - val_loss: 1.6319 - val_accuracy: 0.4548\n",
            "Epoch 23/40\n",
            "313/313 [==============================] - 1s 4ms/step - loss: 1.1628 - accuracy: 0.5961 - val_loss: 1.6437 - val_accuracy: 0.4532\n",
            "Epoch 24/40\n",
            "313/313 [==============================] - 1s 5ms/step - loss: 1.1482 - accuracy: 0.6015 - val_loss: 1.6491 - val_accuracy: 0.4563\n",
            "Epoch 25/40\n",
            "313/313 [==============================] - 2s 5ms/step - loss: 1.1377 - accuracy: 0.6027 - val_loss: 1.6471 - val_accuracy: 0.4595\n",
            "Epoch 26/40\n",
            "313/313 [==============================] - 1s 4ms/step - loss: 1.1171 - accuracy: 0.6110 - val_loss: 1.6624 - val_accuracy: 0.4530\n",
            "Epoch 27/40\n",
            "313/313 [==============================] - 1s 5ms/step - loss: 1.0925 - accuracy: 0.6216 - val_loss: 1.6632 - val_accuracy: 0.4515\n",
            "Epoch 28/40\n",
            "313/313 [==============================] - 1s 4ms/step - loss: 1.0785 - accuracy: 0.6240 - val_loss: 1.6847 - val_accuracy: 0.4502\n",
            "Epoch 29/40\n",
            "313/313 [==============================] - 1s 4ms/step - loss: 1.0555 - accuracy: 0.6346 - val_loss: 1.6802 - val_accuracy: 0.4538\n",
            "Epoch 30/40\n",
            "313/313 [==============================] - 1s 5ms/step - loss: 1.0407 - accuracy: 0.6395 - val_loss: 1.6941 - val_accuracy: 0.4539\n",
            "Epoch 31/40\n",
            "313/313 [==============================] - 1s 4ms/step - loss: 1.0295 - accuracy: 0.6429 - val_loss: 1.7023 - val_accuracy: 0.4512\n",
            "Epoch 32/40\n",
            "313/313 [==============================] - 1s 4ms/step - loss: 1.0106 - accuracy: 0.6509 - val_loss: 1.7130 - val_accuracy: 0.4543\n",
            "Epoch 33/40\n",
            "313/313 [==============================] - 2s 5ms/step - loss: 0.9995 - accuracy: 0.6567 - val_loss: 1.7204 - val_accuracy: 0.4473\n",
            "Epoch 34/40\n",
            "313/313 [==============================] - 2s 5ms/step - loss: 0.9928 - accuracy: 0.6550 - val_loss: 1.7256 - val_accuracy: 0.4466\n",
            "Epoch 35/40\n",
            "313/313 [==============================] - 1s 4ms/step - loss: 0.9656 - accuracy: 0.6674 - val_loss: 1.7292 - val_accuracy: 0.4492\n",
            "Epoch 36/40\n",
            "313/313 [==============================] - 1s 4ms/step - loss: 0.9615 - accuracy: 0.6684 - val_loss: 1.7441 - val_accuracy: 0.4546\n",
            "Epoch 37/40\n",
            "313/313 [==============================] - 1s 4ms/step - loss: 0.9368 - accuracy: 0.6795 - val_loss: 1.7627 - val_accuracy: 0.4480\n",
            "Epoch 38/40\n",
            "313/313 [==============================] - 1s 4ms/step - loss: 0.9315 - accuracy: 0.6803 - val_loss: 1.7733 - val_accuracy: 0.4489\n",
            "Epoch 39/40\n",
            "313/313 [==============================] - 1s 4ms/step - loss: 0.9083 - accuracy: 0.6880 - val_loss: 1.7758 - val_accuracy: 0.4565\n",
            "Epoch 40/40\n",
            "313/313 [==============================] - 1s 5ms/step - loss: 0.8988 - accuracy: 0.6906 - val_loss: 1.8051 - val_accuracy: 0.4452\n"
          ]
        }
      ]
    },
    {
      "cell_type": "markdown",
      "metadata": {
        "id": "uFqhzV85xprJ"
      },
      "source": [
        "Let's plot the training and validation loss and accuracy curves:"
      ]
    },
    {
      "cell_type": "code",
      "metadata": {
        "id": "BYmXGkLCxprK",
        "colab": {
          "base_uri": "https://localhost:8080/",
          "height": 881
        },
        "outputId": "7be22cbd-6c5c-45fa-aaab-d99756385519"
      },
      "source": [
        "def plot_history(network_history):\n",
        "    plt.figure()\n",
        "    plt.xlabel('Epochs')\n",
        "    plt.ylabel('Loss')\n",
        "    plt.plot(network_history.history['loss'])\n",
        "    plt.plot(network_history.history['val_loss'])\n",
        "    plt.legend(['Training', 'Validation'])\n",
        "\n",
        "    plt.figure()\n",
        "    plt.xlabel('Epochs')\n",
        "    plt.ylabel('Accuracy')\n",
        "    plt.plot(network_history.history['accuracy'])\n",
        "    plt.plot(network_history.history['val_accuracy'])\n",
        "    plt.legend(['Training', 'Validation'], loc='lower right')\n",
        "    plt.show()\n",
        "\n",
        "plot_history(network_history)"
      ],
      "execution_count": 19,
      "outputs": [
        {
          "output_type": "display_data",
          "data": {
            "text/plain": [
              "<Figure size 640x480 with 1 Axes>"
            ],
            "image/png": "[encoded data removed]"
          },
          "metadata": {}
        },
        {
          "output_type": "display_data",
          "data": {
            "text/plain": [
              "<Figure size 640x480 with 1 Axes>"
            ],
            "image/png": "[encoded data removed]"
          },
          "metadata": {}
        }
      ]
    },
    {
      "cell_type": "markdown",
      "source": [
        "What do you think? Does it overfit?\n",
        "\n",
        "I think there is overfitting because the training accuracy is significantly more than the validation accuracy especially in the later epochs."
      ],
      "metadata": {
        "id": "tgG7QeXF-dx6"
      }
    },
    {
      "cell_type": "markdown",
      "metadata": {
        "id": "_Q9rIeBBxprO"
      },
      "source": [
        "# Inspecting the model"
      ]
    },
    {
      "cell_type": "code",
      "metadata": {
        "id": "6r2AmmoMxprP",
        "colab": {
          "base_uri": "https://localhost:8080/"
        },
        "outputId": "e7094778-5d65-4b97-f9a1-8961aca1f030"
      },
      "source": [
        "model.summary()"
      ],
      "execution_count": 20,
      "outputs": [
        {
          "output_type": "stream",
          "name": "stdout",
          "text": [
            "Model: \"sequential\"\n",
            "_________________________________________________________________\n",
            " Layer (type)                Output Shape              Param #   \n",
            "=================================================================\n",
            " dense (Dense)               (None, 128)               393344    \n",
            "                                                                 \n",
            " dense_1 (Dense)             (None, 128)               16512     \n",
            "                                                                 \n",
            " dense_2 (Dense)             (None, 10)                1290      \n",
            "                                                                 \n",
            "=================================================================\n",
            "Total params: 411146 (1.57 MB)\n",
            "Trainable params: 411146 (1.57 MB)\n",
            "Non-trainable params: 0 (0.00 Byte)\n",
            "_________________________________________________________________\n"
          ]
        }
      ]
    },
    {
      "cell_type": "code",
      "metadata": {
        "id": "D3-bVDVuxprS",
        "colab": {
          "base_uri": "https://localhost:8080/"
        },
        "outputId": "9874278c-0408-4c29-ed4e-a8cb28d98f29"
      },
      "source": [
        "print('Input: ', model.input)"
      ],
      "execution_count": 21,
      "outputs": [
        {
          "output_type": "stream",
          "name": "stdout",
          "text": [
            "Input:  KerasTensor(type_spec=TensorSpec(shape=(None, 3072), dtype=tf.float32, name='dense_input'), name='dense_input', description=\"created by layer 'dense_input'\")\n"
          ]
        }
      ]
    },
    {
      "cell_type": "code",
      "metadata": {
        "id": "Da2OJ3DmxprX",
        "colab": {
          "base_uri": "https://localhost:8080/"
        },
        "outputId": "3a7d3c20-8a34-4942-8278-1f0c09f69ef2"
      },
      "source": [
        "print('Layers:\\n')\n",
        "for layer in model.layers:\n",
        "    print(\"Layer's name: \", layer.name, ', trainable: ', layer.trainable)\n",
        "    print(layer.get_config(),'\\n')"
      ],
      "execution_count": 22,
      "outputs": [
        {
          "output_type": "stream",
          "name": "stdout",
          "text": [
            "Layers:\n",
            "\n",
            "Layer's name:  dense , trainable:  True\n",
            "{'name': 'dense', 'trainable': True, 'dtype': 'float32', 'batch_input_shape': (None, 3072), 'units': 128, 'activation': 'tanh', 'use_bias': True, 'kernel_initializer': {'module': 'keras.initializers', 'class_name': 'GlorotUniform', 'config': {'seed': None}, 'registered_name': None}, 'bias_initializer': {'module': 'keras.initializers', 'class_name': 'Zeros', 'config': {}, 'registered_name': None}, 'kernel_regularizer': None, 'bias_regularizer': None, 'activity_regularizer': None, 'kernel_constraint': None, 'bias_constraint': None} \n",
            "\n",
            "Layer's name:  dense_1 , trainable:  True\n",
            "{'name': 'dense_1', 'trainable': True, 'dtype': 'float32', 'units': 128, 'activation': 'tanh', 'use_bias': True, 'kernel_initializer': {'module': 'keras.initializers', 'class_name': 'GlorotUniform', 'config': {'seed': None}, 'registered_name': None}, 'bias_initializer': {'module': 'keras.initializers', 'class_name': 'Zeros', 'config': {}, 'registered_name': None}, 'kernel_regularizer': None, 'bias_regularizer': None, 'activity_regularizer': None, 'kernel_constraint': None, 'bias_constraint': None} \n",
            "\n",
            "Layer's name:  dense_2 , trainable:  True\n",
            "{'name': 'dense_2', 'trainable': True, 'dtype': 'float32', 'units': 10, 'activation': 'softmax', 'use_bias': True, 'kernel_initializer': {'module': 'keras.initializers', 'class_name': 'GlorotUniform', 'config': {'seed': None}, 'registered_name': None}, 'bias_initializer': {'module': 'keras.initializers', 'class_name': 'Zeros', 'config': {}, 'registered_name': None}, 'kernel_regularizer': None, 'bias_regularizer': None, 'activity_regularizer': None, 'kernel_constraint': None, 'bias_constraint': None} \n",
            "\n"
          ]
        }
      ]
    },
    {
      "cell_type": "code",
      "metadata": {
        "id": "AtVX3M3lxprc",
        "colab": {
          "base_uri": "https://localhost:8080/"
        },
        "outputId": "9ac22781-e51d-49a0-a9fe-0c016f0a2bca"
      },
      "source": [
        "print('Output: ', model.output)"
      ],
      "execution_count": 23,
      "outputs": [
        {
          "output_type": "stream",
          "name": "stdout",
          "text": [
            "Output:  KerasTensor(type_spec=TensorSpec(shape=(None, 10), dtype=tf.float32, name=None), name='dense_2/Softmax:0', description=\"created by layer 'dense_2'\")\n"
          ]
        }
      ]
    },
    {
      "cell_type": "markdown",
      "source": [
        "## 2.1. Exercise\n",
        "Introduce [early stopping](https://www.tensorflow.org/api_docs/python/tf/keras/callbacks/EarlyStopping) and [dropout](https://www.tensorflow.org/api_docs/python/tf/keras/layers/Dropout) with a rate between 0.1..0.5. Tips:\n",
        "\n",
        "* Insert the dropout layer between the two Dense layers.\n",
        "* Set the patience of early stopping to 5.\n",
        "* Set the number of epochs to a very high number.\n",
        "* Don't forget to restore best weights after early stopping.\n",
        "* And also set early stopping to monitor validation accuracy (the default value is validation loss -- which is categorical crossentropy now).\n",
        "\n",
        "Compile and train the model. Attempt to increase the validation accuracy as much as possible by making changes to the dropout rate. Inspect the effects of the modifications."
      ],
      "metadata": {
        "id": "E-hHfs9qA_iO"
      }
    },
    {
      "cell_type": "code",
      "source": [
        "es = EarlyStopping(monitor='val_accuracy', patience=5, restore_best_weights=True)"
      ],
      "metadata": {
        "id": "NwXrPzOgEBG-"
      },
      "execution_count": 24,
      "outputs": []
    },
    {
      "cell_type": "code",
      "source": [
        "# model definition with dropout\n",
        "model = Sequential()\n",
        "model.add(Dense(128, activation='tanh', input_shape=(flattened_dim,)))\n",
        "model.add(Dropout(0.3))  # I consider a dropout rate of 0.3\n",
        "model.add(Dense(128, activation='tanh'))\n",
        "model.add(Dense(nb_classes, activation='softmax'))\n",
        "\n",
        "# loss function and optimizer\n",
        "model.compile(loss='categorical_crossentropy', optimizer='adam', metrics=['accuracy'])"
      ],
      "metadata": {
        "id": "7hZEGzj8GFwP"
      },
      "execution_count": 25,
      "outputs": []
    },
    {
      "cell_type": "code",
      "source": [
        "# training with early stopping\n",
        "network_history = model.fit(X_train, Y_train,\n",
        "                            validation_data=(X_valid, Y_valid),\n",
        "                            batch_size=128,\n",
        "                            epochs=1000,\n",
        "                            verbose=1,\n",
        "                            callbacks=[es])"
      ],
      "metadata": {
        "id": "GCG54R-vGGWj",
        "colab": {
          "base_uri": "https://localhost:8080/"
        },
        "outputId": "e66f7c22-ce00-491d-844f-a391ca76c200"
      },
      "execution_count": 26,
      "outputs": [
        {
          "output_type": "stream",
          "name": "stdout",
          "text": [
            "Epoch 1/1000\n",
            "313/313 [==============================] - 4s 6ms/step - loss: 1.8841 - accuracy: 0.3334 - val_loss: 1.7800 - val_accuracy: 0.3775\n",
            "Epoch 2/1000\n",
            "313/313 [==============================] - 1s 4ms/step - loss: 1.7796 - accuracy: 0.3742 - val_loss: 1.7507 - val_accuracy: 0.3877\n",
            "Epoch 3/1000\n",
            "313/313 [==============================] - 1s 4ms/step - loss: 1.7352 - accuracy: 0.3917 - val_loss: 1.7074 - val_accuracy: 0.4028\n",
            "Epoch 4/1000\n",
            "313/313 [==============================] - 1s 4ms/step - loss: 1.6995 - accuracy: 0.4080 - val_loss: 1.6997 - val_accuracy: 0.4045\n",
            "Epoch 5/1000\n",
            "313/313 [==============================] - 1s 4ms/step - loss: 1.6743 - accuracy: 0.4169 - val_loss: 1.6709 - val_accuracy: 0.4159\n",
            "Epoch 6/1000\n",
            "313/313 [==============================] - 2s 6ms/step - loss: 1.6525 - accuracy: 0.4209 - val_loss: 1.6648 - val_accuracy: 0.4202\n",
            "Epoch 7/1000\n",
            "313/313 [==============================] - 1s 5ms/step - loss: 1.6336 - accuracy: 0.4286 - val_loss: 1.6486 - val_accuracy: 0.4261\n",
            "Epoch 8/1000\n",
            "313/313 [==============================] - 1s 4ms/step - loss: 1.6111 - accuracy: 0.4380 - val_loss: 1.6380 - val_accuracy: 0.4302\n",
            "Epoch 9/1000\n",
            "313/313 [==============================] - 1s 4ms/step - loss: 1.6018 - accuracy: 0.4398 - val_loss: 1.6272 - val_accuracy: 0.4331\n",
            "Epoch 10/1000\n",
            "313/313 [==============================] - 1s 4ms/step - loss: 1.5832 - accuracy: 0.4474 - val_loss: 1.6187 - val_accuracy: 0.4412\n",
            "Epoch 11/1000\n",
            "313/313 [==============================] - 1s 4ms/step - loss: 1.5739 - accuracy: 0.4520 - val_loss: 1.5985 - val_accuracy: 0.4421\n",
            "Epoch 12/1000\n",
            "313/313 [==============================] - 1s 5ms/step - loss: 1.5582 - accuracy: 0.4538 - val_loss: 1.5951 - val_accuracy: 0.4456\n",
            "Epoch 13/1000\n",
            "313/313 [==============================] - 1s 4ms/step - loss: 1.5471 - accuracy: 0.4584 - val_loss: 1.5839 - val_accuracy: 0.4478\n",
            "Epoch 14/1000\n",
            "313/313 [==============================] - 2s 5ms/step - loss: 1.5356 - accuracy: 0.4618 - val_loss: 1.5858 - val_accuracy: 0.4472\n",
            "Epoch 15/1000\n",
            "313/313 [==============================] - 2s 5ms/step - loss: 1.5225 - accuracy: 0.4669 - val_loss: 1.5879 - val_accuracy: 0.4489\n",
            "Epoch 16/1000\n",
            "313/313 [==============================] - 1s 5ms/step - loss: 1.5129 - accuracy: 0.4706 - val_loss: 1.5705 - val_accuracy: 0.4484\n",
            "Epoch 17/1000\n",
            "313/313 [==============================] - 1s 4ms/step - loss: 1.5014 - accuracy: 0.4744 - val_loss: 1.5595 - val_accuracy: 0.4562\n",
            "Epoch 18/1000\n",
            "313/313 [==============================] - 1s 4ms/step - loss: 1.4926 - accuracy: 0.4769 - val_loss: 1.5653 - val_accuracy: 0.4523\n",
            "Epoch 19/1000\n",
            "313/313 [==============================] - 1s 4ms/step - loss: 1.4804 - accuracy: 0.4794 - val_loss: 1.5552 - val_accuracy: 0.4548\n",
            "Epoch 20/1000\n",
            "313/313 [==============================] - 1s 5ms/step - loss: 1.4770 - accuracy: 0.4831 - val_loss: 1.5510 - val_accuracy: 0.4558\n",
            "Epoch 21/1000\n",
            "313/313 [==============================] - 1s 5ms/step - loss: 1.4639 - accuracy: 0.4859 - val_loss: 1.5554 - val_accuracy: 0.4549\n",
            "Epoch 22/1000\n",
            "313/313 [==============================] - 1s 5ms/step - loss: 1.4641 - accuracy: 0.4878 - val_loss: 1.5466 - val_accuracy: 0.4605\n",
            "Epoch 23/1000\n",
            "313/313 [==============================] - 3s 8ms/step - loss: 1.4496 - accuracy: 0.4891 - val_loss: 1.5317 - val_accuracy: 0.4642\n",
            "Epoch 24/1000\n",
            "313/313 [==============================] - 2s 5ms/step - loss: 1.4460 - accuracy: 0.4882 - val_loss: 1.5355 - val_accuracy: 0.4638\n",
            "Epoch 25/1000\n",
            "313/313 [==============================] - 1s 4ms/step - loss: 1.4407 - accuracy: 0.4936 - val_loss: 1.5282 - val_accuracy: 0.4676\n",
            "Epoch 26/1000\n",
            "313/313 [==============================] - 1s 5ms/step - loss: 1.4264 - accuracy: 0.4998 - val_loss: 1.5276 - val_accuracy: 0.4720\n",
            "Epoch 27/1000\n",
            "313/313 [==============================] - 1s 4ms/step - loss: 1.4237 - accuracy: 0.4992 - val_loss: 1.5182 - val_accuracy: 0.4768\n",
            "Epoch 28/1000\n",
            "313/313 [==============================] - 1s 4ms/step - loss: 1.4161 - accuracy: 0.4989 - val_loss: 1.5254 - val_accuracy: 0.4649\n",
            "Epoch 29/1000\n",
            "313/313 [==============================] - 1s 4ms/step - loss: 1.4145 - accuracy: 0.4994 - val_loss: 1.5226 - val_accuracy: 0.4709\n",
            "Epoch 30/1000\n",
            "313/313 [==============================] - 1s 5ms/step - loss: 1.4050 - accuracy: 0.5049 - val_loss: 1.5205 - val_accuracy: 0.4683\n",
            "Epoch 31/1000\n",
            "313/313 [==============================] - 2s 6ms/step - loss: 1.3886 - accuracy: 0.5110 - val_loss: 1.5159 - val_accuracy: 0.4766\n",
            "Epoch 32/1000\n",
            "313/313 [==============================] - 1s 5ms/step - loss: 1.3926 - accuracy: 0.5093 - val_loss: 1.5255 - val_accuracy: 0.4663\n"
          ]
        }
      ]
    },
    {
      "cell_type": "markdown",
      "source": [
        "## 2.2 Exercise\n",
        "Change the [activation function of the dense layers (except the last one)](https://www.tensorflow.org/api_docs/python/tf/keras/layers/Dense) to rectified linear unit (ReLU) and the [weight initialization](https://www.tensorflow.org/api_docs/python/tf/keras/initializers) to the theoretically best one. Use the original model's code.\n",
        "\n",
        "Compile and train the model. Inspect the effects of the modifications."
      ],
      "metadata": {
        "id": "zQCDM1o1BBtF"
      }
    },
    {
      "cell_type": "code",
      "source": [
        "# model definition with relu\n",
        "model = Sequential()\n",
        "model.add(Dense(128, activation='relu', kernel_initializer=HeNormal(), input_shape=(flattened_dim,)))\n",
        "model.add(Dense(128, activation='relu', kernel_initializer=HeNormal()))\n",
        "model.add(Dense(nb_classes, activation='softmax'))\n",
        "\n",
        "# loss function and optimizer\n",
        "model.compile(loss='categorical_crossentropy', optimizer='adam', metrics=['accuracy'])"
      ],
      "metadata": {
        "id": "YjHAAh-wGu9O"
      },
      "execution_count": 27,
      "outputs": []
    },
    {
      "cell_type": "code",
      "source": [
        "# training\n",
        "network_history = model.fit(X_train, Y_train,\n",
        "                            validation_data=(X_valid, Y_valid),\n",
        "                            batch_size=128,\n",
        "                            epochs=40,\n",
        "                            verbose=1)"
      ],
      "metadata": {
        "id": "rarwKM1wGxMz",
        "colab": {
          "base_uri": "https://localhost:8080/"
        },
        "outputId": "ff011149-3cd7-48e5-9898-edb31f38de4e"
      },
      "execution_count": 28,
      "outputs": [
        {
          "output_type": "stream",
          "name": "stdout",
          "text": [
            "Epoch 1/40\n",
            "313/313 [==============================] - 4s 6ms/step - loss: 1.8133 - accuracy: 0.3814 - val_loss: 1.6732 - val_accuracy: 0.4159\n",
            "Epoch 2/40\n",
            "313/313 [==============================] - 1s 4ms/step - loss: 1.5290 - accuracy: 0.4666 - val_loss: 1.5794 - val_accuracy: 0.4482\n",
            "Epoch 3/40\n",
            "313/313 [==============================] - 1s 4ms/step - loss: 1.4161 - accuracy: 0.5028 - val_loss: 1.5279 - val_accuracy: 0.4676\n",
            "Epoch 4/40\n",
            "313/313 [==============================] - 1s 4ms/step - loss: 1.3308 - accuracy: 0.5342 - val_loss: 1.5259 - val_accuracy: 0.4720\n",
            "Epoch 5/40\n",
            "313/313 [==============================] - 1s 4ms/step - loss: 1.2684 - accuracy: 0.5537 - val_loss: 1.5268 - val_accuracy: 0.4780\n",
            "Epoch 6/40\n",
            "313/313 [==============================] - 1s 4ms/step - loss: 1.2064 - accuracy: 0.5737 - val_loss: 1.5343 - val_accuracy: 0.4801\n",
            "Epoch 7/40\n",
            "313/313 [==============================] - 1s 4ms/step - loss: 1.1582 - accuracy: 0.5930 - val_loss: 1.5163 - val_accuracy: 0.4870\n",
            "Epoch 8/40\n",
            "313/313 [==============================] - 2s 5ms/step - loss: 1.1015 - accuracy: 0.6102 - val_loss: 1.5272 - val_accuracy: 0.4882\n",
            "Epoch 9/40\n",
            "313/313 [==============================] - 2s 5ms/step - loss: 1.0607 - accuracy: 0.6263 - val_loss: 1.5666 - val_accuracy: 0.4899\n",
            "Epoch 10/40\n",
            "313/313 [==============================] - 1s 4ms/step - loss: 1.0173 - accuracy: 0.6389 - val_loss: 1.5686 - val_accuracy: 0.4949\n",
            "Epoch 11/40\n",
            "313/313 [==============================] - 1s 4ms/step - loss: 0.9785 - accuracy: 0.6536 - val_loss: 1.5970 - val_accuracy: 0.4902\n",
            "Epoch 12/40\n",
            "313/313 [==============================] - 2s 6ms/step - loss: 0.9339 - accuracy: 0.6708 - val_loss: 1.6313 - val_accuracy: 0.4919\n",
            "Epoch 13/40\n",
            "313/313 [==============================] - 1s 5ms/step - loss: 0.8946 - accuracy: 0.6851 - val_loss: 1.6801 - val_accuracy: 0.4877\n",
            "Epoch 14/40\n",
            "313/313 [==============================] - 1s 4ms/step - loss: 0.8530 - accuracy: 0.6975 - val_loss: 1.6861 - val_accuracy: 0.4955\n",
            "Epoch 15/40\n",
            "313/313 [==============================] - 1s 4ms/step - loss: 0.8252 - accuracy: 0.7095 - val_loss: 1.7387 - val_accuracy: 0.4947\n",
            "Epoch 16/40\n",
            "313/313 [==============================] - 1s 5ms/step - loss: 0.7897 - accuracy: 0.7221 - val_loss: 1.8043 - val_accuracy: 0.4843\n",
            "Epoch 17/40\n",
            "313/313 [==============================] - 2s 6ms/step - loss: 0.7573 - accuracy: 0.7330 - val_loss: 1.8286 - val_accuracy: 0.4904\n",
            "Epoch 18/40\n",
            "313/313 [==============================] - 1s 4ms/step - loss: 0.7315 - accuracy: 0.7398 - val_loss: 1.8944 - val_accuracy: 0.4793\n",
            "Epoch 19/40\n",
            "313/313 [==============================] - 1s 4ms/step - loss: 0.6979 - accuracy: 0.7530 - val_loss: 1.9451 - val_accuracy: 0.4838\n",
            "Epoch 20/40\n",
            "313/313 [==============================] - 1s 4ms/step - loss: 0.6686 - accuracy: 0.7649 - val_loss: 1.9791 - val_accuracy: 0.4803\n",
            "Epoch 21/40\n",
            "313/313 [==============================] - 1s 4ms/step - loss: 0.6355 - accuracy: 0.7745 - val_loss: 2.0619 - val_accuracy: 0.4832\n",
            "Epoch 22/40\n",
            "313/313 [==============================] - 1s 4ms/step - loss: 0.6164 - accuracy: 0.7835 - val_loss: 2.0709 - val_accuracy: 0.4881\n",
            "Epoch 23/40\n",
            "313/313 [==============================] - 1s 4ms/step - loss: 0.5844 - accuracy: 0.7920 - val_loss: 2.1688 - val_accuracy: 0.4861\n",
            "Epoch 24/40\n",
            "313/313 [==============================] - 1s 5ms/step - loss: 0.5777 - accuracy: 0.7960 - val_loss: 2.2146 - val_accuracy: 0.4722\n",
            "Epoch 25/40\n",
            "313/313 [==============================] - 2s 6ms/step - loss: 0.5437 - accuracy: 0.8062 - val_loss: 2.2572 - val_accuracy: 0.4816\n",
            "Epoch 26/40\n",
            "313/313 [==============================] - 2s 5ms/step - loss: 0.5326 - accuracy: 0.8105 - val_loss: 2.3323 - val_accuracy: 0.4783\n",
            "Epoch 27/40\n",
            "313/313 [==============================] - 1s 4ms/step - loss: 0.5148 - accuracy: 0.8159 - val_loss: 2.3524 - val_accuracy: 0.4829\n",
            "Epoch 28/40\n",
            "313/313 [==============================] - 1s 4ms/step - loss: 0.4817 - accuracy: 0.8290 - val_loss: 2.4205 - val_accuracy: 0.4847\n",
            "Epoch 29/40\n",
            "313/313 [==============================] - 1s 4ms/step - loss: 0.4675 - accuracy: 0.8347 - val_loss: 2.5002 - val_accuracy: 0.4785\n",
            "Epoch 30/40\n",
            "313/313 [==============================] - 1s 4ms/step - loss: 0.4593 - accuracy: 0.8371 - val_loss: 2.5270 - val_accuracy: 0.4738\n",
            "Epoch 31/40\n",
            "313/313 [==============================] - 1s 4ms/step - loss: 0.4335 - accuracy: 0.8474 - val_loss: 2.6403 - val_accuracy: 0.4737\n",
            "Epoch 32/40\n",
            "313/313 [==============================] - 1s 5ms/step - loss: 0.4343 - accuracy: 0.8472 - val_loss: 2.7461 - val_accuracy: 0.4717\n",
            "Epoch 33/40\n",
            "313/313 [==============================] - 2s 5ms/step - loss: 0.4068 - accuracy: 0.8573 - val_loss: 2.7434 - val_accuracy: 0.4748\n",
            "Epoch 34/40\n",
            "313/313 [==============================] - 2s 5ms/step - loss: 0.4040 - accuracy: 0.8567 - val_loss: 2.7632 - val_accuracy: 0.4748\n",
            "Epoch 35/40\n",
            "313/313 [==============================] - 1s 4ms/step - loss: 0.3785 - accuracy: 0.8682 - val_loss: 2.8849 - val_accuracy: 0.4701\n",
            "Epoch 36/40\n",
            "313/313 [==============================] - 1s 5ms/step - loss: 0.3868 - accuracy: 0.8616 - val_loss: 2.9681 - val_accuracy: 0.4783\n",
            "Epoch 37/40\n",
            "313/313 [==============================] - 1s 4ms/step - loss: 0.3496 - accuracy: 0.8755 - val_loss: 2.9831 - val_accuracy: 0.4768\n",
            "Epoch 38/40\n",
            "313/313 [==============================] - 1s 4ms/step - loss: 0.3431 - accuracy: 0.8793 - val_loss: 3.0662 - val_accuracy: 0.4628\n",
            "Epoch 39/40\n",
            "313/313 [==============================] - 1s 4ms/step - loss: 0.3434 - accuracy: 0.8797 - val_loss: 3.1505 - val_accuracy: 0.4714\n",
            "Epoch 40/40\n",
            "313/313 [==============================] - 1s 5ms/step - loss: 0.3383 - accuracy: 0.8818 - val_loss: 3.2390 - val_accuracy: 0.4715\n"
          ]
        }
      ]
    },
    {
      "cell_type": "markdown",
      "source": [
        "# 2.3. Exercise\n",
        "Based on the modifications above, and by any further modifications (e.g. more layers, less layers, more neurons/layer, etc.) to the model design, find a combination that is able to achieve **validation accuracy, that is higher than 53%**.\n"
      ],
      "metadata": {
        "id": "j1tGVPdD-pp3"
      }
    },
    {
      "cell_type": "code",
      "source": [
        "es = EarlyStopping(monitor='val_accuracy', patience=10, restore_best_weights=True)"
      ],
      "metadata": {
        "id": "5dBQxJHIHrbd"
      },
      "execution_count": 29,
      "outputs": []
    },
    {
      "cell_type": "code",
      "source": [
        "from tensorflow.keras.layers import BatchNormalization\n",
        "\n",
        "# model definition\n",
        "model = Sequential([\n",
        "    Dense(512, activation='relu', kernel_initializer=HeNormal(), input_shape=(flattened_dim,)),\n",
        "    BatchNormalization(),\n",
        "    Dropout(0.25),\n",
        "    Dense(256, activation='relu', kernel_initializer=HeNormal()),\n",
        "    BatchNormalization(),\n",
        "    Dropout(0.25),\n",
        "    Dense(128, activation='relu', kernel_initializer=HeNormal()),\n",
        "    BatchNormalization(),\n",
        "    Dropout(0.25),\n",
        "    Dense(64, activation='relu', kernel_initializer=HeNormal()),\n",
        "    BatchNormalization(),\n",
        "    Dropout(0.25),\n",
        "    Dense(32, activation='relu', kernel_initializer=HeNormal()),\n",
        "    BatchNormalization(),\n",
        "    Dropout(0.25),\n",
        "    Dense(nb_classes, activation='softmax')\n",
        "])\n",
        "\n",
        "# loss function and optimizer\n",
        "model.compile(loss='categorical_crossentropy', optimizer = 'adam', metrics=['accuracy'])\n"
      ],
      "metadata": {
        "id": "PuxHOqLt-3Nd"
      },
      "execution_count": 30,
      "outputs": []
    },
    {
      "cell_type": "code",
      "source": [
        "# training\n",
        "network_history = model.fit(X_train, Y_train, validation_data=(X_valid, Y_valid),\n",
        "                            batch_size=128, epochs=100, verbose=1, callbacks=[es])"
      ],
      "metadata": {
        "id": "u8tFNCNVHyt9",
        "colab": {
          "base_uri": "https://localhost:8080/"
        },
        "outputId": "a2b450fb-1d3a-4c9e-b37c-5f6658105e95"
      },
      "execution_count": 31,
      "outputs": [
        {
          "output_type": "stream",
          "name": "stdout",
          "text": [
            "Epoch 1/100\n",
            "313/313 [==============================] - 9s 11ms/step - loss: 2.1191 - accuracy: 0.2578 - val_loss: 1.7282 - val_accuracy: 0.3797\n",
            "Epoch 2/100\n",
            "313/313 [==============================] - 3s 9ms/step - loss: 1.7834 - accuracy: 0.3585 - val_loss: 1.5971 - val_accuracy: 0.4209\n",
            "Epoch 3/100\n",
            "313/313 [==============================] - 3s 10ms/step - loss: 1.6678 - accuracy: 0.4004 - val_loss: 1.5258 - val_accuracy: 0.4512\n",
            "Epoch 4/100\n",
            "313/313 [==============================] - 3s 10ms/step - loss: 1.5950 - accuracy: 0.4336 - val_loss: 1.4770 - val_accuracy: 0.4730\n",
            "Epoch 5/100\n",
            "313/313 [==============================] - 3s 9ms/step - loss: 1.5501 - accuracy: 0.4520 - val_loss: 1.4488 - val_accuracy: 0.4860\n",
            "Epoch 6/100\n",
            "313/313 [==============================] - 3s 9ms/step - loss: 1.5009 - accuracy: 0.4693 - val_loss: 1.4282 - val_accuracy: 0.4862\n",
            "Epoch 7/100\n",
            "313/313 [==============================] - 3s 11ms/step - loss: 1.4652 - accuracy: 0.4839 - val_loss: 1.4021 - val_accuracy: 0.4979\n",
            "Epoch 8/100\n",
            "313/313 [==============================] - 3s 10ms/step - loss: 1.4261 - accuracy: 0.5006 - val_loss: 1.3830 - val_accuracy: 0.5102\n",
            "Epoch 9/100\n",
            "313/313 [==============================] - 3s 9ms/step - loss: 1.4036 - accuracy: 0.5099 - val_loss: 1.3668 - val_accuracy: 0.5206\n",
            "Epoch 10/100\n",
            "313/313 [==============================] - 3s 9ms/step - loss: 1.3739 - accuracy: 0.5153 - val_loss: 1.3302 - val_accuracy: 0.5333\n",
            "Epoch 11/100\n",
            "313/313 [==============================] - 3s 10ms/step - loss: 1.3445 - accuracy: 0.5258 - val_loss: 1.3444 - val_accuracy: 0.5282\n",
            "Epoch 12/100\n",
            "313/313 [==============================] - 3s 10ms/step - loss: 1.3271 - accuracy: 0.5393 - val_loss: 1.3541 - val_accuracy: 0.5204\n",
            "Epoch 13/100\n",
            "313/313 [==============================] - 3s 9ms/step - loss: 1.3031 - accuracy: 0.5459 - val_loss: 1.3170 - val_accuracy: 0.5360\n",
            "Epoch 14/100\n",
            "313/313 [==============================] - 3s 9ms/step - loss: 1.2730 - accuracy: 0.5598 - val_loss: 1.3203 - val_accuracy: 0.5382\n",
            "Epoch 15/100\n",
            "313/313 [==============================] - 3s 11ms/step - loss: 1.2559 - accuracy: 0.5648 - val_loss: 1.3059 - val_accuracy: 0.5399\n",
            "Epoch 16/100\n",
            "313/313 [==============================] - 3s 10ms/step - loss: 1.2408 - accuracy: 0.5711 - val_loss: 1.3142 - val_accuracy: 0.5445\n",
            "Epoch 17/100\n",
            "313/313 [==============================] - 3s 9ms/step - loss: 1.2174 - accuracy: 0.5773 - val_loss: 1.3295 - val_accuracy: 0.5454\n",
            "Epoch 18/100\n",
            "313/313 [==============================] - 3s 9ms/step - loss: 1.1980 - accuracy: 0.5844 - val_loss: 1.3099 - val_accuracy: 0.5452\n",
            "Epoch 19/100\n",
            "313/313 [==============================] - 3s 11ms/step - loss: 1.1748 - accuracy: 0.5958 - val_loss: 1.2843 - val_accuracy: 0.5507\n",
            "Epoch 20/100\n",
            "313/313 [==============================] - 3s 9ms/step - loss: 1.1616 - accuracy: 0.5997 - val_loss: 1.2826 - val_accuracy: 0.5543\n",
            "Epoch 21/100\n",
            "313/313 [==============================] - 3s 9ms/step - loss: 1.1486 - accuracy: 0.6048 - val_loss: 1.2868 - val_accuracy: 0.5518\n",
            "Epoch 22/100\n",
            "313/313 [==============================] - 3s 10ms/step - loss: 1.1266 - accuracy: 0.6118 - val_loss: 1.2804 - val_accuracy: 0.5588\n",
            "Epoch 23/100\n",
            "313/313 [==============================] - 3s 11ms/step - loss: 1.1027 - accuracy: 0.6217 - val_loss: 1.2779 - val_accuracy: 0.5584\n",
            "Epoch 24/100\n",
            "313/313 [==============================] - 3s 9ms/step - loss: 1.0979 - accuracy: 0.6269 - val_loss: 1.2763 - val_accuracy: 0.5608\n",
            "Epoch 25/100\n",
            "313/313 [==============================] - 3s 9ms/step - loss: 1.0829 - accuracy: 0.6274 - val_loss: 1.2991 - val_accuracy: 0.5558\n",
            "Epoch 26/100\n",
            "313/313 [==============================] - 3s 9ms/step - loss: 1.0575 - accuracy: 0.6339 - val_loss: 1.2835 - val_accuracy: 0.5604\n",
            "Epoch 27/100\n",
            "313/313 [==============================] - 4s 12ms/step - loss: 1.0531 - accuracy: 0.6411 - val_loss: 1.2696 - val_accuracy: 0.5654\n",
            "Epoch 28/100\n",
            "313/313 [==============================] - 3s 10ms/step - loss: 1.0299 - accuracy: 0.6495 - val_loss: 1.3008 - val_accuracy: 0.5628\n",
            "Epoch 29/100\n",
            "313/313 [==============================] - 3s 9ms/step - loss: 1.0168 - accuracy: 0.6538 - val_loss: 1.2818 - val_accuracy: 0.5635\n",
            "Epoch 30/100\n",
            "313/313 [==============================] - 3s 9ms/step - loss: 1.0012 - accuracy: 0.6589 - val_loss: 1.2946 - val_accuracy: 0.5594\n",
            "Epoch 31/100\n",
            "313/313 [==============================] - 3s 11ms/step - loss: 0.9993 - accuracy: 0.6605 - val_loss: 1.2640 - val_accuracy: 0.5703\n",
            "Epoch 32/100\n",
            "313/313 [==============================] - 3s 9ms/step - loss: 0.9863 - accuracy: 0.6653 - val_loss: 1.2869 - val_accuracy: 0.5715\n",
            "Epoch 33/100\n",
            "313/313 [==============================] - 3s 9ms/step - loss: 0.9644 - accuracy: 0.6708 - val_loss: 1.2846 - val_accuracy: 0.5658\n",
            "Epoch 34/100\n",
            "313/313 [==============================] - 3s 9ms/step - loss: 0.9590 - accuracy: 0.6750 - val_loss: 1.3053 - val_accuracy: 0.5662\n",
            "Epoch 35/100\n",
            "313/313 [==============================] - 3s 11ms/step - loss: 0.9416 - accuracy: 0.6809 - val_loss: 1.2841 - val_accuracy: 0.5707\n",
            "Epoch 36/100\n",
            "313/313 [==============================] - 3s 9ms/step - loss: 0.9341 - accuracy: 0.6861 - val_loss: 1.2866 - val_accuracy: 0.5679\n",
            "Epoch 37/100\n",
            "313/313 [==============================] - 3s 9ms/step - loss: 0.9178 - accuracy: 0.6899 - val_loss: 1.2893 - val_accuracy: 0.5692\n",
            "Epoch 38/100\n",
            "313/313 [==============================] - 3s 9ms/step - loss: 0.9114 - accuracy: 0.6902 - val_loss: 1.2948 - val_accuracy: 0.5738\n",
            "Epoch 39/100\n",
            "313/313 [==============================] - 3s 11ms/step - loss: 0.8919 - accuracy: 0.6976 - val_loss: 1.3114 - val_accuracy: 0.5646\n",
            "Epoch 40/100\n",
            "313/313 [==============================] - 3s 9ms/step - loss: 0.8759 - accuracy: 0.7026 - val_loss: 1.3173 - val_accuracy: 0.5695\n",
            "Epoch 41/100\n",
            "313/313 [==============================] - 3s 9ms/step - loss: 0.8773 - accuracy: 0.7023 - val_loss: 1.3072 - val_accuracy: 0.5740\n",
            "Epoch 42/100\n",
            "313/313 [==============================] - 3s 9ms/step - loss: 0.8670 - accuracy: 0.7070 - val_loss: 1.3283 - val_accuracy: 0.5641\n",
            "Epoch 43/100\n",
            "313/313 [==============================] - 3s 11ms/step - loss: 0.8629 - accuracy: 0.7066 - val_loss: 1.2923 - val_accuracy: 0.5718\n",
            "Epoch 44/100\n",
            "313/313 [==============================] - 3s 9ms/step - loss: 0.8492 - accuracy: 0.7105 - val_loss: 1.2907 - val_accuracy: 0.5720\n",
            "Epoch 45/100\n",
            "313/313 [==============================] - 3s 9ms/step - loss: 0.8375 - accuracy: 0.7162 - val_loss: 1.3098 - val_accuracy: 0.5740\n",
            "Epoch 46/100\n",
            "313/313 [==============================] - 3s 9ms/step - loss: 0.8227 - accuracy: 0.7236 - val_loss: 1.3240 - val_accuracy: 0.5674\n",
            "Epoch 47/100\n",
            "313/313 [==============================] - 3s 11ms/step - loss: 0.8169 - accuracy: 0.7261 - val_loss: 1.3309 - val_accuracy: 0.5756\n",
            "Epoch 48/100\n",
            "313/313 [==============================] - 3s 9ms/step - loss: 0.8026 - accuracy: 0.7295 - val_loss: 1.3328 - val_accuracy: 0.5730\n",
            "Epoch 49/100\n",
            "313/313 [==============================] - 3s 9ms/step - loss: 0.7937 - accuracy: 0.7337 - val_loss: 1.3136 - val_accuracy: 0.5748\n",
            "Epoch 50/100\n",
            "313/313 [==============================] - 3s 9ms/step - loss: 0.7904 - accuracy: 0.7338 - val_loss: 1.3300 - val_accuracy: 0.5748\n",
            "Epoch 51/100\n",
            "313/313 [==============================] - 3s 11ms/step - loss: 0.7889 - accuracy: 0.7351 - val_loss: 1.3424 - val_accuracy: 0.5727\n",
            "Epoch 52/100\n",
            "313/313 [==============================] - 3s 9ms/step - loss: 0.7697 - accuracy: 0.7412 - val_loss: 1.3478 - val_accuracy: 0.5675\n",
            "Epoch 53/100\n",
            "313/313 [==============================] - 3s 9ms/step - loss: 0.7625 - accuracy: 0.7458 - val_loss: 1.3395 - val_accuracy: 0.5709\n",
            "Epoch 54/100\n",
            "313/313 [==============================] - 3s 9ms/step - loss: 0.7619 - accuracy: 0.7477 - val_loss: 1.3538 - val_accuracy: 0.5712\n",
            "Epoch 55/100\n",
            "313/313 [==============================] - 4s 11ms/step - loss: 0.7494 - accuracy: 0.7481 - val_loss: 1.3506 - val_accuracy: 0.5716\n",
            "Epoch 56/100\n",
            "313/313 [==============================] - 3s 9ms/step - loss: 0.7445 - accuracy: 0.7498 - val_loss: 1.3787 - val_accuracy: 0.5758\n",
            "Epoch 57/100\n",
            "313/313 [==============================] - 3s 9ms/step - loss: 0.7436 - accuracy: 0.7537 - val_loss: 1.3554 - val_accuracy: 0.5715\n",
            "Epoch 58/100\n",
            "313/313 [==============================] - 3s 9ms/step - loss: 0.7260 - accuracy: 0.7592 - val_loss: 1.3706 - val_accuracy: 0.5703\n",
            "Epoch 59/100\n",
            "313/313 [==============================] - 3s 11ms/step - loss: 0.7245 - accuracy: 0.7596 - val_loss: 1.3589 - val_accuracy: 0.5683\n",
            "Epoch 60/100\n",
            "313/313 [==============================] - 3s 10ms/step - loss: 0.7100 - accuracy: 0.7621 - val_loss: 1.3757 - val_accuracy: 0.5763\n",
            "Epoch 61/100\n",
            "313/313 [==============================] - 3s 9ms/step - loss: 0.7084 - accuracy: 0.7634 - val_loss: 1.3723 - val_accuracy: 0.5733\n",
            "Epoch 62/100\n",
            "313/313 [==============================] - 3s 10ms/step - loss: 0.7075 - accuracy: 0.7624 - val_loss: 1.3673 - val_accuracy: 0.5726\n",
            "Epoch 63/100\n",
            "313/313 [==============================] - 3s 11ms/step - loss: 0.6903 - accuracy: 0.7684 - val_loss: 1.3853 - val_accuracy: 0.5721\n",
            "Epoch 64/100\n",
            "313/313 [==============================] - 3s 9ms/step - loss: 0.6898 - accuracy: 0.7716 - val_loss: 1.3940 - val_accuracy: 0.5729\n",
            "Epoch 65/100\n",
            "313/313 [==============================] - 3s 9ms/step - loss: 0.6818 - accuracy: 0.7745 - val_loss: 1.3871 - val_accuracy: 0.5685\n",
            "Epoch 66/100\n",
            "313/313 [==============================] - 3s 9ms/step - loss: 0.6725 - accuracy: 0.7753 - val_loss: 1.3928 - val_accuracy: 0.5728\n",
            "Epoch 67/100\n",
            "313/313 [==============================] - 3s 11ms/step - loss: 0.6663 - accuracy: 0.7808 - val_loss: 1.4030 - val_accuracy: 0.5748\n",
            "Epoch 68/100\n",
            "313/313 [==============================] - 3s 9ms/step - loss: 0.6643 - accuracy: 0.7775 - val_loss: 1.4258 - val_accuracy: 0.5756\n",
            "Epoch 69/100\n",
            "313/313 [==============================] - 3s 9ms/step - loss: 0.6591 - accuracy: 0.7806 - val_loss: 1.3979 - val_accuracy: 0.5675\n",
            "Epoch 70/100\n",
            "313/313 [==============================] - 3s 9ms/step - loss: 0.6477 - accuracy: 0.7821 - val_loss: 1.4172 - val_accuracy: 0.5754\n"
          ]
        }
      ]
    },
    {
      "cell_type": "markdown",
      "source": [
        "# 3. Evaluation on test data and inference\n",
        "At this point, we will perform a basic evaluation and inference. With the model.evaluate function, the same metrics are calculated, that were used during training:"
      ],
      "metadata": {
        "id": "2FtKp-a2-A9m"
      }
    },
    {
      "cell_type": "code",
      "source": [
        "print(model.evaluate(X_test, Y_test))"
      ],
      "metadata": {
        "id": "I3_9wgDREUna",
        "colab": {
          "base_uri": "https://localhost:8080/"
        },
        "outputId": "6d12d448-68d0-4364-ec52-3ea173c9d7c8"
      },
      "execution_count": 32,
      "outputs": [
        {
          "output_type": "stream",
          "name": "stdout",
          "text": [
            "313/313 [==============================] - 1s 3ms/step - loss: 1.3874 - accuracy: 0.5690\n",
            "[1.3874173164367676, 0.5690000057220459]\n"
          ]
        }
      ]
    },
    {
      "cell_type": "markdown",
      "source": [
        "we would like to see similar values, as in the validation set. If those are close to each other, then the generalization ability of the model is good (in case of an independent test-set)."
      ],
      "metadata": {
        "id": "ECHguBFtGL7f"
      }
    },
    {
      "cell_type": "markdown",
      "source": [
        "## 3.1. Exercise\n",
        "Predict the class of the first 10 elements in the test set, and compare the predicted values with the actual, target values in the test set. Hints:\n",
        "* you can use [model.predict](https://www.activestate.com/resources/quick-reads/how-to-use-a-model-to-do-predictions-with-keras/) for prediction\n",
        "* from the output you can select the largest value with the [argmax() function of Numpy](https://stackoverflow.com/questions/62358642/convert-one-hot-encoding-back-to-number-label). As there are multiple values, you have to call it with axis=1 parameter.\n",
        "* it is enought to compare the predictions and the targets by printing the values out and inspecting them."
      ],
      "metadata": {
        "id": "0Io4zYJeHjz6"
      }
    },
    {
      "cell_type": "code",
      "source": [
        "preds = model.predict(X_test[:10])\n",
        "preds_dense = np.argmax(preds, axis=1)"
      ],
      "metadata": {
        "id": "XEEyU7exILqF",
        "colab": {
          "base_uri": "https://localhost:8080/"
        },
        "outputId": "2d157fbd-c803-4347-a6c9-aff73eceb61a"
      },
      "execution_count": 33,
      "outputs": [
        {
          "output_type": "stream",
          "name": "stdout",
          "text": [
            "1/1 [==============================] - 0s 249ms/step\n"
          ]
        }
      ]
    },
    {
      "cell_type": "markdown",
      "source": [
        "Before comparision, you have to convert back the one-hot encoded target values the same way, as you converted the output of the neural network to class values with argmax() function."
      ],
      "metadata": {
        "id": "seZTEFI-I5cZ"
      }
    },
    {
      "cell_type": "code",
      "source": [
        "print(\"Target labels:\", np.argmax(Y_test[:10],axis=1))\n",
        "print(\"Predicted labels:\", preds_dense)"
      ],
      "metadata": {
        "id": "PHLvoMuIIkJ6",
        "colab": {
          "base_uri": "https://localhost:8080/"
        },
        "outputId": "492f941f-bf89-4d5b-8a5b-e15277a0115d"
      },
      "execution_count": 34,
      "outputs": [
        {
          "output_type": "stream",
          "name": "stdout",
          "text": [
            "Target labels: [3 8 8 0 6 6 1 6 3 1]\n",
            "Predicted labels: [3 8 0 0 6 6 1 6 5 9]\n"
          ]
        }
      ]
    }
  ]
}